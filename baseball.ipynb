{
  "nbformat": 4,
  "nbformat_minor": 0,
  "metadata": {
    "colab": {
      "provenance": [],
      "authorship_tag": "ABX9TyOTSO19r5W92FFTB0vejQ+d",
      "include_colab_link": true
    },
    "kernelspec": {
      "name": "python3",
      "display_name": "Python 3"
    },
    "language_info": {
      "name": "python"
    }
  },
  "cells": [
    {
      "cell_type": "markdown",
      "metadata": {
        "id": "view-in-github",
        "colab_type": "text"
      },
      "source": [
        "<a href=\"https://colab.research.google.com/github/WellFan/bayesian_with_baseball/blob/main/baseball.ipynb\" target=\"_parent\"><img src=\"https://colab.research.google.com/assets/colab-badge.svg\" alt=\"Open In Colab\"/></a>"
      ]
    },
    {
      "cell_type": "markdown",
      "source": [
        "We are studying Lahman dataset, which contains baseball game datas from MLB.  \n",
        "We will be  \n",
        "1. Using bayesion technique to compute the hitting rate  \n",
        "2. Adding hierarchical model\n",
        "3. Using Stan package\n",
        "\n",
        "to help us understand what bayesian does.\n",
        "\n",
        "\n",
        "---\n"
      ],
      "metadata": {
        "id": "rzyLHpdZr-Ru"
      }
    },
    {
      "cell_type": "code",
      "source": [
        "import pandas as pd\n",
        "import numpy as np"
      ],
      "metadata": {
        "id": "08sT08Jlwmt6"
      },
      "execution_count": 1,
      "outputs": []
    },
    {
      "cell_type": "code",
      "source": [
        "batting = pd.read_csv(\"https://raw.githubusercontent.com/WellFan/bayesian_with_baseball/main/baseballdatabank-2022.2/core/Batting.csv\")\n",
        "pitching = pd.read_csv(\"https://raw.githubusercontent.com/WellFan/bayesian_with_baseball/main/baseballdatabank-2022.2/core/Pitching.csv\")"
      ],
      "metadata": {
        "id": "dTQ6b_YPxf65"
      },
      "execution_count": 2,
      "outputs": []
    },
    {
      "cell_type": "code",
      "source": [
        "batting.head()"
      ],
      "metadata": {
        "colab": {
          "base_uri": "https://localhost:8080/",
          "height": 235
        },
        "id": "7qWe2LO207me",
        "outputId": "73f1fcfd-917b-45fb-ce78-a1993b357133"
      },
      "execution_count": 3,
      "outputs": [
        {
          "output_type": "execute_result",
          "data": {
            "text/plain": [
              "    playerID  yearID  stint teamID lgID   G   AB   R   H  2B  ...   RBI   SB  \\\n",
              "0  abercda01    1871      1    TRO  NaN   1    4   0   0   0  ...   0.0  0.0   \n",
              "1   addybo01    1871      1    RC1  NaN  25  118  30  32   6  ...  13.0  8.0   \n",
              "2  allisar01    1871      1    CL1  NaN  29  137  28  40   4  ...  19.0  3.0   \n",
              "3  allisdo01    1871      1    WS3  NaN  27  133  28  44  10  ...  27.0  1.0   \n",
              "4  ansonca01    1871      1    RC1  NaN  25  120  29  39  11  ...  16.0  6.0   \n",
              "\n",
              "    CS  BB   SO  IBB  HBP  SH  SF  GIDP  \n",
              "0  0.0   0  0.0  NaN  NaN NaN NaN   0.0  \n",
              "1  1.0   4  0.0  NaN  NaN NaN NaN   0.0  \n",
              "2  1.0   2  5.0  NaN  NaN NaN NaN   1.0  \n",
              "3  1.0   0  2.0  NaN  NaN NaN NaN   0.0  \n",
              "4  2.0   2  1.0  NaN  NaN NaN NaN   0.0  \n",
              "\n",
              "[5 rows x 22 columns]"
            ],
            "text/html": [
              "\n",
              "  <div id=\"df-04a4541f-a1b8-4093-997b-23b515590eed\">\n",
              "    <div class=\"colab-df-container\">\n",
              "      <div>\n",
              "<style scoped>\n",
              "    .dataframe tbody tr th:only-of-type {\n",
              "        vertical-align: middle;\n",
              "    }\n",
              "\n",
              "    .dataframe tbody tr th {\n",
              "        vertical-align: top;\n",
              "    }\n",
              "\n",
              "    .dataframe thead th {\n",
              "        text-align: right;\n",
              "    }\n",
              "</style>\n",
              "<table border=\"1\" class=\"dataframe\">\n",
              "  <thead>\n",
              "    <tr style=\"text-align: right;\">\n",
              "      <th></th>\n",
              "      <th>playerID</th>\n",
              "      <th>yearID</th>\n",
              "      <th>stint</th>\n",
              "      <th>teamID</th>\n",
              "      <th>lgID</th>\n",
              "      <th>G</th>\n",
              "      <th>AB</th>\n",
              "      <th>R</th>\n",
              "      <th>H</th>\n",
              "      <th>2B</th>\n",
              "      <th>...</th>\n",
              "      <th>RBI</th>\n",
              "      <th>SB</th>\n",
              "      <th>CS</th>\n",
              "      <th>BB</th>\n",
              "      <th>SO</th>\n",
              "      <th>IBB</th>\n",
              "      <th>HBP</th>\n",
              "      <th>SH</th>\n",
              "      <th>SF</th>\n",
              "      <th>GIDP</th>\n",
              "    </tr>\n",
              "  </thead>\n",
              "  <tbody>\n",
              "    <tr>\n",
              "      <th>0</th>\n",
              "      <td>abercda01</td>\n",
              "      <td>1871</td>\n",
              "      <td>1</td>\n",
              "      <td>TRO</td>\n",
              "      <td>NaN</td>\n",
              "      <td>1</td>\n",
              "      <td>4</td>\n",
              "      <td>0</td>\n",
              "      <td>0</td>\n",
              "      <td>0</td>\n",
              "      <td>...</td>\n",
              "      <td>0.0</td>\n",
              "      <td>0.0</td>\n",
              "      <td>0.0</td>\n",
              "      <td>0</td>\n",
              "      <td>0.0</td>\n",
              "      <td>NaN</td>\n",
              "      <td>NaN</td>\n",
              "      <td>NaN</td>\n",
              "      <td>NaN</td>\n",
              "      <td>0.0</td>\n",
              "    </tr>\n",
              "    <tr>\n",
              "      <th>1</th>\n",
              "      <td>addybo01</td>\n",
              "      <td>1871</td>\n",
              "      <td>1</td>\n",
              "      <td>RC1</td>\n",
              "      <td>NaN</td>\n",
              "      <td>25</td>\n",
              "      <td>118</td>\n",
              "      <td>30</td>\n",
              "      <td>32</td>\n",
              "      <td>6</td>\n",
              "      <td>...</td>\n",
              "      <td>13.0</td>\n",
              "      <td>8.0</td>\n",
              "      <td>1.0</td>\n",
              "      <td>4</td>\n",
              "      <td>0.0</td>\n",
              "      <td>NaN</td>\n",
              "      <td>NaN</td>\n",
              "      <td>NaN</td>\n",
              "      <td>NaN</td>\n",
              "      <td>0.0</td>\n",
              "    </tr>\n",
              "    <tr>\n",
              "      <th>2</th>\n",
              "      <td>allisar01</td>\n",
              "      <td>1871</td>\n",
              "      <td>1</td>\n",
              "      <td>CL1</td>\n",
              "      <td>NaN</td>\n",
              "      <td>29</td>\n",
              "      <td>137</td>\n",
              "      <td>28</td>\n",
              "      <td>40</td>\n",
              "      <td>4</td>\n",
              "      <td>...</td>\n",
              "      <td>19.0</td>\n",
              "      <td>3.0</td>\n",
              "      <td>1.0</td>\n",
              "      <td>2</td>\n",
              "      <td>5.0</td>\n",
              "      <td>NaN</td>\n",
              "      <td>NaN</td>\n",
              "      <td>NaN</td>\n",
              "      <td>NaN</td>\n",
              "      <td>1.0</td>\n",
              "    </tr>\n",
              "    <tr>\n",
              "      <th>3</th>\n",
              "      <td>allisdo01</td>\n",
              "      <td>1871</td>\n",
              "      <td>1</td>\n",
              "      <td>WS3</td>\n",
              "      <td>NaN</td>\n",
              "      <td>27</td>\n",
              "      <td>133</td>\n",
              "      <td>28</td>\n",
              "      <td>44</td>\n",
              "      <td>10</td>\n",
              "      <td>...</td>\n",
              "      <td>27.0</td>\n",
              "      <td>1.0</td>\n",
              "      <td>1.0</td>\n",
              "      <td>0</td>\n",
              "      <td>2.0</td>\n",
              "      <td>NaN</td>\n",
              "      <td>NaN</td>\n",
              "      <td>NaN</td>\n",
              "      <td>NaN</td>\n",
              "      <td>0.0</td>\n",
              "    </tr>\n",
              "    <tr>\n",
              "      <th>4</th>\n",
              "      <td>ansonca01</td>\n",
              "      <td>1871</td>\n",
              "      <td>1</td>\n",
              "      <td>RC1</td>\n",
              "      <td>NaN</td>\n",
              "      <td>25</td>\n",
              "      <td>120</td>\n",
              "      <td>29</td>\n",
              "      <td>39</td>\n",
              "      <td>11</td>\n",
              "      <td>...</td>\n",
              "      <td>16.0</td>\n",
              "      <td>6.0</td>\n",
              "      <td>2.0</td>\n",
              "      <td>2</td>\n",
              "      <td>1.0</td>\n",
              "      <td>NaN</td>\n",
              "      <td>NaN</td>\n",
              "      <td>NaN</td>\n",
              "      <td>NaN</td>\n",
              "      <td>0.0</td>\n",
              "    </tr>\n",
              "  </tbody>\n",
              "</table>\n",
              "<p>5 rows × 22 columns</p>\n",
              "</div>\n",
              "      <button class=\"colab-df-convert\" onclick=\"convertToInteractive('df-04a4541f-a1b8-4093-997b-23b515590eed')\"\n",
              "              title=\"Convert this dataframe to an interactive table.\"\n",
              "              style=\"display:none;\">\n",
              "        \n",
              "  <svg xmlns=\"http://www.w3.org/2000/svg\" height=\"24px\"viewBox=\"0 0 24 24\"\n",
              "       width=\"24px\">\n",
              "    <path d=\"M0 0h24v24H0V0z\" fill=\"none\"/>\n",
              "    <path d=\"M18.56 5.44l.94 2.06.94-2.06 2.06-.94-2.06-.94-.94-2.06-.94 2.06-2.06.94zm-11 1L8.5 8.5l.94-2.06 2.06-.94-2.06-.94L8.5 2.5l-.94 2.06-2.06.94zm10 10l.94 2.06.94-2.06 2.06-.94-2.06-.94-.94-2.06-.94 2.06-2.06.94z\"/><path d=\"M17.41 7.96l-1.37-1.37c-.4-.4-.92-.59-1.43-.59-.52 0-1.04.2-1.43.59L10.3 9.45l-7.72 7.72c-.78.78-.78 2.05 0 2.83L4 21.41c.39.39.9.59 1.41.59.51 0 1.02-.2 1.41-.59l7.78-7.78 2.81-2.81c.8-.78.8-2.07 0-2.86zM5.41 20L4 18.59l7.72-7.72 1.47 1.35L5.41 20z\"/>\n",
              "  </svg>\n",
              "      </button>\n",
              "      \n",
              "  <style>\n",
              "    .colab-df-container {\n",
              "      display:flex;\n",
              "      flex-wrap:wrap;\n",
              "      gap: 12px;\n",
              "    }\n",
              "\n",
              "    .colab-df-convert {\n",
              "      background-color: #E8F0FE;\n",
              "      border: none;\n",
              "      border-radius: 50%;\n",
              "      cursor: pointer;\n",
              "      display: none;\n",
              "      fill: #1967D2;\n",
              "      height: 32px;\n",
              "      padding: 0 0 0 0;\n",
              "      width: 32px;\n",
              "    }\n",
              "\n",
              "    .colab-df-convert:hover {\n",
              "      background-color: #E2EBFA;\n",
              "      box-shadow: 0px 1px 2px rgba(60, 64, 67, 0.3), 0px 1px 3px 1px rgba(60, 64, 67, 0.15);\n",
              "      fill: #174EA6;\n",
              "    }\n",
              "\n",
              "    [theme=dark] .colab-df-convert {\n",
              "      background-color: #3B4455;\n",
              "      fill: #D2E3FC;\n",
              "    }\n",
              "\n",
              "    [theme=dark] .colab-df-convert:hover {\n",
              "      background-color: #434B5C;\n",
              "      box-shadow: 0px 1px 3px 1px rgba(0, 0, 0, 0.15);\n",
              "      filter: drop-shadow(0px 1px 2px rgba(0, 0, 0, 0.3));\n",
              "      fill: #FFFFFF;\n",
              "    }\n",
              "  </style>\n",
              "\n",
              "      <script>\n",
              "        const buttonEl =\n",
              "          document.querySelector('#df-04a4541f-a1b8-4093-997b-23b515590eed button.colab-df-convert');\n",
              "        buttonEl.style.display =\n",
              "          google.colab.kernel.accessAllowed ? 'block' : 'none';\n",
              "\n",
              "        async function convertToInteractive(key) {\n",
              "          const element = document.querySelector('#df-04a4541f-a1b8-4093-997b-23b515590eed');\n",
              "          const dataTable =\n",
              "            await google.colab.kernel.invokeFunction('convertToInteractive',\n",
              "                                                     [key], {});\n",
              "          if (!dataTable) return;\n",
              "\n",
              "          const docLinkHtml = 'Like what you see? Visit the ' +\n",
              "            '<a target=\"_blank\" href=https://colab.research.google.com/notebooks/data_table.ipynb>data table notebook</a>'\n",
              "            + ' to learn more about interactive tables.';\n",
              "          element.innerHTML = '';\n",
              "          dataTable['output_type'] = 'display_data';\n",
              "          await google.colab.output.renderOutput(dataTable, element);\n",
              "          const docLink = document.createElement('div');\n",
              "          docLink.innerHTML = docLinkHtml;\n",
              "          element.appendChild(docLink);\n",
              "        }\n",
              "      </script>\n",
              "    </div>\n",
              "  </div>\n",
              "  "
            ]
          },
          "metadata": {},
          "execution_count": 3
        }
      ]
    },
    {
      "cell_type": "markdown",
      "source": [
        "---\n",
        "Generating \n",
        "\n",
        "\\[H]: hit\n",
        "\n",
        "[AB]: at bat\n",
        "\n",
        "[AVG]: batting average\n",
        "\n",
        "---"
      ],
      "metadata": {
        "id": "cErobld3zKnp"
      }
    },
    {
      "cell_type": "code",
      "source": [
        "career = batting[batting.AB > 0]\n",
        "career = pd.merge(career, pitching, how='outer', on='playerID', indicator=True)\n",
        "career = (career[~(career._merge == 'both')]\n",
        "          .drop('_merge', axis=1).groupby(by='playerID')\n",
        "          .sum()[['H_x', 'AB']]\n",
        "          .assign(average=lambda df:df.H_x / df.AB)\n",
        "          .rename(columns={'H_x':'H', 'average':'AVG'})\n",
        ")\n",
        "career.head()"
      ],
      "metadata": {
        "colab": {
          "base_uri": "https://localhost:8080/",
          "height": 237
        },
        "id": "Wz6VUduGxTig",
        "outputId": "c95c83f6-11ec-4bf1-89bd-41c11c44b542"
      },
      "execution_count": 4,
      "outputs": [
        {
          "output_type": "execute_result",
          "data": {
            "text/plain": [
              "                H       AB       AVG\n",
              "playerID                            \n",
              "aaronha01  3771.0  12364.0  0.304998\n",
              "aaronto01   216.0    944.0  0.228814\n",
              "abadan01      2.0     21.0  0.095238\n",
              "abadijo01    11.0     49.0  0.224490\n",
              "abbated01   772.0   3044.0  0.253614"
            ],
            "text/html": [
              "\n",
              "  <div id=\"df-39e706bb-0d7e-4d52-acdb-9c45b1e6107f\">\n",
              "    <div class=\"colab-df-container\">\n",
              "      <div>\n",
              "<style scoped>\n",
              "    .dataframe tbody tr th:only-of-type {\n",
              "        vertical-align: middle;\n",
              "    }\n",
              "\n",
              "    .dataframe tbody tr th {\n",
              "        vertical-align: top;\n",
              "    }\n",
              "\n",
              "    .dataframe thead th {\n",
              "        text-align: right;\n",
              "    }\n",
              "</style>\n",
              "<table border=\"1\" class=\"dataframe\">\n",
              "  <thead>\n",
              "    <tr style=\"text-align: right;\">\n",
              "      <th></th>\n",
              "      <th>H</th>\n",
              "      <th>AB</th>\n",
              "      <th>AVG</th>\n",
              "    </tr>\n",
              "    <tr>\n",
              "      <th>playerID</th>\n",
              "      <th></th>\n",
              "      <th></th>\n",
              "      <th></th>\n",
              "    </tr>\n",
              "  </thead>\n",
              "  <tbody>\n",
              "    <tr>\n",
              "      <th>aaronha01</th>\n",
              "      <td>3771.0</td>\n",
              "      <td>12364.0</td>\n",
              "      <td>0.304998</td>\n",
              "    </tr>\n",
              "    <tr>\n",
              "      <th>aaronto01</th>\n",
              "      <td>216.0</td>\n",
              "      <td>944.0</td>\n",
              "      <td>0.228814</td>\n",
              "    </tr>\n",
              "    <tr>\n",
              "      <th>abadan01</th>\n",
              "      <td>2.0</td>\n",
              "      <td>21.0</td>\n",
              "      <td>0.095238</td>\n",
              "    </tr>\n",
              "    <tr>\n",
              "      <th>abadijo01</th>\n",
              "      <td>11.0</td>\n",
              "      <td>49.0</td>\n",
              "      <td>0.224490</td>\n",
              "    </tr>\n",
              "    <tr>\n",
              "      <th>abbated01</th>\n",
              "      <td>772.0</td>\n",
              "      <td>3044.0</td>\n",
              "      <td>0.253614</td>\n",
              "    </tr>\n",
              "  </tbody>\n",
              "</table>\n",
              "</div>\n",
              "      <button class=\"colab-df-convert\" onclick=\"convertToInteractive('df-39e706bb-0d7e-4d52-acdb-9c45b1e6107f')\"\n",
              "              title=\"Convert this dataframe to an interactive table.\"\n",
              "              style=\"display:none;\">\n",
              "        \n",
              "  <svg xmlns=\"http://www.w3.org/2000/svg\" height=\"24px\"viewBox=\"0 0 24 24\"\n",
              "       width=\"24px\">\n",
              "    <path d=\"M0 0h24v24H0V0z\" fill=\"none\"/>\n",
              "    <path d=\"M18.56 5.44l.94 2.06.94-2.06 2.06-.94-2.06-.94-.94-2.06-.94 2.06-2.06.94zm-11 1L8.5 8.5l.94-2.06 2.06-.94-2.06-.94L8.5 2.5l-.94 2.06-2.06.94zm10 10l.94 2.06.94-2.06 2.06-.94-2.06-.94-.94-2.06-.94 2.06-2.06.94z\"/><path d=\"M17.41 7.96l-1.37-1.37c-.4-.4-.92-.59-1.43-.59-.52 0-1.04.2-1.43.59L10.3 9.45l-7.72 7.72c-.78.78-.78 2.05 0 2.83L4 21.41c.39.39.9.59 1.41.59.51 0 1.02-.2 1.41-.59l7.78-7.78 2.81-2.81c.8-.78.8-2.07 0-2.86zM5.41 20L4 18.59l7.72-7.72 1.47 1.35L5.41 20z\"/>\n",
              "  </svg>\n",
              "      </button>\n",
              "      \n",
              "  <style>\n",
              "    .colab-df-container {\n",
              "      display:flex;\n",
              "      flex-wrap:wrap;\n",
              "      gap: 12px;\n",
              "    }\n",
              "\n",
              "    .colab-df-convert {\n",
              "      background-color: #E8F0FE;\n",
              "      border: none;\n",
              "      border-radius: 50%;\n",
              "      cursor: pointer;\n",
              "      display: none;\n",
              "      fill: #1967D2;\n",
              "      height: 32px;\n",
              "      padding: 0 0 0 0;\n",
              "      width: 32px;\n",
              "    }\n",
              "\n",
              "    .colab-df-convert:hover {\n",
              "      background-color: #E2EBFA;\n",
              "      box-shadow: 0px 1px 2px rgba(60, 64, 67, 0.3), 0px 1px 3px 1px rgba(60, 64, 67, 0.15);\n",
              "      fill: #174EA6;\n",
              "    }\n",
              "\n",
              "    [theme=dark] .colab-df-convert {\n",
              "      background-color: #3B4455;\n",
              "      fill: #D2E3FC;\n",
              "    }\n",
              "\n",
              "    [theme=dark] .colab-df-convert:hover {\n",
              "      background-color: #434B5C;\n",
              "      box-shadow: 0px 1px 3px 1px rgba(0, 0, 0, 0.15);\n",
              "      filter: drop-shadow(0px 1px 2px rgba(0, 0, 0, 0.3));\n",
              "      fill: #FFFFFF;\n",
              "    }\n",
              "  </style>\n",
              "\n",
              "      <script>\n",
              "        const buttonEl =\n",
              "          document.querySelector('#df-39e706bb-0d7e-4d52-acdb-9c45b1e6107f button.colab-df-convert');\n",
              "        buttonEl.style.display =\n",
              "          google.colab.kernel.accessAllowed ? 'block' : 'none';\n",
              "\n",
              "        async function convertToInteractive(key) {\n",
              "          const element = document.querySelector('#df-39e706bb-0d7e-4d52-acdb-9c45b1e6107f');\n",
              "          const dataTable =\n",
              "            await google.colab.kernel.invokeFunction('convertToInteractive',\n",
              "                                                     [key], {});\n",
              "          if (!dataTable) return;\n",
              "\n",
              "          const docLinkHtml = 'Like what you see? Visit the ' +\n",
              "            '<a target=\"_blank\" href=https://colab.research.google.com/notebooks/data_table.ipynb>data table notebook</a>'\n",
              "            + ' to learn more about interactive tables.';\n",
              "          element.innerHTML = '';\n",
              "          dataTable['output_type'] = 'display_data';\n",
              "          await google.colab.output.renderOutput(dataTable, element);\n",
              "          const docLink = document.createElement('div');\n",
              "          docLink.innerHTML = docLinkHtml;\n",
              "          element.appendChild(docLink);\n",
              "        }\n",
              "      </script>\n",
              "    </div>\n",
              "  </div>\n",
              "  "
            ]
          },
          "metadata": {},
          "execution_count": 4
        }
      ]
    },
    {
      "cell_type": "code",
      "source": [
        "people = pd.read_csv(\"https://github.com/WellFan/bayesian_with_baseball/blob/main/baseballdatabank-2022.2/core/People.csv?raw=true\")\n",
        "master = people[['playerID', 'nameFirst', 'nameLast']]\n",
        "master = master.assign(name = lambda df:df.nameFirst + ' ' + df.nameLast)\n",
        "master = master[['name', 'playerID']]\n",
        "career_name = pd.merge(master, career, how='inner', on='playerID')\n",
        "career_name = career_name.drop(columns = 'playerID')\n",
        "career_name.head()"
      ],
      "metadata": {
        "colab": {
          "base_uri": "https://localhost:8080/",
          "height": 206
        },
        "id": "gn7XN9E1FZPV",
        "outputId": "929d3946-b26c-432b-a882-0617549919ce"
      },
      "execution_count": 5,
      "outputs": [
        {
          "output_type": "execute_result",
          "data": {
            "text/plain": [
              "             name       H       AB       AVG\n",
              "0      Hank Aaron  3771.0  12364.0  0.304998\n",
              "1    Tommie Aaron   216.0    944.0  0.228814\n",
              "2       Andy Abad     2.0     21.0  0.095238\n",
              "3     John Abadie    11.0     49.0  0.224490\n",
              "4  Ed Abbaticchio   772.0   3044.0  0.253614"
            ],
            "text/html": [
              "\n",
              "  <div id=\"df-d91a41c4-dae3-4865-a950-98a1f0981371\">\n",
              "    <div class=\"colab-df-container\">\n",
              "      <div>\n",
              "<style scoped>\n",
              "    .dataframe tbody tr th:only-of-type {\n",
              "        vertical-align: middle;\n",
              "    }\n",
              "\n",
              "    .dataframe tbody tr th {\n",
              "        vertical-align: top;\n",
              "    }\n",
              "\n",
              "    .dataframe thead th {\n",
              "        text-align: right;\n",
              "    }\n",
              "</style>\n",
              "<table border=\"1\" class=\"dataframe\">\n",
              "  <thead>\n",
              "    <tr style=\"text-align: right;\">\n",
              "      <th></th>\n",
              "      <th>name</th>\n",
              "      <th>H</th>\n",
              "      <th>AB</th>\n",
              "      <th>AVG</th>\n",
              "    </tr>\n",
              "  </thead>\n",
              "  <tbody>\n",
              "    <tr>\n",
              "      <th>0</th>\n",
              "      <td>Hank Aaron</td>\n",
              "      <td>3771.0</td>\n",
              "      <td>12364.0</td>\n",
              "      <td>0.304998</td>\n",
              "    </tr>\n",
              "    <tr>\n",
              "      <th>1</th>\n",
              "      <td>Tommie Aaron</td>\n",
              "      <td>216.0</td>\n",
              "      <td>944.0</td>\n",
              "      <td>0.228814</td>\n",
              "    </tr>\n",
              "    <tr>\n",
              "      <th>2</th>\n",
              "      <td>Andy Abad</td>\n",
              "      <td>2.0</td>\n",
              "      <td>21.0</td>\n",
              "      <td>0.095238</td>\n",
              "    </tr>\n",
              "    <tr>\n",
              "      <th>3</th>\n",
              "      <td>John Abadie</td>\n",
              "      <td>11.0</td>\n",
              "      <td>49.0</td>\n",
              "      <td>0.224490</td>\n",
              "    </tr>\n",
              "    <tr>\n",
              "      <th>4</th>\n",
              "      <td>Ed Abbaticchio</td>\n",
              "      <td>772.0</td>\n",
              "      <td>3044.0</td>\n",
              "      <td>0.253614</td>\n",
              "    </tr>\n",
              "  </tbody>\n",
              "</table>\n",
              "</div>\n",
              "      <button class=\"colab-df-convert\" onclick=\"convertToInteractive('df-d91a41c4-dae3-4865-a950-98a1f0981371')\"\n",
              "              title=\"Convert this dataframe to an interactive table.\"\n",
              "              style=\"display:none;\">\n",
              "        \n",
              "  <svg xmlns=\"http://www.w3.org/2000/svg\" height=\"24px\"viewBox=\"0 0 24 24\"\n",
              "       width=\"24px\">\n",
              "    <path d=\"M0 0h24v24H0V0z\" fill=\"none\"/>\n",
              "    <path d=\"M18.56 5.44l.94 2.06.94-2.06 2.06-.94-2.06-.94-.94-2.06-.94 2.06-2.06.94zm-11 1L8.5 8.5l.94-2.06 2.06-.94-2.06-.94L8.5 2.5l-.94 2.06-2.06.94zm10 10l.94 2.06.94-2.06 2.06-.94-2.06-.94-.94-2.06-.94 2.06-2.06.94z\"/><path d=\"M17.41 7.96l-1.37-1.37c-.4-.4-.92-.59-1.43-.59-.52 0-1.04.2-1.43.59L10.3 9.45l-7.72 7.72c-.78.78-.78 2.05 0 2.83L4 21.41c.39.39.9.59 1.41.59.51 0 1.02-.2 1.41-.59l7.78-7.78 2.81-2.81c.8-.78.8-2.07 0-2.86zM5.41 20L4 18.59l7.72-7.72 1.47 1.35L5.41 20z\"/>\n",
              "  </svg>\n",
              "      </button>\n",
              "      \n",
              "  <style>\n",
              "    .colab-df-container {\n",
              "      display:flex;\n",
              "      flex-wrap:wrap;\n",
              "      gap: 12px;\n",
              "    }\n",
              "\n",
              "    .colab-df-convert {\n",
              "      background-color: #E8F0FE;\n",
              "      border: none;\n",
              "      border-radius: 50%;\n",
              "      cursor: pointer;\n",
              "      display: none;\n",
              "      fill: #1967D2;\n",
              "      height: 32px;\n",
              "      padding: 0 0 0 0;\n",
              "      width: 32px;\n",
              "    }\n",
              "\n",
              "    .colab-df-convert:hover {\n",
              "      background-color: #E2EBFA;\n",
              "      box-shadow: 0px 1px 2px rgba(60, 64, 67, 0.3), 0px 1px 3px 1px rgba(60, 64, 67, 0.15);\n",
              "      fill: #174EA6;\n",
              "    }\n",
              "\n",
              "    [theme=dark] .colab-df-convert {\n",
              "      background-color: #3B4455;\n",
              "      fill: #D2E3FC;\n",
              "    }\n",
              "\n",
              "    [theme=dark] .colab-df-convert:hover {\n",
              "      background-color: #434B5C;\n",
              "      box-shadow: 0px 1px 3px 1px rgba(0, 0, 0, 0.15);\n",
              "      filter: drop-shadow(0px 1px 2px rgba(0, 0, 0, 0.3));\n",
              "      fill: #FFFFFF;\n",
              "    }\n",
              "  </style>\n",
              "\n",
              "      <script>\n",
              "        const buttonEl =\n",
              "          document.querySelector('#df-d91a41c4-dae3-4865-a950-98a1f0981371 button.colab-df-convert');\n",
              "        buttonEl.style.display =\n",
              "          google.colab.kernel.accessAllowed ? 'block' : 'none';\n",
              "\n",
              "        async function convertToInteractive(key) {\n",
              "          const element = document.querySelector('#df-d91a41c4-dae3-4865-a950-98a1f0981371');\n",
              "          const dataTable =\n",
              "            await google.colab.kernel.invokeFunction('convertToInteractive',\n",
              "                                                     [key], {});\n",
              "          if (!dataTable) return;\n",
              "\n",
              "          const docLinkHtml = 'Like what you see? Visit the ' +\n",
              "            '<a target=\"_blank\" href=https://colab.research.google.com/notebooks/data_table.ipynb>data table notebook</a>'\n",
              "            + ' to learn more about interactive tables.';\n",
              "          element.innerHTML = '';\n",
              "          dataTable['output_type'] = 'display_data';\n",
              "          await google.colab.output.renderOutput(dataTable, element);\n",
              "          const docLink = document.createElement('div');\n",
              "          docLink.innerHTML = docLinkHtml;\n",
              "          element.appendChild(docLink);\n",
              "        }\n",
              "      </script>\n",
              "    </div>\n",
              "  </div>\n",
              "  "
            ]
          },
          "metadata": {},
          "execution_count": 5
        }
      ]
    },
    {
      "cell_type": "code",
      "source": [
        "career_name.nlargest(5, 'AVG')"
      ],
      "metadata": {
        "colab": {
          "base_uri": "https://localhost:8080/",
          "height": 206
        },
        "id": "bMsK0Nb4VusO",
        "outputId": "e9b90d2e-f944-4680-e318-7d8c656cd7c7"
      },
      "execution_count": 6,
      "outputs": [
        {
          "output_type": "execute_result",
          "data": {
            "text/plain": [
              "                  name    H   AB  AVG\n",
              "461      Jeff Banister  1.0  1.0  1.0\n",
              "590           Doc Bass  1.0  1.0  1.0\n",
              "876        Steve Biras  2.0  2.0  1.0\n",
              "1451       C. B. Burns  1.0  1.0  1.0\n",
              "3738  Jackie Gallagher  1.0  1.0  1.0"
            ],
            "text/html": [
              "\n",
              "  <div id=\"df-4c5d8612-c8eb-4c84-9e8c-63c350da72a8\">\n",
              "    <div class=\"colab-df-container\">\n",
              "      <div>\n",
              "<style scoped>\n",
              "    .dataframe tbody tr th:only-of-type {\n",
              "        vertical-align: middle;\n",
              "    }\n",
              "\n",
              "    .dataframe tbody tr th {\n",
              "        vertical-align: top;\n",
              "    }\n",
              "\n",
              "    .dataframe thead th {\n",
              "        text-align: right;\n",
              "    }\n",
              "</style>\n",
              "<table border=\"1\" class=\"dataframe\">\n",
              "  <thead>\n",
              "    <tr style=\"text-align: right;\">\n",
              "      <th></th>\n",
              "      <th>name</th>\n",
              "      <th>H</th>\n",
              "      <th>AB</th>\n",
              "      <th>AVG</th>\n",
              "    </tr>\n",
              "  </thead>\n",
              "  <tbody>\n",
              "    <tr>\n",
              "      <th>461</th>\n",
              "      <td>Jeff Banister</td>\n",
              "      <td>1.0</td>\n",
              "      <td>1.0</td>\n",
              "      <td>1.0</td>\n",
              "    </tr>\n",
              "    <tr>\n",
              "      <th>590</th>\n",
              "      <td>Doc Bass</td>\n",
              "      <td>1.0</td>\n",
              "      <td>1.0</td>\n",
              "      <td>1.0</td>\n",
              "    </tr>\n",
              "    <tr>\n",
              "      <th>876</th>\n",
              "      <td>Steve Biras</td>\n",
              "      <td>2.0</td>\n",
              "      <td>2.0</td>\n",
              "      <td>1.0</td>\n",
              "    </tr>\n",
              "    <tr>\n",
              "      <th>1451</th>\n",
              "      <td>C. B. Burns</td>\n",
              "      <td>1.0</td>\n",
              "      <td>1.0</td>\n",
              "      <td>1.0</td>\n",
              "    </tr>\n",
              "    <tr>\n",
              "      <th>3738</th>\n",
              "      <td>Jackie Gallagher</td>\n",
              "      <td>1.0</td>\n",
              "      <td>1.0</td>\n",
              "      <td>1.0</td>\n",
              "    </tr>\n",
              "  </tbody>\n",
              "</table>\n",
              "</div>\n",
              "      <button class=\"colab-df-convert\" onclick=\"convertToInteractive('df-4c5d8612-c8eb-4c84-9e8c-63c350da72a8')\"\n",
              "              title=\"Convert this dataframe to an interactive table.\"\n",
              "              style=\"display:none;\">\n",
              "        \n",
              "  <svg xmlns=\"http://www.w3.org/2000/svg\" height=\"24px\"viewBox=\"0 0 24 24\"\n",
              "       width=\"24px\">\n",
              "    <path d=\"M0 0h24v24H0V0z\" fill=\"none\"/>\n",
              "    <path d=\"M18.56 5.44l.94 2.06.94-2.06 2.06-.94-2.06-.94-.94-2.06-.94 2.06-2.06.94zm-11 1L8.5 8.5l.94-2.06 2.06-.94-2.06-.94L8.5 2.5l-.94 2.06-2.06.94zm10 10l.94 2.06.94-2.06 2.06-.94-2.06-.94-.94-2.06-.94 2.06-2.06.94z\"/><path d=\"M17.41 7.96l-1.37-1.37c-.4-.4-.92-.59-1.43-.59-.52 0-1.04.2-1.43.59L10.3 9.45l-7.72 7.72c-.78.78-.78 2.05 0 2.83L4 21.41c.39.39.9.59 1.41.59.51 0 1.02-.2 1.41-.59l7.78-7.78 2.81-2.81c.8-.78.8-2.07 0-2.86zM5.41 20L4 18.59l7.72-7.72 1.47 1.35L5.41 20z\"/>\n",
              "  </svg>\n",
              "      </button>\n",
              "      \n",
              "  <style>\n",
              "    .colab-df-container {\n",
              "      display:flex;\n",
              "      flex-wrap:wrap;\n",
              "      gap: 12px;\n",
              "    }\n",
              "\n",
              "    .colab-df-convert {\n",
              "      background-color: #E8F0FE;\n",
              "      border: none;\n",
              "      border-radius: 50%;\n",
              "      cursor: pointer;\n",
              "      display: none;\n",
              "      fill: #1967D2;\n",
              "      height: 32px;\n",
              "      padding: 0 0 0 0;\n",
              "      width: 32px;\n",
              "    }\n",
              "\n",
              "    .colab-df-convert:hover {\n",
              "      background-color: #E2EBFA;\n",
              "      box-shadow: 0px 1px 2px rgba(60, 64, 67, 0.3), 0px 1px 3px 1px rgba(60, 64, 67, 0.15);\n",
              "      fill: #174EA6;\n",
              "    }\n",
              "\n",
              "    [theme=dark] .colab-df-convert {\n",
              "      background-color: #3B4455;\n",
              "      fill: #D2E3FC;\n",
              "    }\n",
              "\n",
              "    [theme=dark] .colab-df-convert:hover {\n",
              "      background-color: #434B5C;\n",
              "      box-shadow: 0px 1px 3px 1px rgba(0, 0, 0, 0.15);\n",
              "      filter: drop-shadow(0px 1px 2px rgba(0, 0, 0, 0.3));\n",
              "      fill: #FFFFFF;\n",
              "    }\n",
              "  </style>\n",
              "\n",
              "      <script>\n",
              "        const buttonEl =\n",
              "          document.querySelector('#df-4c5d8612-c8eb-4c84-9e8c-63c350da72a8 button.colab-df-convert');\n",
              "        buttonEl.style.display =\n",
              "          google.colab.kernel.accessAllowed ? 'block' : 'none';\n",
              "\n",
              "        async function convertToInteractive(key) {\n",
              "          const element = document.querySelector('#df-4c5d8612-c8eb-4c84-9e8c-63c350da72a8');\n",
              "          const dataTable =\n",
              "            await google.colab.kernel.invokeFunction('convertToInteractive',\n",
              "                                                     [key], {});\n",
              "          if (!dataTable) return;\n",
              "\n",
              "          const docLinkHtml = 'Like what you see? Visit the ' +\n",
              "            '<a target=\"_blank\" href=https://colab.research.google.com/notebooks/data_table.ipynb>data table notebook</a>'\n",
              "            + ' to learn more about interactive tables.';\n",
              "          element.innerHTML = '';\n",
              "          dataTable['output_type'] = 'display_data';\n",
              "          await google.colab.output.renderOutput(dataTable, element);\n",
              "          const docLink = document.createElement('div');\n",
              "          docLink.innerHTML = docLinkHtml;\n",
              "          element.appendChild(docLink);\n",
              "        }\n",
              "      </script>\n",
              "    </div>\n",
              "  </div>\n",
              "  "
            ]
          },
          "metadata": {},
          "execution_count": 6
        }
      ]
    },
    {
      "cell_type": "code",
      "source": [
        "career_name.nsmallest(5, 'AVG')"
      ],
      "metadata": {
        "colab": {
          "base_uri": "https://localhost:8080/",
          "height": 206
        },
        "id": "Z1ebNI_7XUfc",
        "outputId": "21bab535-b341-4e65-df35-154f11c81edb"
      },
      "execution_count": 7,
      "outputs": [
        {
          "output_type": "execute_result",
          "data": {
            "text/plain": [
              "                  name    H   AB  AVG\n",
              "10   Frank Abercrombie  0.0  4.0  0.0\n",
              "136       Horace Allen  0.0  7.0  0.0\n",
              "144         Pete Allen  0.0  4.0  0.0\n",
              "177      Walter Alston  0.0  1.0  0.0\n",
              "210      Trey Amburgey  0.0  4.0  0.0"
            ],
            "text/html": [
              "\n",
              "  <div id=\"df-f124a331-1947-4ada-9f1f-0edec33eccec\">\n",
              "    <div class=\"colab-df-container\">\n",
              "      <div>\n",
              "<style scoped>\n",
              "    .dataframe tbody tr th:only-of-type {\n",
              "        vertical-align: middle;\n",
              "    }\n",
              "\n",
              "    .dataframe tbody tr th {\n",
              "        vertical-align: top;\n",
              "    }\n",
              "\n",
              "    .dataframe thead th {\n",
              "        text-align: right;\n",
              "    }\n",
              "</style>\n",
              "<table border=\"1\" class=\"dataframe\">\n",
              "  <thead>\n",
              "    <tr style=\"text-align: right;\">\n",
              "      <th></th>\n",
              "      <th>name</th>\n",
              "      <th>H</th>\n",
              "      <th>AB</th>\n",
              "      <th>AVG</th>\n",
              "    </tr>\n",
              "  </thead>\n",
              "  <tbody>\n",
              "    <tr>\n",
              "      <th>10</th>\n",
              "      <td>Frank Abercrombie</td>\n",
              "      <td>0.0</td>\n",
              "      <td>4.0</td>\n",
              "      <td>0.0</td>\n",
              "    </tr>\n",
              "    <tr>\n",
              "      <th>136</th>\n",
              "      <td>Horace Allen</td>\n",
              "      <td>0.0</td>\n",
              "      <td>7.0</td>\n",
              "      <td>0.0</td>\n",
              "    </tr>\n",
              "    <tr>\n",
              "      <th>144</th>\n",
              "      <td>Pete Allen</td>\n",
              "      <td>0.0</td>\n",
              "      <td>4.0</td>\n",
              "      <td>0.0</td>\n",
              "    </tr>\n",
              "    <tr>\n",
              "      <th>177</th>\n",
              "      <td>Walter Alston</td>\n",
              "      <td>0.0</td>\n",
              "      <td>1.0</td>\n",
              "      <td>0.0</td>\n",
              "    </tr>\n",
              "    <tr>\n",
              "      <th>210</th>\n",
              "      <td>Trey Amburgey</td>\n",
              "      <td>0.0</td>\n",
              "      <td>4.0</td>\n",
              "      <td>0.0</td>\n",
              "    </tr>\n",
              "  </tbody>\n",
              "</table>\n",
              "</div>\n",
              "      <button class=\"colab-df-convert\" onclick=\"convertToInteractive('df-f124a331-1947-4ada-9f1f-0edec33eccec')\"\n",
              "              title=\"Convert this dataframe to an interactive table.\"\n",
              "              style=\"display:none;\">\n",
              "        \n",
              "  <svg xmlns=\"http://www.w3.org/2000/svg\" height=\"24px\"viewBox=\"0 0 24 24\"\n",
              "       width=\"24px\">\n",
              "    <path d=\"M0 0h24v24H0V0z\" fill=\"none\"/>\n",
              "    <path d=\"M18.56 5.44l.94 2.06.94-2.06 2.06-.94-2.06-.94-.94-2.06-.94 2.06-2.06.94zm-11 1L8.5 8.5l.94-2.06 2.06-.94-2.06-.94L8.5 2.5l-.94 2.06-2.06.94zm10 10l.94 2.06.94-2.06 2.06-.94-2.06-.94-.94-2.06-.94 2.06-2.06.94z\"/><path d=\"M17.41 7.96l-1.37-1.37c-.4-.4-.92-.59-1.43-.59-.52 0-1.04.2-1.43.59L10.3 9.45l-7.72 7.72c-.78.78-.78 2.05 0 2.83L4 21.41c.39.39.9.59 1.41.59.51 0 1.02-.2 1.41-.59l7.78-7.78 2.81-2.81c.8-.78.8-2.07 0-2.86zM5.41 20L4 18.59l7.72-7.72 1.47 1.35L5.41 20z\"/>\n",
              "  </svg>\n",
              "      </button>\n",
              "      \n",
              "  <style>\n",
              "    .colab-df-container {\n",
              "      display:flex;\n",
              "      flex-wrap:wrap;\n",
              "      gap: 12px;\n",
              "    }\n",
              "\n",
              "    .colab-df-convert {\n",
              "      background-color: #E8F0FE;\n",
              "      border: none;\n",
              "      border-radius: 50%;\n",
              "      cursor: pointer;\n",
              "      display: none;\n",
              "      fill: #1967D2;\n",
              "      height: 32px;\n",
              "      padding: 0 0 0 0;\n",
              "      width: 32px;\n",
              "    }\n",
              "\n",
              "    .colab-df-convert:hover {\n",
              "      background-color: #E2EBFA;\n",
              "      box-shadow: 0px 1px 2px rgba(60, 64, 67, 0.3), 0px 1px 3px 1px rgba(60, 64, 67, 0.15);\n",
              "      fill: #174EA6;\n",
              "    }\n",
              "\n",
              "    [theme=dark] .colab-df-convert {\n",
              "      background-color: #3B4455;\n",
              "      fill: #D2E3FC;\n",
              "    }\n",
              "\n",
              "    [theme=dark] .colab-df-convert:hover {\n",
              "      background-color: #434B5C;\n",
              "      box-shadow: 0px 1px 3px 1px rgba(0, 0, 0, 0.15);\n",
              "      filter: drop-shadow(0px 1px 2px rgba(0, 0, 0, 0.3));\n",
              "      fill: #FFFFFF;\n",
              "    }\n",
              "  </style>\n",
              "\n",
              "      <script>\n",
              "        const buttonEl =\n",
              "          document.querySelector('#df-f124a331-1947-4ada-9f1f-0edec33eccec button.colab-df-convert');\n",
              "        buttonEl.style.display =\n",
              "          google.colab.kernel.accessAllowed ? 'block' : 'none';\n",
              "\n",
              "        async function convertToInteractive(key) {\n",
              "          const element = document.querySelector('#df-f124a331-1947-4ada-9f1f-0edec33eccec');\n",
              "          const dataTable =\n",
              "            await google.colab.kernel.invokeFunction('convertToInteractive',\n",
              "                                                     [key], {});\n",
              "          if (!dataTable) return;\n",
              "\n",
              "          const docLinkHtml = 'Like what you see? Visit the ' +\n",
              "            '<a target=\"_blank\" href=https://colab.research.google.com/notebooks/data_table.ipynb>data table notebook</a>'\n",
              "            + ' to learn more about interactive tables.';\n",
              "          element.innerHTML = '';\n",
              "          dataTable['output_type'] = 'display_data';\n",
              "          await google.colab.output.renderOutput(dataTable, element);\n",
              "          const docLink = document.createElement('div');\n",
              "          docLink.innerHTML = docLinkHtml;\n",
              "          element.appendChild(docLink);\n",
              "        }\n",
              "      </script>\n",
              "    </div>\n",
              "  </div>\n",
              "  "
            ]
          },
          "metadata": {},
          "execution_count": 7
        }
      ]
    },
    {
      "cell_type": "code",
      "source": [
        "career_name['AVG'].plot.hist(xlim=[0.15, 0.35], bins=200, xlabel='average', ylabel='count')"
      ],
      "metadata": {
        "colab": {
          "base_uri": "https://localhost:8080/",
          "height": 282
        },
        "id": "JTOaOJszXcC3",
        "outputId": "d0bb59aa-befa-434f-ac99-63edbc4c9560"
      },
      "execution_count": 8,
      "outputs": [
        {
          "output_type": "execute_result",
          "data": {
            "text/plain": [
              "<matplotlib.axes._subplots.AxesSubplot at 0x7f03bf52d0d0>"
            ]
          },
          "metadata": {},
          "execution_count": 8
        },
        {
          "output_type": "display_data",
          "data": {
            "text/plain": [
              "<Figure size 432x288 with 1 Axes>"
            ],
            "image/png": "[encoded data removed]"
          },
          "metadata": {
            "needs_background": "light"
          }
        }
      ]
    },
    {
      "cell_type": "markdown",
      "source": [
        "---\n",
        "Fitting the overall AVG with beta distribution. Getting the approximated $α, β$ \n",
        "\n",
        "---"
      ],
      "metadata": {
        "id": "in-Ux2sfCfQA"
      }
    },
    {
      "cell_type": "code",
      "source": [
        "from scipy.stats import beta\n",
        "career_filter = career_name[career_name.AB > 500]\n",
        "a0, b0, loc1, scale1 = beta.fit(career_filter['AVG'], floc=0, fscale=1)\n",
        "print(\"alpha =\", a0, \"\\n\", \"beta =\", b0)"
      ],
      "metadata": {
        "colab": {
          "base_uri": "https://localhost:8080/"
        },
        "id": "gkKWpXnycF4m",
        "outputId": "fe4b6e37-8544-48cd-dbce-f6e18390e71b"
      },
      "execution_count": 9,
      "outputs": [
        {
          "output_type": "stream",
          "name": "stdout",
          "text": [
            "alpha = 79.6411398927643 \n",
            " beta = 228.55257615856598\n"
          ]
        }
      ]
    },
    {
      "cell_type": "code",
      "source": [
        "import matplotlib.pyplot as plt\n",
        "x = np.linspace(0, 1, 1000)\n",
        "y = beta.pdf(x, a0, b0)\n",
        "plt.plot(x, y)\n",
        "plt.hist(career_filter['AVG'], bins=200, density=True)\n",
        "plt.xlabel('Batting average')\n",
        "plt.ylabel('Density')\n",
        "plt.xlim(0.15, 0.4)\n",
        "plt.show()"
      ],
      "metadata": {
        "colab": {
          "base_uri": "https://localhost:8080/",
          "height": 279
        },
        "id": "LjY0udbkflo7",
        "outputId": "03d6c34a-de19-4608-bd02-2fdcc0a7cda2"
      },
      "execution_count": 10,
      "outputs": [
        {
          "output_type": "display_data",
          "data": {
            "text/plain": [
              "<Figure size 432x288 with 1 Axes>"
            ],
            "image/png": "[encoded data removed]"
          },
          "metadata": {
            "needs_background": "light"
          }
        }
      ]
    },
    {
      "cell_type": "markdown",
      "source": [
        "---\n",
        "[likelihood_analytical]: MLE of betabinomial model\n",
        "\n",
        "\n",
        "\\[likelihood]: Consider the following hierarchical moddel \n",
        "\n",
        "$μ_i = β_0 + β_1*lnAB_i+ϵ\\\\ α_i = \\frac{\\mu_i}{\\sigma} \\\\ \\beta_i=\\frac{1-\\mu_i}{\\sigma}\\\\ p_i∼Beta(α_i, \\beta_i)$\n",
        "\n",
        "and compute the MLE\n",
        "\n",
        "---"
      ],
      "metadata": {
        "id": "-a-Hxbq6ExBI"
      }
    },
    {
      "cell_type": "code",
      "source": [
        "from scipy.optimize import minimize\n",
        "from scipy import special\n",
        "from scipy import stats\n",
        "x_i = np.array(career_filter['AVG'])\n",
        "AB = np.array(career_filter['AB'])\n",
        "logAB = np.array(np.log(career_filter['AB']))\n",
        "H = np.array(career_filter['H'])\n",
        "def likelihood(para):\n",
        "  mu_i = para[0] + para[1] * logAB\n",
        "  A_i = mu_i / para[2] - 1\n",
        "  B_i = (1 - mu_i) / para[2] - 1 \n",
        "  return -1 * sum(A_i * np.log(x_i) + B_i * np.log(1 - x_i) - special.gammaln(A_i + 1) - special.gammaln(B_i + 1) + special.gammaln(1/para[2]))\n",
        "def likelihood_analytical(para):\n",
        "  a = para[0]\n",
        "  b = para[1]\n",
        "  return -1 * sum((stats.betabinom.logpmf(H, AB, a, b)))"
      ],
      "metadata": {
        "id": "8Du0chenMit9"
      },
      "execution_count": 11,
      "outputs": []
    },
    {
      "cell_type": "code",
      "source": [
        "print(H)\n",
        "print(stats.betabinom.pmf(H, AB, 79, 228))"
      ],
      "metadata": {
        "colab": {
          "base_uri": "https://localhost:8080/"
        },
        "id": "fh4kSwKHgf2b",
        "outputId": "983966b6-5ba0-4809-8d09-efa3425119c1"
      },
      "execution_count": 12,
      "outputs": [
        {
          "output_type": "stream",
          "name": "stdout",
          "text": [
            "[3771.  216.  772. ...  518.  199.  364.]\n",
            "[0.00021914 0.00940388 0.00499551 ... 0.00063119 0.01683816 0.00670845]\n"
          ]
        }
      ]
    },
    {
      "cell_type": "markdown",
      "source": [
        "Compute the parameters $\\beta_0, \\beta_1, \\sigma$ of the hierarchical model"
      ],
      "metadata": {
        "id": "NvDOi86NKzBG"
      }
    },
    {
      "cell_type": "code",
      "source": [
        "para0 = np.array([0.14, 0.015, 0.002])\n",
        "res = minimize(likelihood, para0, method='nelder-mead', options={'xatol': 1e-8, 'disp': True})\n",
        "res.x"
      ],
      "metadata": {
        "colab": {
          "base_uri": "https://localhost:8080/"
        },
        "id": "GRSXrcI-Qewn",
        "outputId": "1e99aaf5-db0d-486b-e705-556945decced"
      },
      "execution_count": 13,
      "outputs": [
        {
          "output_type": "stream",
          "name": "stdout",
          "text": [
            "Optimization terminated successfully.\n",
            "         Current function value: -10452.862593\n",
            "         Iterations: 95\n",
            "         Function evaluations: 179\n"
          ]
        },
        {
          "output_type": "execute_result",
          "data": {
            "text/plain": [
              "array([0.13297191, 0.01642835, 0.00234517])"
            ]
          },
          "metadata": {},
          "execution_count": 13
        }
      ]
    },
    {
      "cell_type": "markdown",
      "source": [
        "---\n",
        "Compute the parameters $\\alpha, \\beta$ of the betabinomial model\n",
        "\n",
        "---"
      ],
      "metadata": {
        "id": "COjSQUkdLZvu"
      }
    },
    {
      "cell_type": "code",
      "source": [
        "para0 = np.array([50, 290])\n",
        "res = minimize(likelihood_analytical, para0, method='nelder-mead', options={'xatol': 1e-16, 'disp': True})\n",
        "a1, b1 = res.x\n",
        "res.x"
      ],
      "metadata": {
        "colab": {
          "base_uri": "https://localhost:8080/"
        },
        "id": "6QMiBpAhEW7i",
        "outputId": "4807b5df-0fcd-4dcc-a652-0c25885ec534"
      },
      "execution_count": 14,
      "outputs": [
        {
          "output_type": "stream",
          "name": "stdout",
          "text": [
            "Optimization terminated successfully.\n",
            "         Current function value: 22947.704308\n",
            "         Iterations: 118\n",
            "         Function evaluations: 272\n"
          ]
        },
        {
          "output_type": "execute_result",
          "data": {
            "text/plain": [
              "array([101.82219115, 289.62396127])"
            ]
          },
          "metadata": {},
          "execution_count": 14
        }
      ]
    },
    {
      "cell_type": "code",
      "source": [
        "x = np.linspace(0, 1, 1000)\n",
        "y = beta.pdf(x, a0, b0)\n",
        "y_2 = beta.pdf(x, a1, b1)\n",
        "plt.plot(x, y, color='blue', label='approximation')\n",
        "plt.plot(x, y_2, color='green', label='analytical')\n",
        "plt.hist(career_filter['AVG'], bins=200, density=True)\n",
        "plt.xlabel('Batting average')\n",
        "plt.ylabel('Density')\n",
        "plt.xlim(0.15, 0.4)\n",
        "plt.legend()\n",
        "plt.show()"
      ],
      "metadata": {
        "colab": {
          "base_uri": "https://localhost:8080/",
          "height": 279
        },
        "id": "6SZMmuHkjXGm",
        "outputId": "efbf027c-9c05-4138-e0ac-b7cd0bb6191d"
      },
      "execution_count": 15,
      "outputs": [
        {
          "output_type": "display_data",
          "data": {
            "text/plain": [
              "<Figure size 432x288 with 1 Axes>"
            ],
            "image/png": "[encoded data removed]"
          },
          "metadata": {
            "needs_background": "light"
          }
        }
      ]
    },
    {
      "cell_type": "markdown",
      "source": [
        "---\n",
        "Consider the following model:\n",
        "\n",
        "$μ_i = β_0 + β_1*lnAB_i+\\beta_2*bats+ϵ\\\\ α_i = \\frac{\\mu_i}{\\sigma} \\\\ \\beta_i=\\frac{1-\\mu_i}{\\sigma}\\\\ p_i∼Beta(α_i, \\beta_i)$\n",
        "\n",
        "and compute the MLE\n",
        "\n",
        "---"
      ],
      "metadata": {
        "id": "5TEQmIjrfnXB"
      }
    },
    {
      "cell_type": "code",
      "source": [
        "career_filter = career_filter.assign(\n",
        "    AVG_approxi=lambda df: (df.H + a0) / (df.AB + a0 + b0),\n",
        "    AVG_analytical=lambda df: (df.H + a1) / (df.AB + a1 + b1))\n",
        "career_filter.head()"
      ],
      "metadata": {
        "colab": {
          "base_uri": "https://localhost:8080/",
          "height": 206
        },
        "id": "UBZdVH20Mm1c",
        "outputId": "81048fe6-70d7-43ae-e3ce-413f8f2aa6ae"
      },
      "execution_count": 16,
      "outputs": [
        {
          "output_type": "execute_result",
          "data": {
            "text/plain": [
              "             name       H       AB       AVG  AVG_approxi  AVG_analytical\n",
              "0      Hank Aaron  3771.0  12364.0  0.304998     0.303865        0.303621\n",
              "1    Tommie Aaron   216.0    944.0  0.228814     0.236099        0.237990\n",
              "4  Ed Abbaticchio   772.0   3044.0  0.253614     0.254055        0.254355\n",
              "5     Fred Abbott   107.0    513.0  0.208577     0.227280        0.230884\n",
              "7     Jeff Abbott   157.0    596.0  0.263423     0.261715        0.262113"
            ],
            "text/html": [
              "\n",
              "  <div id=\"df-4722265b-9dd8-4ce2-9a94-b2fec9d0318a\">\n",
              "    <div class=\"colab-df-container\">\n",
              "      <div>\n",
              "<style scoped>\n",
              "    .dataframe tbody tr th:only-of-type {\n",
              "        vertical-align: middle;\n",
              "    }\n",
              "\n",
              "    .dataframe tbody tr th {\n",
              "        vertical-align: top;\n",
              "    }\n",
              "\n",
              "    .dataframe thead th {\n",
              "        text-align: right;\n",
              "    }\n",
              "</style>\n",
              "<table border=\"1\" class=\"dataframe\">\n",
              "  <thead>\n",
              "    <tr style=\"text-align: right;\">\n",
              "      <th></th>\n",
              "      <th>name</th>\n",
              "      <th>H</th>\n",
              "      <th>AB</th>\n",
              "      <th>AVG</th>\n",
              "      <th>AVG_approxi</th>\n",
              "      <th>AVG_analytical</th>\n",
              "    </tr>\n",
              "  </thead>\n",
              "  <tbody>\n",
              "    <tr>\n",
              "      <th>0</th>\n",
              "      <td>Hank Aaron</td>\n",
              "      <td>3771.0</td>\n",
              "      <td>12364.0</td>\n",
              "      <td>0.304998</td>\n",
              "      <td>0.303865</td>\n",
              "      <td>0.303621</td>\n",
              "    </tr>\n",
              "    <tr>\n",
              "      <th>1</th>\n",
              "      <td>Tommie Aaron</td>\n",
              "      <td>216.0</td>\n",
              "      <td>944.0</td>\n",
              "      <td>0.228814</td>\n",
              "      <td>0.236099</td>\n",
              "      <td>0.237990</td>\n",
              "    </tr>\n",
              "    <tr>\n",
              "      <th>4</th>\n",
              "      <td>Ed Abbaticchio</td>\n",
              "      <td>772.0</td>\n",
              "      <td>3044.0</td>\n",
              "      <td>0.253614</td>\n",
              "      <td>0.254055</td>\n",
              "      <td>0.254355</td>\n",
              "    </tr>\n",
              "    <tr>\n",
              "      <th>5</th>\n",
              "      <td>Fred Abbott</td>\n",
              "      <td>107.0</td>\n",
              "      <td>513.0</td>\n",
              "      <td>0.208577</td>\n",
              "      <td>0.227280</td>\n",
              "      <td>0.230884</td>\n",
              "    </tr>\n",
              "    <tr>\n",
              "      <th>7</th>\n",
              "      <td>Jeff Abbott</td>\n",
              "      <td>157.0</td>\n",
              "      <td>596.0</td>\n",
              "      <td>0.263423</td>\n",
              "      <td>0.261715</td>\n",
              "      <td>0.262113</td>\n",
              "    </tr>\n",
              "  </tbody>\n",
              "</table>\n",
              "</div>\n",
              "      <button class=\"colab-df-convert\" onclick=\"convertToInteractive('df-4722265b-9dd8-4ce2-9a94-b2fec9d0318a')\"\n",
              "              title=\"Convert this dataframe to an interactive table.\"\n",
              "              style=\"display:none;\">\n",
              "        \n",
              "  <svg xmlns=\"http://www.w3.org/2000/svg\" height=\"24px\"viewBox=\"0 0 24 24\"\n",
              "       width=\"24px\">\n",
              "    <path d=\"M0 0h24v24H0V0z\" fill=\"none\"/>\n",
              "    <path d=\"M18.56 5.44l.94 2.06.94-2.06 2.06-.94-2.06-.94-.94-2.06-.94 2.06-2.06.94zm-11 1L8.5 8.5l.94-2.06 2.06-.94-2.06-.94L8.5 2.5l-.94 2.06-2.06.94zm10 10l.94 2.06.94-2.06 2.06-.94-2.06-.94-.94-2.06-.94 2.06-2.06.94z\"/><path d=\"M17.41 7.96l-1.37-1.37c-.4-.4-.92-.59-1.43-.59-.52 0-1.04.2-1.43.59L10.3 9.45l-7.72 7.72c-.78.78-.78 2.05 0 2.83L4 21.41c.39.39.9.59 1.41.59.51 0 1.02-.2 1.41-.59l7.78-7.78 2.81-2.81c.8-.78.8-2.07 0-2.86zM5.41 20L4 18.59l7.72-7.72 1.47 1.35L5.41 20z\"/>\n",
              "  </svg>\n",
              "      </button>\n",
              "      \n",
              "  <style>\n",
              "    .colab-df-container {\n",
              "      display:flex;\n",
              "      flex-wrap:wrap;\n",
              "      gap: 12px;\n",
              "    }\n",
              "\n",
              "    .colab-df-convert {\n",
              "      background-color: #E8F0FE;\n",
              "      border: none;\n",
              "      border-radius: 50%;\n",
              "      cursor: pointer;\n",
              "      display: none;\n",
              "      fill: #1967D2;\n",
              "      height: 32px;\n",
              "      padding: 0 0 0 0;\n",
              "      width: 32px;\n",
              "    }\n",
              "\n",
              "    .colab-df-convert:hover {\n",
              "      background-color: #E2EBFA;\n",
              "      box-shadow: 0px 1px 2px rgba(60, 64, 67, 0.3), 0px 1px 3px 1px rgba(60, 64, 67, 0.15);\n",
              "      fill: #174EA6;\n",
              "    }\n",
              "\n",
              "    [theme=dark] .colab-df-convert {\n",
              "      background-color: #3B4455;\n",
              "      fill: #D2E3FC;\n",
              "    }\n",
              "\n",
              "    [theme=dark] .colab-df-convert:hover {\n",
              "      background-color: #434B5C;\n",
              "      box-shadow: 0px 1px 3px 1px rgba(0, 0, 0, 0.15);\n",
              "      filter: drop-shadow(0px 1px 2px rgba(0, 0, 0, 0.3));\n",
              "      fill: #FFFFFF;\n",
              "    }\n",
              "  </style>\n",
              "\n",
              "      <script>\n",
              "        const buttonEl =\n",
              "          document.querySelector('#df-4722265b-9dd8-4ce2-9a94-b2fec9d0318a button.colab-df-convert');\n",
              "        buttonEl.style.display =\n",
              "          google.colab.kernel.accessAllowed ? 'block' : 'none';\n",
              "\n",
              "        async function convertToInteractive(key) {\n",
              "          const element = document.querySelector('#df-4722265b-9dd8-4ce2-9a94-b2fec9d0318a');\n",
              "          const dataTable =\n",
              "            await google.colab.kernel.invokeFunction('convertToInteractive',\n",
              "                                                     [key], {});\n",
              "          if (!dataTable) return;\n",
              "\n",
              "          const docLinkHtml = 'Like what you see? Visit the ' +\n",
              "            '<a target=\"_blank\" href=https://colab.research.google.com/notebooks/data_table.ipynb>data table notebook</a>'\n",
              "            + ' to learn more about interactive tables.';\n",
              "          element.innerHTML = '';\n",
              "          dataTable['output_type'] = 'display_data';\n",
              "          await google.colab.output.renderOutput(dataTable, element);\n",
              "          const docLink = document.createElement('div');\n",
              "          docLink.innerHTML = docLinkHtml;\n",
              "          element.appendChild(docLink);\n",
              "        }\n",
              "      </script>\n",
              "    </div>\n",
              "  </div>\n",
              "  "
            ]
          },
          "metadata": {},
          "execution_count": 16
        }
      ]
    },
    {
      "cell_type": "code",
      "source": [
        "print(career_filter['AVG'].std(), career_filter['AVG_analytical'].std(), career_filter['AVG_approxi'].std())"
      ],
      "metadata": {
        "colab": {
          "base_uri": "https://localhost:8080/"
        },
        "id": "CPbdoNpom7zz",
        "outputId": "0b807139-ef29-4d0b-8bf5-460bb5f4ec0b"
      },
      "execution_count": 17,
      "outputs": [
        {
          "output_type": "stream",
          "name": "stdout",
          "text": [
            "0.02485229476400437 0.02005403473980877 0.02088416052274367\n"
          ]
        }
      ]
    },
    {
      "cell_type": "code",
      "source": [
        "people = pd.read_csv(\"https://github.com/WellFan/bayesian_with_baseball/blob/main/baseballdatabank-2022.2/core/People.csv?raw=true\")\n",
        "master2 = (people[['playerID', 'nameFirst', 'nameLast', 'bats']]\n",
        "           .assign(name=lambda df: df.nameFirst+' '+df.nameLast)\n",
        "           .drop(columns=['nameFirst', 'nameLast']))\n",
        "career_name2 = pd.merge(master2, career, how='inner', on='playerID')\n",
        "career_name2 = (career_name2.drop(columns = 'playerID')\n",
        "                .loc[~career_name2.bats.isnull()]\n",
        "                .assign(bats = (career_name2.bats=='R').astype('int'))\n",
        "                .loc[career_name2['AB']>500])\n",
        "career_name2.head()"
      ],
      "metadata": {
        "colab": {
          "base_uri": "https://localhost:8080/",
          "height": 206
        },
        "id": "SqtC0kqcaUk4",
        "outputId": "003f2caf-a718-4454-eb90-0d04eb252023"
      },
      "execution_count": 18,
      "outputs": [
        {
          "output_type": "execute_result",
          "data": {
            "text/plain": [
              "   bats            name       H       AB       AVG\n",
              "0     1      Hank Aaron  3771.0  12364.0  0.304998\n",
              "1     1    Tommie Aaron   216.0    944.0  0.228814\n",
              "4     1  Ed Abbaticchio   772.0   3044.0  0.253614\n",
              "5     1     Fred Abbott   107.0    513.0  0.208577\n",
              "7     1     Jeff Abbott   157.0    596.0  0.263423"
            ],
            "text/html": [
              "\n",
              "  <div id=\"df-6bdc30e5-6fe4-4743-af43-827778dec073\">\n",
              "    <div class=\"colab-df-container\">\n",
              "      <div>\n",
              "<style scoped>\n",
              "    .dataframe tbody tr th:only-of-type {\n",
              "        vertical-align: middle;\n",
              "    }\n",
              "\n",
              "    .dataframe tbody tr th {\n",
              "        vertical-align: top;\n",
              "    }\n",
              "\n",
              "    .dataframe thead th {\n",
              "        text-align: right;\n",
              "    }\n",
              "</style>\n",
              "<table border=\"1\" class=\"dataframe\">\n",
              "  <thead>\n",
              "    <tr style=\"text-align: right;\">\n",
              "      <th></th>\n",
              "      <th>bats</th>\n",
              "      <th>name</th>\n",
              "      <th>H</th>\n",
              "      <th>AB</th>\n",
              "      <th>AVG</th>\n",
              "    </tr>\n",
              "  </thead>\n",
              "  <tbody>\n",
              "    <tr>\n",
              "      <th>0</th>\n",
              "      <td>1</td>\n",
              "      <td>Hank Aaron</td>\n",
              "      <td>3771.0</td>\n",
              "      <td>12364.0</td>\n",
              "      <td>0.304998</td>\n",
              "    </tr>\n",
              "    <tr>\n",
              "      <th>1</th>\n",
              "      <td>1</td>\n",
              "      <td>Tommie Aaron</td>\n",
              "      <td>216.0</td>\n",
              "      <td>944.0</td>\n",
              "      <td>0.228814</td>\n",
              "    </tr>\n",
              "    <tr>\n",
              "      <th>4</th>\n",
              "      <td>1</td>\n",
              "      <td>Ed Abbaticchio</td>\n",
              "      <td>772.0</td>\n",
              "      <td>3044.0</td>\n",
              "      <td>0.253614</td>\n",
              "    </tr>\n",
              "    <tr>\n",
              "      <th>5</th>\n",
              "      <td>1</td>\n",
              "      <td>Fred Abbott</td>\n",
              "      <td>107.0</td>\n",
              "      <td>513.0</td>\n",
              "      <td>0.208577</td>\n",
              "    </tr>\n",
              "    <tr>\n",
              "      <th>7</th>\n",
              "      <td>1</td>\n",
              "      <td>Jeff Abbott</td>\n",
              "      <td>157.0</td>\n",
              "      <td>596.0</td>\n",
              "      <td>0.263423</td>\n",
              "    </tr>\n",
              "  </tbody>\n",
              "</table>\n",
              "</div>\n",
              "      <button class=\"colab-df-convert\" onclick=\"convertToInteractive('df-6bdc30e5-6fe4-4743-af43-827778dec073')\"\n",
              "              title=\"Convert this dataframe to an interactive table.\"\n",
              "              style=\"display:none;\">\n",
              "        \n",
              "  <svg xmlns=\"http://www.w3.org/2000/svg\" height=\"24px\"viewBox=\"0 0 24 24\"\n",
              "       width=\"24px\">\n",
              "    <path d=\"M0 0h24v24H0V0z\" fill=\"none\"/>\n",
              "    <path d=\"M18.56 5.44l.94 2.06.94-2.06 2.06-.94-2.06-.94-.94-2.06-.94 2.06-2.06.94zm-11 1L8.5 8.5l.94-2.06 2.06-.94-2.06-.94L8.5 2.5l-.94 2.06-2.06.94zm10 10l.94 2.06.94-2.06 2.06-.94-2.06-.94-.94-2.06-.94 2.06-2.06.94z\"/><path d=\"M17.41 7.96l-1.37-1.37c-.4-.4-.92-.59-1.43-.59-.52 0-1.04.2-1.43.59L10.3 9.45l-7.72 7.72c-.78.78-.78 2.05 0 2.83L4 21.41c.39.39.9.59 1.41.59.51 0 1.02-.2 1.41-.59l7.78-7.78 2.81-2.81c.8-.78.8-2.07 0-2.86zM5.41 20L4 18.59l7.72-7.72 1.47 1.35L5.41 20z\"/>\n",
              "  </svg>\n",
              "      </button>\n",
              "      \n",
              "  <style>\n",
              "    .colab-df-container {\n",
              "      display:flex;\n",
              "      flex-wrap:wrap;\n",
              "      gap: 12px;\n",
              "    }\n",
              "\n",
              "    .colab-df-convert {\n",
              "      background-color: #E8F0FE;\n",
              "      border: none;\n",
              "      border-radius: 50%;\n",
              "      cursor: pointer;\n",
              "      display: none;\n",
              "      fill: #1967D2;\n",
              "      height: 32px;\n",
              "      padding: 0 0 0 0;\n",
              "      width: 32px;\n",
              "    }\n",
              "\n",
              "    .colab-df-convert:hover {\n",
              "      background-color: #E2EBFA;\n",
              "      box-shadow: 0px 1px 2px rgba(60, 64, 67, 0.3), 0px 1px 3px 1px rgba(60, 64, 67, 0.15);\n",
              "      fill: #174EA6;\n",
              "    }\n",
              "\n",
              "    [theme=dark] .colab-df-convert {\n",
              "      background-color: #3B4455;\n",
              "      fill: #D2E3FC;\n",
              "    }\n",
              "\n",
              "    [theme=dark] .colab-df-convert:hover {\n",
              "      background-color: #434B5C;\n",
              "      box-shadow: 0px 1px 3px 1px rgba(0, 0, 0, 0.15);\n",
              "      filter: drop-shadow(0px 1px 2px rgba(0, 0, 0, 0.3));\n",
              "      fill: #FFFFFF;\n",
              "    }\n",
              "  </style>\n",
              "\n",
              "      <script>\n",
              "        const buttonEl =\n",
              "          document.querySelector('#df-6bdc30e5-6fe4-4743-af43-827778dec073 button.colab-df-convert');\n",
              "        buttonEl.style.display =\n",
              "          google.colab.kernel.accessAllowed ? 'block' : 'none';\n",
              "\n",
              "        async function convertToInteractive(key) {\n",
              "          const element = document.querySelector('#df-6bdc30e5-6fe4-4743-af43-827778dec073');\n",
              "          const dataTable =\n",
              "            await google.colab.kernel.invokeFunction('convertToInteractive',\n",
              "                                                     [key], {});\n",
              "          if (!dataTable) return;\n",
              "\n",
              "          const docLinkHtml = 'Like what you see? Visit the ' +\n",
              "            '<a target=\"_blank\" href=https://colab.research.google.com/notebooks/data_table.ipynb>data table notebook</a>'\n",
              "            + ' to learn more about interactive tables.';\n",
              "          element.innerHTML = '';\n",
              "          dataTable['output_type'] = 'display_data';\n",
              "          await google.colab.output.renderOutput(dataTable, element);\n",
              "          const docLink = document.createElement('div');\n",
              "          docLink.innerHTML = docLinkHtml;\n",
              "          element.appendChild(docLink);\n",
              "        }\n",
              "      </script>\n",
              "    </div>\n",
              "  </div>\n",
              "  "
            ]
          },
          "metadata": {},
          "execution_count": 18
        }
      ]
    },
    {
      "cell_type": "code",
      "source": [
        "x_i = np.array(career_name2['AVG'])\n",
        "logAB = np.array(np.log(career_name2['AB']))\n",
        "bats = np.array(career_name2['bats'])\n",
        "def likelihood2(para):\n",
        "  mu_i = para[0] + para[1] * logAB + para[2] * bats\n",
        "  A_i = mu_i / para[3] - 1\n",
        "  B_i = (1 - mu_i) / para[3] - 1 \n",
        "  return -1 * sum(A_i * np.log(x_i) + B_i * np.log(1 - x_i) - special.gammaln(A_i + 1) - special.gammaln(B_i + 1) + special.gammaln(1/para[3]))"
      ],
      "metadata": {
        "id": "13MjrTfTlEpe"
      },
      "execution_count": 19,
      "outputs": []
    },
    {
      "cell_type": "code",
      "source": [
        "para0 = np.array([0.14, 0.015, -0.01, 0.002])\n",
        "res = minimize(likelihood2, para0, method='nelder-mead', options={'xatol': 1e-8, 'disp': True})\n",
        "res.x"
      ],
      "metadata": {
        "colab": {
          "base_uri": "https://localhost:8080/"
        },
        "id": "hWUdY8xiwhUX",
        "outputId": "c09cdec5-22b2-4ff1-86ce-c3cac2e700ef"
      },
      "execution_count": 20,
      "outputs": [
        {
          "output_type": "stream",
          "name": "stdout",
          "text": [
            "Optimization terminated successfully.\n",
            "         Current function value: -10404.444435\n",
            "         Iterations: 160\n",
            "         Function evaluations: 294\n"
          ]
        },
        {
          "output_type": "execute_result",
          "data": {
            "text/plain": [
              "array([ 0.1386039 ,  0.01620308, -0.00661675,  0.00228272])"
            ]
          },
          "metadata": {},
          "execution_count": 20
        }
      ]
    },
    {
      "cell_type": "markdown",
      "source": [
        "---\n",
        "Draw the posterior distribution of \n",
        "\n",
        "[r, l]: different handedness\n",
        "\n",
        "\n",
        "[number]: different at bats\n",
        "\n",
        "---"
      ],
      "metadata": {
        "id": "p1D2esIPgIZy"
      }
    },
    {
      "cell_type": "code",
      "source": [
        "x = np.linspace(0, 1, 1000)\n",
        "lr = [1,0] * 5\n",
        "ab = [1, 1, 10, 10, 100, 100, 1000, 1000, 10000, 10000]\n",
        "lr = np.array(lr)\n",
        "ab = np.array(ab)\n",
        "lnab = np.log(ab)\n",
        "y = np.zeros((1000, 10))\n",
        "y = pd.DataFrame(y)\n",
        "for i in range(10):\n",
        "  y[i] = beta.pdf(x, (res.x[0] + res.x[1] * lnab[i] + res.x[2] * lr[i]) / res.x[3], (1 - (res.x[0] + res.x[1] * lnab[i] + res.x[2] * lr[i])) / res.x[3])\n",
        "for i in range(10):\n",
        "  plt.plot(x, y[i], label=str(\"r\" if lr[i] == 1 else \"l\") + str(10**(i // 2)))\n",
        "plt.legend()\n",
        "plt.xlim(0, 0.4)\n",
        "plt.show()"
      ],
      "metadata": {
        "id": "Gf4EjjuZx7MB",
        "colab": {
          "base_uri": "https://localhost:8080/",
          "height": 265
        },
        "outputId": "737ac739-9573-4eb1-ced7-8f9d7af6204c"
      },
      "execution_count": 21,
      "outputs": [
        {
          "output_type": "display_data",
          "data": {
            "text/plain": [
              "<Figure size 432x288 with 1 Axes>"
            ],
            "image/png": "[encoded data removed]"
          },
          "metadata": {
            "needs_background": "light"
          }
        }
      ]
    },
    {
      "cell_type": "markdown",
      "source": [
        "---\n",
        "\n",
        "\n",
        "\n",
        "Compute the credible interval of different kinds of batter\n",
        "\n",
        "---"
      ],
      "metadata": {
        "id": "308QA3PShmrT"
      }
    },
    {
      "cell_type": "code",
      "source": [
        "var = [[3, 10], [30, 100], [300, 1000]]\n",
        "def leftinterval(list):\n",
        "  alpha_prior = (res.x[0] + res.x[1] * np.log(list[1]) + res.x[2] * 0) / res.x[3]\n",
        "  beta_prior = (1 - (res.x[0] + res.x[1] * np.log(list[1]) + res.x[2] * 0)) / res.x[3]\n",
        "  alpha_post = alpha_prior + list[0]\n",
        "  beta_post = beta_prior + list[1] - list[0]\n",
        "  return [beta.ppf(0.025, alpha_post, beta_post), beta.ppf(0.975, alpha_post, beta_post)]\n",
        "def rightinterval(list):\n",
        "  alpha_prior = (res.x[0] + res.x[1] * np.log(list[1]) + res.x[2] * 1) / res.x[3]\n",
        "  beta_prior = (1 - (res.x[0] + res.x[1] * np.log(list[1]) + res.x[2] * 1)) / res.x[3]\n",
        "  alpha_post = alpha_prior + list[0]\n",
        "  beta_post = beta_prior + list[1] - list[0]\n",
        "  return [beta.ppf(0.025, alpha_post, beta_post), beta.ppf(0.975, alpha_post, beta_post)]\n",
        "print(\"left when 3/10\", leftinterval(var[0]), \"\\nright when 3/10\", rightinterval(var[0]))\n",
        "print(\"left when 30/100\", leftinterval(var[1]), \"\\nright when 30/100\", rightinterval(var[1]))\n",
        "print(\"left when 300/1000\", leftinterval(var[2]), \"\\nright when 300/1000\", rightinterval(var[2]))"
      ],
      "metadata": {
        "colab": {
          "base_uri": "https://localhost:8080/"
        },
        "id": "JHsvVojhGlu1",
        "outputId": "937f1136-0603-468e-eb33-03e418f2be6d"
      },
      "execution_count": 22,
      "outputs": [
        {
          "output_type": "stream",
          "name": "stdout",
          "text": [
            "left when 3/10 [0.14464514414479654, 0.21543521779249564] \n",
            "right when 3/10 [0.13871477769031015, 0.20848201419969337]\n",
            "left when 30/100 [0.1948359550427392, 0.2657682508847931] \n",
            "right when 30/100 [0.1897651276126152, 0.2601028986794264]\n",
            "left when 300/1000 [0.2618972675639635, 0.3085301700541036] \n",
            "right when 300/1000 [0.25993421721377297, 0.3064672691630672]\n"
          ]
        }
      ]
    },
    {
      "cell_type": "markdown",
      "source": [
        "---\n",
        "\n",
        "Stan package is designed for bayesian research. \n",
        "\n",
        "We construct our model and store it in a string or a file, then Stan will use C to compile our code\n",
        "\n",
        "---"
      ],
      "metadata": {
        "id": "MvMH5sEjie1A"
      }
    },
    {
      "cell_type": "code",
      "source": [
        "import stan\n",
        "import arviz as az\n",
        "!pip install nest_asyncio\n",
        "import nest_asyncio\n",
        "nest_asyncio.apply()"
      ],
      "metadata": {
        "colab": {
          "base_uri": "https://localhost:8080/"
        },
        "id": "munJmjKDmcfJ",
        "outputId": "98abe5c9-e62a-4b0e-d619-edd44f05284b"
      },
      "execution_count": 23,
      "outputs": [
        {
          "output_type": "stream",
          "name": "stdout",
          "text": [
            "Looking in indexes: https://pypi.org/simple, https://us-python.pkg.dev/colab-wheels/public/simple/\n",
            "Collecting nest_asyncio\n",
            "  Downloading nest_asyncio-1.5.6-py3-none-any.whl (5.2 kB)\n",
            "Installing collected packages: nest-asyncio\n",
            "Successfully installed nest-asyncio-1.5.6\n"
          ]
        }
      ]
    },
    {
      "cell_type": "code",
      "source": [
        "text2='''\n",
        "data{\n",
        "  int<lower=0> N;\n",
        "  int<lower=0> AB[N];\n",
        "  int<lower=0> H[N];\n",
        "}\n",
        "parameters{\n",
        "  real<lower=80, upper=120> alpha;\n",
        "  real<lower=210, upper=290> beta;\n",
        "}\n",
        "model{\n",
        "  H~beta_binomial(AB, alpha, beta);\n",
        "}\n",
        "'''\n",
        "stan_data = {'N':4245, 'AB':list(career_name2['AB'].astype(int)), 'H': list(career_name2['H'].astype(int))}\n",
        "posterior = stan.build(text2, data=stan_data)\n",
        "fit = posterior.sample(num_chains=1, num_samples=1000)\n",
        "df = fit.to_frame()"
      ],
      "metadata": {
        "colab": {
          "base_uri": "https://localhost:8080/"
        },
        "id": "25_O0osfmlRl",
        "outputId": "7b83256b-8e77-4ee6-f75f-12c11bbdf351"
      },
      "execution_count": 24,
      "outputs": [
        {
          "output_type": "stream",
          "name": "stdout",
          "text": [
            "Building...\n"
          ]
        },
        {
          "output_type": "stream",
          "name": "stderr",
          "text": [
            "\n",
            "Building: 42.9s, done.Messages from stanc:\n",
            "Warning: Your Stan program has a parameter beta with a lower and upper bound in its declaration. These hard constraints are not recommended, for two reasons: (a) Except when there are logical or physical constraints, it is very unusual for you to be sure that a parameter will fall inside a specified range, and (b) The infinite gradient induced by a hard constraint can cause difficulties for Stan's sampling algorithm. As a consequence, we recommend soft constraints rather than hard constraints; for example, instead of constraining an elasticity parameter to fall between 0, and 1, leave it unconstrained and give it a normal(0.5,0.5) prior distribution.\n",
            "Warning: Your Stan program has a parameter alpha with a lower and upper bound in its declaration. These hard constraints are not recommended, for two reasons: (a) Except when there are logical or physical constraints, it is very unusual for you to be sure that a parameter will fall inside a specified range, and (b) The infinite gradient induced by a hard constraint can cause difficulties for Stan's sampling algorithm. As a consequence, we recommend soft constraints rather than hard constraints; for example, instead of constraining an elasticity parameter to fall between 0, and 1, leave it unconstrained and give it a normal(0.5,0.5) prior distribution.\n",
            "Warning: The parameter beta has no priors.\n",
            "Warning: The parameter alpha has no priors.\n",
            "Sampling:   0%\n",
            "Sampling:   0% (1/2000)\n",
            "Sampling:   5% (100/2000)\n",
            "Sampling:  10% (200/2000)\n",
            "Sampling:  15% (300/2000)\n",
            "Sampling:  20% (400/2000)\n",
            "Sampling:  25% (500/2000)\n",
            "Sampling:  30% (600/2000)\n",
            "Sampling:  35% (700/2000)\n",
            "Sampling:  40% (800/2000)\n",
            "Sampling:  45% (900/2000)\n",
            "Sampling:  50% (1001/2000)\n",
            "Sampling:  55% (1100/2000)\n",
            "Sampling:  60% (1200/2000)\n",
            "Sampling:  65% (1300/2000)\n",
            "Sampling:  70% (1400/2000)\n",
            "Sampling:  75% (1500/2000)\n",
            "Sampling:  80% (1600/2000)\n",
            "Sampling:  85% (1700/2000)\n",
            "Sampling:  90% (1800/2000)\n",
            "Sampling:  95% (1900/2000)\n",
            "Sampling: 100% (2000/2000)\n",
            "Sampling: 100% (2000/2000), done.\n",
            "Messages received during sampling:\n",
            "  Gradient evaluation took 0.002426 seconds\n",
            "  1000 transitions using 10 leapfrog steps per transition would take 24.26 seconds.\n",
            "  Adjust your expectations accordingly!\n"
          ]
        }
      ]
    },
    {
      "cell_type": "code",
      "source": [
        "print(\"beta =\", df.beta.mean(), 'alpha =', df.alpha.mean())\n",
        "az.summary(fit)"
      ],
      "metadata": {
        "colab": {
          "base_uri": "https://localhost:8080/",
          "height": 147
        },
        "id": "kddWpS8KmsD5",
        "outputId": "80f761bb-32a0-433b-d46e-a290a1f3dd12"
      },
      "execution_count": 25,
      "outputs": [
        {
          "output_type": "stream",
          "name": "stdout",
          "text": [
            "beta = 285.748055868621 alpha = 100.53413858318605\n"
          ]
        },
        {
          "output_type": "stream",
          "name": "stderr",
          "text": [
            "Shape validation failed: input_shape: (1, 1000), minimum_shape: (chains=2, draws=4)\n"
          ]
        },
        {
          "output_type": "execute_result",
          "data": {
            "text/plain": [
              "          mean     sd   hdi_3%  hdi_97%  mcse_mean  mcse_sd  ess_bulk  \\\n",
              "alpha  100.534  0.962   98.802  101.964      0.107    0.076      81.0   \n",
              "beta   285.748  2.713  281.359  289.999      0.301    0.213      81.0   \n",
              "\n",
              "       ess_tail  r_hat  \n",
              "alpha      71.0    NaN  \n",
              "beta       59.0    NaN  "
            ],
            "text/html": [
              "\n",
              "  <div id=\"df-f04d463c-fc44-43fc-8c55-21e755c8b9e3\">\n",
              "    <div class=\"colab-df-container\">\n",
              "      <div>\n",
              "<style scoped>\n",
              "    .dataframe tbody tr th:only-of-type {\n",
              "        vertical-align: middle;\n",
              "    }\n",
              "\n",
              "    .dataframe tbody tr th {\n",
              "        vertical-align: top;\n",
              "    }\n",
              "\n",
              "    .dataframe thead th {\n",
              "        text-align: right;\n",
              "    }\n",
              "</style>\n",
              "<table border=\"1\" class=\"dataframe\">\n",
              "  <thead>\n",
              "    <tr style=\"text-align: right;\">\n",
              "      <th></th>\n",
              "      <th>mean</th>\n",
              "      <th>sd</th>\n",
              "      <th>hdi_3%</th>\n",
              "      <th>hdi_97%</th>\n",
              "      <th>mcse_mean</th>\n",
              "      <th>mcse_sd</th>\n",
              "      <th>ess_bulk</th>\n",
              "      <th>ess_tail</th>\n",
              "      <th>r_hat</th>\n",
              "    </tr>\n",
              "  </thead>\n",
              "  <tbody>\n",
              "    <tr>\n",
              "      <th>alpha</th>\n",
              "      <td>100.534</td>\n",
              "      <td>0.962</td>\n",
              "      <td>98.802</td>\n",
              "      <td>101.964</td>\n",
              "      <td>0.107</td>\n",
              "      <td>0.076</td>\n",
              "      <td>81.0</td>\n",
              "      <td>71.0</td>\n",
              "      <td>NaN</td>\n",
              "    </tr>\n",
              "    <tr>\n",
              "      <th>beta</th>\n",
              "      <td>285.748</td>\n",
              "      <td>2.713</td>\n",
              "      <td>281.359</td>\n",
              "      <td>289.999</td>\n",
              "      <td>0.301</td>\n",
              "      <td>0.213</td>\n",
              "      <td>81.0</td>\n",
              "      <td>59.0</td>\n",
              "      <td>NaN</td>\n",
              "    </tr>\n",
              "  </tbody>\n",
              "</table>\n",
              "</div>\n",
              "      <button class=\"colab-df-convert\" onclick=\"convertToInteractive('df-f04d463c-fc44-43fc-8c55-21e755c8b9e3')\"\n",
              "              title=\"Convert this dataframe to an interactive table.\"\n",
              "              style=\"display:none;\">\n",
              "        \n",
              "  <svg xmlns=\"http://www.w3.org/2000/svg\" height=\"24px\"viewBox=\"0 0 24 24\"\n",
              "       width=\"24px\">\n",
              "    <path d=\"M0 0h24v24H0V0z\" fill=\"none\"/>\n",
              "    <path d=\"M18.56 5.44l.94 2.06.94-2.06 2.06-.94-2.06-.94-.94-2.06-.94 2.06-2.06.94zm-11 1L8.5 8.5l.94-2.06 2.06-.94-2.06-.94L8.5 2.5l-.94 2.06-2.06.94zm10 10l.94 2.06.94-2.06 2.06-.94-2.06-.94-.94-2.06-.94 2.06-2.06.94z\"/><path d=\"M17.41 7.96l-1.37-1.37c-.4-.4-.92-.59-1.43-.59-.52 0-1.04.2-1.43.59L10.3 9.45l-7.72 7.72c-.78.78-.78 2.05 0 2.83L4 21.41c.39.39.9.59 1.41.59.51 0 1.02-.2 1.41-.59l7.78-7.78 2.81-2.81c.8-.78.8-2.07 0-2.86zM5.41 20L4 18.59l7.72-7.72 1.47 1.35L5.41 20z\"/>\n",
              "  </svg>\n",
              "      </button>\n",
              "      \n",
              "  <style>\n",
              "    .colab-df-container {\n",
              "      display:flex;\n",
              "      flex-wrap:wrap;\n",
              "      gap: 12px;\n",
              "    }\n",
              "\n",
              "    .colab-df-convert {\n",
              "      background-color: #E8F0FE;\n",
              "      border: none;\n",
              "      border-radius: 50%;\n",
              "      cursor: pointer;\n",
              "      display: none;\n",
              "      fill: #1967D2;\n",
              "      height: 32px;\n",
              "      padding: 0 0 0 0;\n",
              "      width: 32px;\n",
              "    }\n",
              "\n",
              "    .colab-df-convert:hover {\n",
              "      background-color: #E2EBFA;\n",
              "      box-shadow: 0px 1px 2px rgba(60, 64, 67, 0.3), 0px 1px 3px 1px rgba(60, 64, 67, 0.15);\n",
              "      fill: #174EA6;\n",
              "    }\n",
              "\n",
              "    [theme=dark] .colab-df-convert {\n",
              "      background-color: #3B4455;\n",
              "      fill: #D2E3FC;\n",
              "    }\n",
              "\n",
              "    [theme=dark] .colab-df-convert:hover {\n",
              "      background-color: #434B5C;\n",
              "      box-shadow: 0px 1px 3px 1px rgba(0, 0, 0, 0.15);\n",
              "      filter: drop-shadow(0px 1px 2px rgba(0, 0, 0, 0.3));\n",
              "      fill: #FFFFFF;\n",
              "    }\n",
              "  </style>\n",
              "\n",
              "      <script>\n",
              "        const buttonEl =\n",
              "          document.querySelector('#df-f04d463c-fc44-43fc-8c55-21e755c8b9e3 button.colab-df-convert');\n",
              "        buttonEl.style.display =\n",
              "          google.colab.kernel.accessAllowed ? 'block' : 'none';\n",
              "\n",
              "        async function convertToInteractive(key) {\n",
              "          const element = document.querySelector('#df-f04d463c-fc44-43fc-8c55-21e755c8b9e3');\n",
              "          const dataTable =\n",
              "            await google.colab.kernel.invokeFunction('convertToInteractive',\n",
              "                                                     [key], {});\n",
              "          if (!dataTable) return;\n",
              "\n",
              "          const docLinkHtml = 'Like what you see? Visit the ' +\n",
              "            '<a target=\"_blank\" href=https://colab.research.google.com/notebooks/data_table.ipynb>data table notebook</a>'\n",
              "            + ' to learn more about interactive tables.';\n",
              "          element.innerHTML = '';\n",
              "          dataTable['output_type'] = 'display_data';\n",
              "          await google.colab.output.renderOutput(dataTable, element);\n",
              "          const docLink = document.createElement('div');\n",
              "          docLink.innerHTML = docLinkHtml;\n",
              "          element.appendChild(docLink);\n",
              "        }\n",
              "      </script>\n",
              "    </div>\n",
              "  </div>\n",
              "  "
            ]
          },
          "metadata": {},
          "execution_count": 25
        }
      ]
    },
    {
      "cell_type": "markdown",
      "source": [
        "---\n",
        "\n",
        "The reason why alpha and beta are highly correlated is because the prior hitting average equals to $\\frac{\\alpha}{\\alpha + \\beta}$. In order to maintain the same prior, the ratio of alpha and beta is constant. \n",
        "\n",
        "---"
      ],
      "metadata": {
        "id": "B6I_1J3HklkK"
      }
    },
    {
      "cell_type": "code",
      "source": [
        "az.plot_pair(fit)"
      ],
      "metadata": {
        "colab": {
          "base_uri": "https://localhost:8080/",
          "height": 305
        },
        "id": "WWjVWfeanL5C",
        "outputId": "4121c321-9fff-425c-e4ca-97a0b71b8da6"
      },
      "execution_count": 26,
      "outputs": [
        {
          "output_type": "execute_result",
          "data": {
            "text/plain": [
              "<matplotlib.axes._subplots.AxesSubplot at 0x7f03a4cc2f90>"
            ]
          },
          "metadata": {},
          "execution_count": 26
        },
        {
          "output_type": "display_data",
          "data": {
            "text/plain": [
              "<Figure size 432x288 with 1 Axes>"
            ],
            "image/png": "[encoded data removed]"
          },
          "metadata": {
            "needs_background": "light"
          }
        }
      ]
    },
    {
      "cell_type": "code",
      "source": [
        "text3 = '''\n",
        "data{\n",
        "  int<lower=0> N;\n",
        "  int<lower=0> AB[N];\n",
        "  int<lower=0> H[N];\n",
        "}\n",
        "parameters{\n",
        "  real<lower=80, upper=120> alpha;\n",
        "  real<lower=210, upper=290> beta;\n",
        "  vector<lower=0.001, upper=1>[N] p;\n",
        "}\n",
        "model{\n",
        "  p~beta(alpha, beta);\n",
        "  H~binomial(AB, p);\n",
        "}\n",
        "'''\n",
        "stan_data = {'N':4245, 'AB':list(career_name2['AB'].astype(int)), 'H': list(career_name2['H'].astype(int))}\n",
        "posterior = stan.build(text3, data=stan_data)\n",
        "fit = posterior.sample(num_chains=1, num_samples=1000)\n",
        "df_new = fit.to_frame()"
      ],
      "metadata": {
        "colab": {
          "base_uri": "https://localhost:8080/"
        },
        "id": "jDpMJKZYe8PU",
        "outputId": "13ab4edd-c68e-492e-ee8c-8511c005d000"
      },
      "execution_count": 33,
      "outputs": [
        {
          "output_type": "stream",
          "name": "stdout",
          "text": [
            "Building...\n"
          ]
        },
        {
          "output_type": "stream",
          "name": "stderr",
          "text": [
            "\n",
            "Building: 45.2s, done.Messages from stanc:\n",
            "Warning: Your Stan program has a parameter p with a lower and upper bound in its declaration. These hard constraints are not recommended, for two reasons: (a) Except when there are logical or physical constraints, it is very unusual for you to be sure that a parameter will fall inside a specified range, and (b) The infinite gradient induced by a hard constraint can cause difficulties for Stan's sampling algorithm. As a consequence, we recommend soft constraints rather than hard constraints; for example, instead of constraining an elasticity parameter to fall between 0, and 1, leave it unconstrained and give it a normal(0.5,0.5) prior distribution.\n",
            "Warning: Your Stan program has a parameter beta with a lower and upper bound in its declaration. These hard constraints are not recommended, for two reasons: (a) Except when there are logical or physical constraints, it is very unusual for you to be sure that a parameter will fall inside a specified range, and (b) The infinite gradient induced by a hard constraint can cause difficulties for Stan's sampling algorithm. As a consequence, we recommend soft constraints rather than hard constraints; for example, instead of constraining an elasticity parameter to fall between 0, and 1, leave it unconstrained and give it a normal(0.5,0.5) prior distribution.\n",
            "Warning: Your Stan program has a parameter alpha with a lower and upper bound in its declaration. These hard constraints are not recommended, for two reasons: (a) Except when there are logical or physical constraints, it is very unusual for you to be sure that a parameter will fall inside a specified range, and (b) The infinite gradient induced by a hard constraint can cause difficulties for Stan's sampling algorithm. As a consequence, we recommend soft constraints rather than hard constraints; for example, instead of constraining an elasticity parameter to fall between 0, and 1, leave it unconstrained and give it a normal(0.5,0.5) prior distribution.\n",
            "Warning: The parameter beta has no priors.\n",
            "Warning: The parameter alpha has no priors.\n",
            "Sampling:   0%\n",
            "Sampling:   0% (1/2000)\n",
            "Sampling:   5% (100/2000)\n",
            "Sampling:  10% (200/2000)\n",
            "Sampling:  15% (300/2000)\n",
            "Sampling:  20% (400/2000)\n",
            "Sampling:  25% (500/2000)\n",
            "Sampling:  30% (600/2000)\n",
            "Sampling:  35% (700/2000)\n",
            "Sampling:  40% (800/2000)\n",
            "Sampling:  45% (900/2000)\n",
            "Sampling:  50% (1000/2000)\n",
            "Sampling:  50% (1001/2000)\n",
            "Sampling:  55% (1100/2000)\n",
            "Sampling:  60% (1200/2000)\n",
            "Sampling:  65% (1300/2000)\n",
            "Sampling:  70% (1400/2000)\n",
            "Sampling:  75% (1500/2000)\n",
            "Sampling:  80% (1600/2000)\n",
            "Sampling:  85% (1700/2000)\n",
            "Sampling:  90% (1800/2000)\n",
            "Sampling:  95% (1900/2000)\n",
            "Sampling: 100% (2000/2000)\n",
            "Sampling: 100% (2000/2000), done.\n",
            "Messages received during sampling:\n",
            "  Gradient evaluation took 0.003308 seconds\n",
            "  1000 transitions using 10 leapfrog steps per transition would take 33.08 seconds.\n",
            "  Adjust your expectations accordingly!\n"
          ]
        }
      ]
    },
    {
      "cell_type": "code",
      "source": [
        "df_new.head()"
      ],
      "metadata": {
        "colab": {
          "base_uri": "https://localhost:8080/",
          "height": 331
        },
        "id": "WZ07i9-ihs14",
        "outputId": "9843d2ba-8a66-4f33-977c-1d5def1c1628"
      },
      "execution_count": 34,
      "outputs": [
        {
          "output_type": "execute_result",
          "data": {
            "text/plain": [
              "parameters          lp__  accept_stat__  stepsize__  treedepth__  \\\n",
              "draws                                                              \n",
              "0          -6.943689e+06       0.985426    0.070647          6.0   \n",
              "1          -6.943727e+06       0.984882    0.070647          6.0   \n",
              "2          -6.943717e+06       0.996525    0.070647          6.0   \n",
              "3          -6.943741e+06       0.942223    0.070647          6.0   \n",
              "4          -6.943702e+06       0.791784    0.070647          6.0   \n",
              "\n",
              "parameters  n_leapfrog__  divergent__      energy__       alpha        beta  \\\n",
              "draws                                                                         \n",
              "0                   63.0          0.0  6.945823e+06  100.366985  286.316979   \n",
              "1                   63.0          0.0  6.945771e+06  101.197877  286.671995   \n",
              "2                   63.0          0.0  6.945842e+06   99.939125  284.856995   \n",
              "3                   63.0          0.0  6.945857e+06   99.891187  283.560580   \n",
              "4                   63.0          0.0  6.945838e+06  100.269153  284.093072   \n",
              "\n",
              "parameters       p.1  ...    p.4236    p.4237    p.4238    p.4239    p.4240  \\\n",
              "draws                 ...                                                     \n",
              "0           0.305185  ...  0.217170  0.298516  0.219967  0.275763  0.269563   \n",
              "1           0.301358  ...  0.253311  0.287356  0.220252  0.275795  0.268267   \n",
              "2           0.309671  ...  0.227773  0.296844  0.226420  0.271794  0.261235   \n",
              "3           0.299842  ...  0.250837  0.298509  0.217880  0.272357  0.260005   \n",
              "4           0.299276  ...  0.231892  0.276994  0.211781  0.272376  0.253667   \n",
              "\n",
              "parameters    p.4241    p.4242    p.4243    p.4244    p.4245  \n",
              "draws                                                         \n",
              "0           0.287304  0.254586  0.209329  0.251250  0.282719  \n",
              "1           0.282639  0.273222  0.211591  0.251693  0.274723  \n",
              "2           0.287014  0.266251  0.206504  0.247463  0.278495  \n",
              "3           0.284552  0.261751  0.207496  0.267143  0.278610  \n",
              "4           0.281833  0.259478  0.206113  0.252020  0.278368  \n",
              "\n",
              "[5 rows x 4254 columns]"
            ],
            "text/html": [
              "\n",
              "  <div id=\"df-de05e181-6cb2-4e38-8f1a-b900b42b51e1\">\n",
              "    <div class=\"colab-df-container\">\n",
              "      <div>\n",
              "<style scoped>\n",
              "    .dataframe tbody tr th:only-of-type {\n",
              "        vertical-align: middle;\n",
              "    }\n",
              "\n",
              "    .dataframe tbody tr th {\n",
              "        vertical-align: top;\n",
              "    }\n",
              "\n",
              "    .dataframe thead th {\n",
              "        text-align: right;\n",
              "    }\n",
              "</style>\n",
              "<table border=\"1\" class=\"dataframe\">\n",
              "  <thead>\n",
              "    <tr style=\"text-align: right;\">\n",
              "      <th>parameters</th>\n",
              "      <th>lp__</th>\n",
              "      <th>accept_stat__</th>\n",
              "      <th>stepsize__</th>\n",
              "      <th>treedepth__</th>\n",
              "      <th>n_leapfrog__</th>\n",
              "      <th>divergent__</th>\n",
              "      <th>energy__</th>\n",
              "      <th>alpha</th>\n",
              "      <th>beta</th>\n",
              "      <th>p.1</th>\n",
              "      <th>...</th>\n",
              "      <th>p.4236</th>\n",
              "      <th>p.4237</th>\n",
              "      <th>p.4238</th>\n",
              "      <th>p.4239</th>\n",
              "      <th>p.4240</th>\n",
              "      <th>p.4241</th>\n",
              "      <th>p.4242</th>\n",
              "      <th>p.4243</th>\n",
              "      <th>p.4244</th>\n",
              "      <th>p.4245</th>\n",
              "    </tr>\n",
              "    <tr>\n",
              "      <th>draws</th>\n",
              "      <th></th>\n",
              "      <th></th>\n",
              "      <th></th>\n",
              "      <th></th>\n",
              "      <th></th>\n",
              "      <th></th>\n",
              "      <th></th>\n",
              "      <th></th>\n",
              "      <th></th>\n",
              "      <th></th>\n",
              "      <th></th>\n",
              "      <th></th>\n",
              "      <th></th>\n",
              "      <th></th>\n",
              "      <th></th>\n",
              "      <th></th>\n",
              "      <th></th>\n",
              "      <th></th>\n",
              "      <th></th>\n",
              "      <th></th>\n",
              "      <th></th>\n",
              "    </tr>\n",
              "  </thead>\n",
              "  <tbody>\n",
              "    <tr>\n",
              "      <th>0</th>\n",
              "      <td>-6.943689e+06</td>\n",
              "      <td>0.985426</td>\n",
              "      <td>0.070647</td>\n",
              "      <td>6.0</td>\n",
              "      <td>63.0</td>\n",
              "      <td>0.0</td>\n",
              "      <td>6.945823e+06</td>\n",
              "      <td>100.366985</td>\n",
              "      <td>286.316979</td>\n",
              "      <td>0.305185</td>\n",
              "      <td>...</td>\n",
              "      <td>0.217170</td>\n",
              "      <td>0.298516</td>\n",
              "      <td>0.219967</td>\n",
              "      <td>0.275763</td>\n",
              "      <td>0.269563</td>\n",
              "      <td>0.287304</td>\n",
              "      <td>0.254586</td>\n",
              "      <td>0.209329</td>\n",
              "      <td>0.251250</td>\n",
              "      <td>0.282719</td>\n",
              "    </tr>\n",
              "    <tr>\n",
              "      <th>1</th>\n",
              "      <td>-6.943727e+06</td>\n",
              "      <td>0.984882</td>\n",
              "      <td>0.070647</td>\n",
              "      <td>6.0</td>\n",
              "      <td>63.0</td>\n",
              "      <td>0.0</td>\n",
              "      <td>6.945771e+06</td>\n",
              "      <td>101.197877</td>\n",
              "      <td>286.671995</td>\n",
              "      <td>0.301358</td>\n",
              "      <td>...</td>\n",
              "      <td>0.253311</td>\n",
              "      <td>0.287356</td>\n",
              "      <td>0.220252</td>\n",
              "      <td>0.275795</td>\n",
              "      <td>0.268267</td>\n",
              "      <td>0.282639</td>\n",
              "      <td>0.273222</td>\n",
              "      <td>0.211591</td>\n",
              "      <td>0.251693</td>\n",
              "      <td>0.274723</td>\n",
              "    </tr>\n",
              "    <tr>\n",
              "      <th>2</th>\n",
              "      <td>-6.943717e+06</td>\n",
              "      <td>0.996525</td>\n",
              "      <td>0.070647</td>\n",
              "      <td>6.0</td>\n",
              "      <td>63.0</td>\n",
              "      <td>0.0</td>\n",
              "      <td>6.945842e+06</td>\n",
              "      <td>99.939125</td>\n",
              "      <td>284.856995</td>\n",
              "      <td>0.309671</td>\n",
              "      <td>...</td>\n",
              "      <td>0.227773</td>\n",
              "      <td>0.296844</td>\n",
              "      <td>0.226420</td>\n",
              "      <td>0.271794</td>\n",
              "      <td>0.261235</td>\n",
              "      <td>0.287014</td>\n",
              "      <td>0.266251</td>\n",
              "      <td>0.206504</td>\n",
              "      <td>0.247463</td>\n",
              "      <td>0.278495</td>\n",
              "    </tr>\n",
              "    <tr>\n",
              "      <th>3</th>\n",
              "      <td>-6.943741e+06</td>\n",
              "      <td>0.942223</td>\n",
              "      <td>0.070647</td>\n",
              "      <td>6.0</td>\n",
              "      <td>63.0</td>\n",
              "      <td>0.0</td>\n",
              "      <td>6.945857e+06</td>\n",
              "      <td>99.891187</td>\n",
              "      <td>283.560580</td>\n",
              "      <td>0.299842</td>\n",
              "      <td>...</td>\n",
              "      <td>0.250837</td>\n",
              "      <td>0.298509</td>\n",
              "      <td>0.217880</td>\n",
              "      <td>0.272357</td>\n",
              "      <td>0.260005</td>\n",
              "      <td>0.284552</td>\n",
              "      <td>0.261751</td>\n",
              "      <td>0.207496</td>\n",
              "      <td>0.267143</td>\n",
              "      <td>0.278610</td>\n",
              "    </tr>\n",
              "    <tr>\n",
              "      <th>4</th>\n",
              "      <td>-6.943702e+06</td>\n",
              "      <td>0.791784</td>\n",
              "      <td>0.070647</td>\n",
              "      <td>6.0</td>\n",
              "      <td>63.0</td>\n",
              "      <td>0.0</td>\n",
              "      <td>6.945838e+06</td>\n",
              "      <td>100.269153</td>\n",
              "      <td>284.093072</td>\n",
              "      <td>0.299276</td>\n",
              "      <td>...</td>\n",
              "      <td>0.231892</td>\n",
              "      <td>0.276994</td>\n",
              "      <td>0.211781</td>\n",
              "      <td>0.272376</td>\n",
              "      <td>0.253667</td>\n",
              "      <td>0.281833</td>\n",
              "      <td>0.259478</td>\n",
              "      <td>0.206113</td>\n",
              "      <td>0.252020</td>\n",
              "      <td>0.278368</td>\n",
              "    </tr>\n",
              "  </tbody>\n",
              "</table>\n",
              "<p>5 rows × 4254 columns</p>\n",
              "</div>\n",
              "      <button class=\"colab-df-convert\" onclick=\"convertToInteractive('df-de05e181-6cb2-4e38-8f1a-b900b42b51e1')\"\n",
              "              title=\"Convert this dataframe to an interactive table.\"\n",
              "              style=\"display:none;\">\n",
              "        \n",
              "  <svg xmlns=\"http://www.w3.org/2000/svg\" height=\"24px\"viewBox=\"0 0 24 24\"\n",
              "       width=\"24px\">\n",
              "    <path d=\"M0 0h24v24H0V0z\" fill=\"none\"/>\n",
              "    <path d=\"M18.56 5.44l.94 2.06.94-2.06 2.06-.94-2.06-.94-.94-2.06-.94 2.06-2.06.94zm-11 1L8.5 8.5l.94-2.06 2.06-.94-2.06-.94L8.5 2.5l-.94 2.06-2.06.94zm10 10l.94 2.06.94-2.06 2.06-.94-2.06-.94-.94-2.06-.94 2.06-2.06.94z\"/><path d=\"M17.41 7.96l-1.37-1.37c-.4-.4-.92-.59-1.43-.59-.52 0-1.04.2-1.43.59L10.3 9.45l-7.72 7.72c-.78.78-.78 2.05 0 2.83L4 21.41c.39.39.9.59 1.41.59.51 0 1.02-.2 1.41-.59l7.78-7.78 2.81-2.81c.8-.78.8-2.07 0-2.86zM5.41 20L4 18.59l7.72-7.72 1.47 1.35L5.41 20z\"/>\n",
              "  </svg>\n",
              "      </button>\n",
              "      \n",
              "  <style>\n",
              "    .colab-df-container {\n",
              "      display:flex;\n",
              "      flex-wrap:wrap;\n",
              "      gap: 12px;\n",
              "    }\n",
              "\n",
              "    .colab-df-convert {\n",
              "      background-color: #E8F0FE;\n",
              "      border: none;\n",
              "      border-radius: 50%;\n",
              "      cursor: pointer;\n",
              "      display: none;\n",
              "      fill: #1967D2;\n",
              "      height: 32px;\n",
              "      padding: 0 0 0 0;\n",
              "      width: 32px;\n",
              "    }\n",
              "\n",
              "    .colab-df-convert:hover {\n",
              "      background-color: #E2EBFA;\n",
              "      box-shadow: 0px 1px 2px rgba(60, 64, 67, 0.3), 0px 1px 3px 1px rgba(60, 64, 67, 0.15);\n",
              "      fill: #174EA6;\n",
              "    }\n",
              "\n",
              "    [theme=dark] .colab-df-convert {\n",
              "      background-color: #3B4455;\n",
              "      fill: #D2E3FC;\n",
              "    }\n",
              "\n",
              "    [theme=dark] .colab-df-convert:hover {\n",
              "      background-color: #434B5C;\n",
              "      box-shadow: 0px 1px 3px 1px rgba(0, 0, 0, 0.15);\n",
              "      filter: drop-shadow(0px 1px 2px rgba(0, 0, 0, 0.3));\n",
              "      fill: #FFFFFF;\n",
              "    }\n",
              "  </style>\n",
              "\n",
              "      <script>\n",
              "        const buttonEl =\n",
              "          document.querySelector('#df-de05e181-6cb2-4e38-8f1a-b900b42b51e1 button.colab-df-convert');\n",
              "        buttonEl.style.display =\n",
              "          google.colab.kernel.accessAllowed ? 'block' : 'none';\n",
              "\n",
              "        async function convertToInteractive(key) {\n",
              "          const element = document.querySelector('#df-de05e181-6cb2-4e38-8f1a-b900b42b51e1');\n",
              "          const dataTable =\n",
              "            await google.colab.kernel.invokeFunction('convertToInteractive',\n",
              "                                                     [key], {});\n",
              "          if (!dataTable) return;\n",
              "\n",
              "          const docLinkHtml = 'Like what you see? Visit the ' +\n",
              "            '<a target=\"_blank\" href=https://colab.research.google.com/notebooks/data_table.ipynb>data table notebook</a>'\n",
              "            + ' to learn more about interactive tables.';\n",
              "          element.innerHTML = '';\n",
              "          dataTable['output_type'] = 'display_data';\n",
              "          await google.colab.output.renderOutput(dataTable, element);\n",
              "          const docLink = document.createElement('div');\n",
              "          docLink.innerHTML = docLinkHtml;\n",
              "          element.appendChild(docLink);\n",
              "        }\n",
              "      </script>\n",
              "    </div>\n",
              "  </div>\n",
              "  "
            ]
          },
          "metadata": {},
          "execution_count": 34
        }
      ]
    },
    {
      "cell_type": "code",
      "source": [
        "avg_stan_new = np.array(pd.melt(pd.DataFrame(df_new.iloc[:,9:].mean()), id_vars=None)['value'])\n",
        "avg_stan = np.array((career_name2['H']+df.alpha.mean())/(career_name2['AB']+df.alpha.mean()+df.beta.mean()))\n",
        "plt.hist(avg_stan, bins=100)\n",
        "plt.hist(avg_stan_new, bins=100)"
      ],
      "metadata": {
        "colab": {
          "base_uri": "https://localhost:8080/",
          "height": 820
        },
        "id": "C30GCZhjiHH5",
        "outputId": "712077fe-c525-48c3-dfa4-38084f4cbd6d"
      },
      "execution_count": 57,
      "outputs": [
        {
          "output_type": "execute_result",
          "data": {
            "text/plain": [
              "(array([  1.,   0.,   0.,   0.,   0.,   0.,   0.,   0.,   1.,   0.,   0.,\n",
              "          1.,   1.,   1.,   0.,   3.,   3.,   2.,   3.,   8.,   6.,   6.,\n",
              "         15.,  15.,  23.,  26.,  38.,  27.,  53.,  55.,  56.,  64.,  86.,\n",
              "         91.,  99., 125., 121., 136., 158., 134., 142., 141., 162., 141.,\n",
              "        149., 146., 157., 141., 133., 138., 132., 131., 119., 112.,  94.,\n",
              "         86.,  82.,  63.,  70.,  67.,  48.,  53.,  43.,  42.,  38.,  28.,\n",
              "         40.,  22.,  22.,  21.,  20.,  15.,  12.,  13.,  13.,   2.,   7.,\n",
              "          9.,   3.,   3.,   5.,   3.,   0.,   1.,   3.,   1.,   4.,   0.,\n",
              "          1.,   3.,   2.,   1.,   1.,   0.,   0.,   0.,   0.,   1.,   0.,\n",
              "          1.]),\n",
              " array([0.18029686, 0.18203532, 0.18377378, 0.18551224, 0.1872507 ,\n",
              "        0.18898915, 0.19072761, 0.19246607, 0.19420453, 0.19594298,\n",
              "        0.19768144, 0.1994199 , 0.20115836, 0.20289682, 0.20463527,\n",
              "        0.20637373, 0.20811219, 0.20985065, 0.2115891 , 0.21332756,\n",
              "        0.21506602, 0.21680448, 0.21854293, 0.22028139, 0.22201985,\n",
              "        0.22375831, 0.22549677, 0.22723522, 0.22897368, 0.23071214,\n",
              "        0.2324506 , 0.23418905, 0.23592751, 0.23766597, 0.23940443,\n",
              "        0.24114289, 0.24288134, 0.2446198 , 0.24635826, 0.24809672,\n",
              "        0.24983517, 0.25157363, 0.25331209, 0.25505055, 0.256789  ,\n",
              "        0.25852746, 0.26026592, 0.26200438, 0.26374284, 0.26548129,\n",
              "        0.26721975, 0.26895821, 0.27069667, 0.27243512, 0.27417358,\n",
              "        0.27591204, 0.2776505 , 0.27938896, 0.28112741, 0.28286587,\n",
              "        0.28460433, 0.28634279, 0.28808124, 0.2898197 , 0.29155816,\n",
              "        0.29329662, 0.29503508, 0.29677353, 0.29851199, 0.30025045,\n",
              "        0.30198891, 0.30372736, 0.30546582, 0.30720428, 0.30894274,\n",
              "        0.31068119, 0.31241965, 0.31415811, 0.31589657, 0.31763503,\n",
              "        0.31937348, 0.32111194, 0.3228504 , 0.32458886, 0.32632731,\n",
              "        0.32806577, 0.32980423, 0.33154269, 0.33328115, 0.3350196 ,\n",
              "        0.33675806, 0.33849652, 0.34023498, 0.34197343, 0.34371189,\n",
              "        0.34545035, 0.34718881, 0.34892726, 0.35066572, 0.35240418,\n",
              "        0.35414264]),\n",
              " <a list of 100 Patch objects>)"
            ]
          },
          "metadata": {},
          "execution_count": 57
        },
        {
          "output_type": "display_data",
          "data": {
            "text/plain": [
              "<Figure size 432x288 with 1 Axes>"
            ],
            "image/png": "[encoded data removed]"
          },
          "metadata": {
            "needs_background": "light"
          }
        }
      ]
    },
    {
      "cell_type": "code",
      "source": [
        "max(abs(avg_stan-avg_stan_new))"
      ],
      "metadata": {
        "colab": {
          "base_uri": "https://localhost:8080/"
        },
        "id": "hI7yLK9Bq987",
        "outputId": "ae7144c3-056c-4b04-a220-57f220376736"
      },
      "execution_count": 59,
      "outputs": [
        {
          "output_type": "execute_result",
          "data": {
            "text/plain": [
              "0.0011695774074559906"
            ]
          },
          "metadata": {},
          "execution_count": 59
        }
      ]
    },
    {
      "cell_type": "markdown",
      "source": [
        "---\n",
        "\n",
        "Consider the following heirarchical model:\n",
        "\n",
        "$p_i\\sim Beta(\\alpha_i, \\beta_i)\\\\\n",
        "H_i\\sim Bin(AB_i, p_i)$\n",
        "\n",
        "Under our assumptions \n",
        "1. Good players have more opportunity \n",
        "2. Left hitters are different from right hitters\n",
        "\n",
        "Which means our model is\n",
        "\n",
        "$\\mu_i = \\beta_0+\\beta_1*logAB_i+\\beta_2*bat_i\\\\\n",
        "\\alpha_i = \\frac{\\mu_i}{\\sigma}\\\\ \n",
        "\\beta_i = \\frac{1-\\mu_i}{\\sigma}$\n",
        "\n",
        "\n",
        "---\n"
      ],
      "metadata": {
        "id": "0glf1ueBiNHO"
      }
    },
    {
      "cell_type": "code",
      "source": [
        "text='''\n",
        "data{\n",
        "  int<lower=0> N;\n",
        "  int<lower=0> AB[N];\n",
        "  real logAB[N];\n",
        "  int<lower=0> H[N];\n",
        "  int<lower=0, upper=1> bat[N];\n",
        "}\n",
        "parameters{\n",
        "  real<lower=0.13, upper=0.14> beta0;\n",
        "  real<lower=0.016, upper=0.017> beta1;\n",
        "  real<lower=-0.007, upper=-0.006> beta2;\n",
        "  real<lower=0.002, upper=0.003> sigma;\n",
        "}\n",
        "transformed parameters{\n",
        "  vector[N] mu_i;\n",
        "  vector[N] alpha_i;\n",
        "  vector[N] beta_i;\n",
        "  mu_i = beta0 + to_vector(logAB)*beta1  + to_vector(bat)*beta2;\n",
        "  alpha_i = mu_i/sigma;\n",
        "  beta_i = (1-mu_i)/sigma;\n",
        "}\n",
        "model{\n",
        "  beta0~normal(0,1);\n",
        "  beta1~normal(0,1);\n",
        "  beta2~normal(0,1);\n",
        "  sigma~normal(0,1);\n",
        "  H~beta_binomial(AB, alpha_i, beta_i);\n",
        "}\n",
        "'''\n",
        "# 0.1386039 ,  0.01620308, -0.00661675,  0.00228272]"
      ],
      "metadata": {
        "id": "r3EuVCIBnVsI"
      },
      "execution_count": 27,
      "outputs": []
    },
    {
      "cell_type": "code",
      "source": [
        "stan_data = {'N':4245, 'AB':list(career_name2['AB'].astype(int)), 'logAB': list(logAB), 'H': list(career_name2['H'].astype(int)), 'bat': list(bats.astype(int))}\n",
        "posterior = stan.build(text, data=stan_data)\n",
        "fit = posterior.sample(num_chains=1, num_samples=1000)\n",
        "df_hier = fit.to_frame()"
      ],
      "metadata": {
        "colab": {
          "base_uri": "https://localhost:8080/"
        },
        "id": "2zUmxl_cnakU",
        "outputId": "379f64ba-7677-4042-b7a0-f7a5080fe008"
      },
      "execution_count": 28,
      "outputs": [
        {
          "output_type": "stream",
          "name": "stdout",
          "text": [
            "Building...\n"
          ]
        },
        {
          "output_type": "stream",
          "name": "stderr",
          "text": [
            "\n",
            "Building: 48.3s, done.Messages from stanc:\n",
            "Warning: Your Stan program has a parameter sigma with a lower and upper bound in its declaration. These hard constraints are not recommended, for two reasons: (a) Except when there are logical or physical constraints, it is very unusual for you to be sure that a parameter will fall inside a specified range, and (b) The infinite gradient induced by a hard constraint can cause difficulties for Stan's sampling algorithm. As a consequence, we recommend soft constraints rather than hard constraints; for example, instead of constraining an elasticity parameter to fall between 0, and 1, leave it unconstrained and give it a normal(0.5,0.5) prior distribution.\n",
            "Warning: Your Stan program has a parameter beta2 with a lower and upper bound in its declaration. These hard constraints are not recommended, for two reasons: (a) Except when there are logical or physical constraints, it is very unusual for you to be sure that a parameter will fall inside a specified range, and (b) The infinite gradient induced by a hard constraint can cause difficulties for Stan's sampling algorithm. As a consequence, we recommend soft constraints rather than hard constraints; for example, instead of constraining an elasticity parameter to fall between 0, and 1, leave it unconstrained and give it a normal(0.5,0.5) prior distribution.\n",
            "Warning: Your Stan program has a parameter beta1 with a lower and upper bound in its declaration. These hard constraints are not recommended, for two reasons: (a) Except when there are logical or physical constraints, it is very unusual for you to be sure that a parameter will fall inside a specified range, and (b) The infinite gradient induced by a hard constraint can cause difficulties for Stan's sampling algorithm. As a consequence, we recommend soft constraints rather than hard constraints; for example, instead of constraining an elasticity parameter to fall between 0, and 1, leave it unconstrained and give it a normal(0.5,0.5) prior distribution.\n",
            "Warning: Your Stan program has a parameter beta0 with a lower and upper bound in its declaration. These hard constraints are not recommended, for two reasons: (a) Except when there are logical or physical constraints, it is very unusual for you to be sure that a parameter will fall inside a specified range, and (b) The infinite gradient induced by a hard constraint can cause difficulties for Stan's sampling algorithm. As a consequence, we recommend soft constraints rather than hard constraints; for example, instead of constraining an elasticity parameter to fall between 0, and 1, leave it unconstrained and give it a normal(0.5,0.5) prior distribution.\n",
            "Sampling:   0%\n",
            "Sampling:   0% (1/2000)\n",
            "Sampling:   5% (100/2000)\n",
            "Sampling:  10% (200/2000)\n",
            "Sampling:  15% (300/2000)\n",
            "Sampling:  20% (400/2000)\n",
            "Sampling:  25% (500/2000)\n",
            "Sampling:  30% (600/2000)\n",
            "Sampling:  35% (700/2000)\n",
            "Sampling:  40% (800/2000)\n",
            "Sampling:  45% (900/2000)\n",
            "Sampling:  50% (1001/2000)\n",
            "Sampling:  55% (1100/2000)\n",
            "Sampling:  60% (1200/2000)\n",
            "Sampling:  65% (1300/2000)\n",
            "Sampling:  70% (1400/2000)\n",
            "Sampling:  75% (1500/2000)\n",
            "Sampling:  80% (1600/2000)\n",
            "Sampling:  85% (1700/2000)\n",
            "Sampling:  90% (1800/2000)\n",
            "Sampling:  95% (1900/2000)\n",
            "Sampling: 100% (2000/2000)\n",
            "Sampling: 100% (2000/2000), done.\n",
            "Messages received during sampling:\n",
            "  Gradient evaluation took 0.004251 seconds\n",
            "  1000 transitions using 10 leapfrog steps per transition would take 42.51 seconds.\n",
            "  Adjust your expectations accordingly!\n"
          ]
        }
      ]
    },
    {
      "cell_type": "code",
      "source": [
        "az.summary(fit)"
      ],
      "metadata": {
        "id": "y-pDdyFKnhDe",
        "colab": {
          "base_uri": "https://localhost:8080/",
          "height": 441
        },
        "outputId": "1de9e440-8b52-4ef1-f209-30c2ca2bb1f2"
      },
      "execution_count": 29,
      "outputs": [
        {
          "output_type": "stream",
          "name": "stderr",
          "text": [
            "Shape validation failed: input_shape: (1, 1000), minimum_shape: (chains=2, draws=4)\n"
          ]
        },
        {
          "output_type": "execute_result",
          "data": {
            "text/plain": [
              "                 mean     sd   hdi_3%  hdi_97%  mcse_mean  mcse_sd  ess_bulk  \\\n",
              "beta0           0.136  0.002    0.133    0.140      0.000    0.000     109.0   \n",
              "beta1           0.016  0.000    0.016    0.017      0.000    0.000     109.0   \n",
              "beta2          -0.007  0.000   -0.007   -0.006      0.000    0.000     439.0   \n",
              "sigma           0.002  0.000    0.002    0.002      0.000    0.000     352.0   \n",
              "mu_i[0]         0.285  0.001    0.284    0.286      0.000    0.000     141.0   \n",
              "...               ...    ...      ...      ...        ...      ...       ...   \n",
              "beta_i[4240]  363.105  1.512  360.247  364.802      0.065    0.046     410.0   \n",
              "beta_i[4241]  376.500  1.567  373.532  378.341      0.070    0.049     385.0   \n",
              "beta_i[4242]  368.829  1.531  366.002  370.638      0.066    0.047     413.0   \n",
              "beta_i[4243]  378.414  1.577  375.425  380.289      0.071    0.050     372.0   \n",
              "beta_i[4244]  371.270  1.558  368.484  373.148      0.068    0.048     392.0   \n",
              "\n",
              "              ess_tail  r_hat  \n",
              "beta0            328.0    NaN  \n",
              "beta1            294.0    NaN  \n",
              "beta2            373.0    NaN  \n",
              "sigma            343.0    NaN  \n",
              "mu_i[0]          386.0    NaN  \n",
              "...                ...    ...  \n",
              "beta_i[4240]     471.0    NaN  \n",
              "beta_i[4241]     451.0    NaN  \n",
              "beta_i[4242]     462.0    NaN  \n",
              "beta_i[4243]     482.0    NaN  \n",
              "beta_i[4244]     437.0    NaN  \n",
              "\n",
              "[12739 rows x 9 columns]"
            ],
            "text/html": [
              "\n",
              "  <div id=\"df-bec2bc98-cb39-48a0-a97b-f6ff98fbb6a8\">\n",
              "    <div class=\"colab-df-container\">\n",
              "      <div>\n",
              "<style scoped>\n",
              "    .dataframe tbody tr th:only-of-type {\n",
              "        vertical-align: middle;\n",
              "    }\n",
              "\n",
              "    .dataframe tbody tr th {\n",
              "        vertical-align: top;\n",
              "    }\n",
              "\n",
              "    .dataframe thead th {\n",
              "        text-align: right;\n",
              "    }\n",
              "</style>\n",
              "<table border=\"1\" class=\"dataframe\">\n",
              "  <thead>\n",
              "    <tr style=\"text-align: right;\">\n",
              "      <th></th>\n",
              "      <th>mean</th>\n",
              "      <th>sd</th>\n",
              "      <th>hdi_3%</th>\n",
              "      <th>hdi_97%</th>\n",
              "      <th>mcse_mean</th>\n",
              "      <th>mcse_sd</th>\n",
              "      <th>ess_bulk</th>\n",
              "      <th>ess_tail</th>\n",
              "      <th>r_hat</th>\n",
              "    </tr>\n",
              "  </thead>\n",
              "  <tbody>\n",
              "    <tr>\n",
              "      <th>beta0</th>\n",
              "      <td>0.136</td>\n",
              "      <td>0.002</td>\n",
              "      <td>0.133</td>\n",
              "      <td>0.140</td>\n",
              "      <td>0.000</td>\n",
              "      <td>0.000</td>\n",
              "      <td>109.0</td>\n",
              "      <td>328.0</td>\n",
              "      <td>NaN</td>\n",
              "    </tr>\n",
              "    <tr>\n",
              "      <th>beta1</th>\n",
              "      <td>0.016</td>\n",
              "      <td>0.000</td>\n",
              "      <td>0.016</td>\n",
              "      <td>0.017</td>\n",
              "      <td>0.000</td>\n",
              "      <td>0.000</td>\n",
              "      <td>109.0</td>\n",
              "      <td>294.0</td>\n",
              "      <td>NaN</td>\n",
              "    </tr>\n",
              "    <tr>\n",
              "      <th>beta2</th>\n",
              "      <td>-0.007</td>\n",
              "      <td>0.000</td>\n",
              "      <td>-0.007</td>\n",
              "      <td>-0.006</td>\n",
              "      <td>0.000</td>\n",
              "      <td>0.000</td>\n",
              "      <td>439.0</td>\n",
              "      <td>373.0</td>\n",
              "      <td>NaN</td>\n",
              "    </tr>\n",
              "    <tr>\n",
              "      <th>sigma</th>\n",
              "      <td>0.002</td>\n",
              "      <td>0.000</td>\n",
              "      <td>0.002</td>\n",
              "      <td>0.002</td>\n",
              "      <td>0.000</td>\n",
              "      <td>0.000</td>\n",
              "      <td>352.0</td>\n",
              "      <td>343.0</td>\n",
              "      <td>NaN</td>\n",
              "    </tr>\n",
              "    <tr>\n",
              "      <th>mu_i[0]</th>\n",
              "      <td>0.285</td>\n",
              "      <td>0.001</td>\n",
              "      <td>0.284</td>\n",
              "      <td>0.286</td>\n",
              "      <td>0.000</td>\n",
              "      <td>0.000</td>\n",
              "      <td>141.0</td>\n",
              "      <td>386.0</td>\n",
              "      <td>NaN</td>\n",
              "    </tr>\n",
              "    <tr>\n",
              "      <th>...</th>\n",
              "      <td>...</td>\n",
              "      <td>...</td>\n",
              "      <td>...</td>\n",
              "      <td>...</td>\n",
              "      <td>...</td>\n",
              "      <td>...</td>\n",
              "      <td>...</td>\n",
              "      <td>...</td>\n",
              "      <td>...</td>\n",
              "    </tr>\n",
              "    <tr>\n",
              "      <th>beta_i[4240]</th>\n",
              "      <td>363.105</td>\n",
              "      <td>1.512</td>\n",
              "      <td>360.247</td>\n",
              "      <td>364.802</td>\n",
              "      <td>0.065</td>\n",
              "      <td>0.046</td>\n",
              "      <td>410.0</td>\n",
              "      <td>471.0</td>\n",
              "      <td>NaN</td>\n",
              "    </tr>\n",
              "    <tr>\n",
              "      <th>beta_i[4241]</th>\n",
              "      <td>376.500</td>\n",
              "      <td>1.567</td>\n",
              "      <td>373.532</td>\n",
              "      <td>378.341</td>\n",
              "      <td>0.070</td>\n",
              "      <td>0.049</td>\n",
              "      <td>385.0</td>\n",
              "      <td>451.0</td>\n",
              "      <td>NaN</td>\n",
              "    </tr>\n",
              "    <tr>\n",
              "      <th>beta_i[4242]</th>\n",
              "      <td>368.829</td>\n",
              "      <td>1.531</td>\n",
              "      <td>366.002</td>\n",
              "      <td>370.638</td>\n",
              "      <td>0.066</td>\n",
              "      <td>0.047</td>\n",
              "      <td>413.0</td>\n",
              "      <td>462.0</td>\n",
              "      <td>NaN</td>\n",
              "    </tr>\n",
              "    <tr>\n",
              "      <th>beta_i[4243]</th>\n",
              "      <td>378.414</td>\n",
              "      <td>1.577</td>\n",
              "      <td>375.425</td>\n",
              "      <td>380.289</td>\n",
              "      <td>0.071</td>\n",
              "      <td>0.050</td>\n",
              "      <td>372.0</td>\n",
              "      <td>482.0</td>\n",
              "      <td>NaN</td>\n",
              "    </tr>\n",
              "    <tr>\n",
              "      <th>beta_i[4244]</th>\n",
              "      <td>371.270</td>\n",
              "      <td>1.558</td>\n",
              "      <td>368.484</td>\n",
              "      <td>373.148</td>\n",
              "      <td>0.068</td>\n",
              "      <td>0.048</td>\n",
              "      <td>392.0</td>\n",
              "      <td>437.0</td>\n",
              "      <td>NaN</td>\n",
              "    </tr>\n",
              "  </tbody>\n",
              "</table>\n",
              "<p>12739 rows × 9 columns</p>\n",
              "</div>\n",
              "      <button class=\"colab-df-convert\" onclick=\"convertToInteractive('df-bec2bc98-cb39-48a0-a97b-f6ff98fbb6a8')\"\n",
              "              title=\"Convert this dataframe to an interactive table.\"\n",
              "              style=\"display:none;\">\n",
              "        \n",
              "  <svg xmlns=\"http://www.w3.org/2000/svg\" height=\"24px\"viewBox=\"0 0 24 24\"\n",
              "       width=\"24px\">\n",
              "    <path d=\"M0 0h24v24H0V0z\" fill=\"none\"/>\n",
              "    <path d=\"M18.56 5.44l.94 2.06.94-2.06 2.06-.94-2.06-.94-.94-2.06-.94 2.06-2.06.94zm-11 1L8.5 8.5l.94-2.06 2.06-.94-2.06-.94L8.5 2.5l-.94 2.06-2.06.94zm10 10l.94 2.06.94-2.06 2.06-.94-2.06-.94-.94-2.06-.94 2.06-2.06.94z\"/><path d=\"M17.41 7.96l-1.37-1.37c-.4-.4-.92-.59-1.43-.59-.52 0-1.04.2-1.43.59L10.3 9.45l-7.72 7.72c-.78.78-.78 2.05 0 2.83L4 21.41c.39.39.9.59 1.41.59.51 0 1.02-.2 1.41-.59l7.78-7.78 2.81-2.81c.8-.78.8-2.07 0-2.86zM5.41 20L4 18.59l7.72-7.72 1.47 1.35L5.41 20z\"/>\n",
              "  </svg>\n",
              "      </button>\n",
              "      \n",
              "  <style>\n",
              "    .colab-df-container {\n",
              "      display:flex;\n",
              "      flex-wrap:wrap;\n",
              "      gap: 12px;\n",
              "    }\n",
              "\n",
              "    .colab-df-convert {\n",
              "      background-color: #E8F0FE;\n",
              "      border: none;\n",
              "      border-radius: 50%;\n",
              "      cursor: pointer;\n",
              "      display: none;\n",
              "      fill: #1967D2;\n",
              "      height: 32px;\n",
              "      padding: 0 0 0 0;\n",
              "      width: 32px;\n",
              "    }\n",
              "\n",
              "    .colab-df-convert:hover {\n",
              "      background-color: #E2EBFA;\n",
              "      box-shadow: 0px 1px 2px rgba(60, 64, 67, 0.3), 0px 1px 3px 1px rgba(60, 64, 67, 0.15);\n",
              "      fill: #174EA6;\n",
              "    }\n",
              "\n",
              "    [theme=dark] .colab-df-convert {\n",
              "      background-color: #3B4455;\n",
              "      fill: #D2E3FC;\n",
              "    }\n",
              "\n",
              "    [theme=dark] .colab-df-convert:hover {\n",
              "      background-color: #434B5C;\n",
              "      box-shadow: 0px 1px 3px 1px rgba(0, 0, 0, 0.15);\n",
              "      filter: drop-shadow(0px 1px 2px rgba(0, 0, 0, 0.3));\n",
              "      fill: #FFFFFF;\n",
              "    }\n",
              "  </style>\n",
              "\n",
              "      <script>\n",
              "        const buttonEl =\n",
              "          document.querySelector('#df-bec2bc98-cb39-48a0-a97b-f6ff98fbb6a8 button.colab-df-convert');\n",
              "        buttonEl.style.display =\n",
              "          google.colab.kernel.accessAllowed ? 'block' : 'none';\n",
              "\n",
              "        async function convertToInteractive(key) {\n",
              "          const element = document.querySelector('#df-bec2bc98-cb39-48a0-a97b-f6ff98fbb6a8');\n",
              "          const dataTable =\n",
              "            await google.colab.kernel.invokeFunction('convertToInteractive',\n",
              "                                                     [key], {});\n",
              "          if (!dataTable) return;\n",
              "\n",
              "          const docLinkHtml = 'Like what you see? Visit the ' +\n",
              "            '<a target=\"_blank\" href=https://colab.research.google.com/notebooks/data_table.ipynb>data table notebook</a>'\n",
              "            + ' to learn more about interactive tables.';\n",
              "          element.innerHTML = '';\n",
              "          dataTable['output_type'] = 'display_data';\n",
              "          await google.colab.output.renderOutput(dataTable, element);\n",
              "          const docLink = document.createElement('div');\n",
              "          docLink.innerHTML = docLinkHtml;\n",
              "          element.appendChild(docLink);\n",
              "        }\n",
              "      </script>\n",
              "    </div>\n",
              "  </div>\n",
              "  "
            ]
          },
          "metadata": {},
          "execution_count": 29
        }
      ]
    },
    {
      "cell_type": "code",
      "source": [
        "beta0_stan = df_hier.beta0.mean()\n",
        "beta1_stan = df_hier.beta1.mean()\n",
        "beta2_stan = df_hier.beta2.mean()\n",
        "sigma_stan = df_hier.sigma.mean()\n",
        "career_name2 = career_name2.assign(average_stan=lambda x: ((beta0_stan+beta1_stan*logAB+beta2_stan*bats)+sigma_stan*x['H'])/(1+sigma_stan*x['AB']))\n",
        "print(\"beta_0 =\", beta0_stan)\n",
        "print(\"beta_1 =\", beta1_stan)\n",
        "print(\"beta_2 =\", beta2_stan)\n",
        "print(\"sigma =\", sigma_stan)"
      ],
      "metadata": {
        "id": "AJdR6T32oAbR",
        "colab": {
          "base_uri": "https://localhost:8080/"
        },
        "outputId": "7e2ac0e0-00fd-421c-bc89-341c2dd4e8c8"
      },
      "execution_count": 30,
      "outputs": [
        {
          "output_type": "stream",
          "name": "stdout",
          "text": [
            "beta_0 = 0.1364541374501901\n",
            "beta_1 = 0.016467453183188496\n",
            "beta_2 = -0.006505918190070918\n",
            "sigma = 0.0020086212083490606\n"
          ]
        }
      ]
    },
    {
      "cell_type": "markdown",
      "source": [
        "---\n",
        "\n",
        "We found out that those data points with high at bats are close to the diagonal line. And those with low at bats are away from the diagonal line. Intuitively, the information which the players give us are more credible when we observe more data about him. \n",
        "\n",
        "In contrary, those with poor observations bring us little information about them, so we need to bias our observation with our prior belief more.\n",
        "\n",
        "---\n"
      ],
      "metadata": {
        "id": "3pvvAek0pfgm"
      }
    },
    {
      "cell_type": "code",
      "source": [
        "plt.scatter(career_name2['AVG'], career_name2['average_stan'], c=logAB, cmap='viridis')\n",
        "plt.plot(career_name2['AVG'], career_name2['AVG'], color='red')\n",
        "plt.colorbar()"
      ],
      "metadata": {
        "id": "g7J7vFkHoIMw",
        "colab": {
          "base_uri": "https://localhost:8080/",
          "height": 283
        },
        "outputId": "0d5003a3-1881-4ccf-e767-2cade0e71d6d"
      },
      "execution_count": 31,
      "outputs": [
        {
          "output_type": "execute_result",
          "data": {
            "text/plain": [
              "<matplotlib.colorbar.Colorbar at 0x7f03a3d64650>"
            ]
          },
          "metadata": {},
          "execution_count": 31
        },
        {
          "output_type": "display_data",
          "data": {
            "text/plain": [
              "<Figure size 432x288 with 2 Axes>"
            ],
            "image/png": "[encoded data removed]"
          },
          "metadata": {
            "needs_background": "light"
          }
        }
      ]
    }
  ]
}