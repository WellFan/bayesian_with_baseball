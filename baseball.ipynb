{
  "nbformat": 4,
  "nbformat_minor": 0,
  "metadata": {
    "colab": {
      "provenance": [],
      "authorship_tag": "ABX9TyOzOy7YDs+pmCDUiECel8+n",
      "include_colab_link": true
    },
    "kernelspec": {
      "name": "python3",
      "display_name": "Python 3"
    },
    "language_info": {
      "name": "python"
    }
  },
  "cells": [
    {
      "cell_type": "markdown",
      "metadata": {
        "id": "view-in-github",
        "colab_type": "text"
      },
      "source": [
        "<a href=\"https://colab.research.google.com/github/WellFan/bayesian_with_baseball/blob/main/baseball.ipynb\" target=\"_parent\"><img src=\"https://colab.research.google.com/assets/colab-badge.svg\" alt=\"Open In Colab\"/></a>"
      ]
    },
    {
      "cell_type": "markdown",
      "source": [
        "We are studying on Lahman dataset, which contains baseball game datas from MLB.  \n",
        "We will be  \n",
        "1. Using bayesion technique to compute the hitting rate  \n",
        "2. Adding hierarchical model\n",
        "3. Using Stan package\n",
        "\n",
        "to help us understand what bayesian does.\n",
        "\n",
        "\n",
        "---\n"
      ],
      "metadata": {
        "id": "rzyLHpdZr-Ru"
      }
    },
    {
      "cell_type": "code",
      "source": [
        "import pandas as pd\n",
        "import numpy as np"
      ],
      "metadata": {
        "id": "08sT08Jlwmt6"
      },
      "execution_count": 1,
      "outputs": []
    },
    {
      "cell_type": "code",
      "source": [
        "batting = pd.read_csv(\"https://raw.githubusercontent.com/WellFan/bayesian_with_baseball/main/baseballdatabank-2022.2/core/Batting.csv\")\n",
        "pitching = pd.read_csv(\"https://raw.githubusercontent.com/WellFan/bayesian_with_baseball/main/baseballdatabank-2022.2/core/Pitching.csv\")"
      ],
      "metadata": {
        "id": "dTQ6b_YPxf65"
      },
      "execution_count": 2,
      "outputs": []
    },
    {
      "cell_type": "code",
      "source": [
        "batting.head()"
      ],
      "metadata": {
        "colab": {
          "base_uri": "https://localhost:8080/",
          "height": 235
        },
        "id": "7qWe2LO207me",
        "outputId": "7e24b548-c8e8-41a7-9729-e4002b1f9dad"
      },
      "execution_count": 3,
      "outputs": [
        {
          "output_type": "execute_result",
          "data": {
            "text/plain": [
              "    playerID  yearID  stint teamID lgID   G   AB   R   H  2B  ...   RBI   SB  \\\n",
              "0  abercda01    1871      1    TRO  NaN   1    4   0   0   0  ...   0.0  0.0   \n",
              "1   addybo01    1871      1    RC1  NaN  25  118  30  32   6  ...  13.0  8.0   \n",
              "2  allisar01    1871      1    CL1  NaN  29  137  28  40   4  ...  19.0  3.0   \n",
              "3  allisdo01    1871      1    WS3  NaN  27  133  28  44  10  ...  27.0  1.0   \n",
              "4  ansonca01    1871      1    RC1  NaN  25  120  29  39  11  ...  16.0  6.0   \n",
              "\n",
              "    CS  BB   SO  IBB  HBP  SH  SF  GIDP  \n",
              "0  0.0   0  0.0  NaN  NaN NaN NaN   0.0  \n",
              "1  1.0   4  0.0  NaN  NaN NaN NaN   0.0  \n",
              "2  1.0   2  5.0  NaN  NaN NaN NaN   1.0  \n",
              "3  1.0   0  2.0  NaN  NaN NaN NaN   0.0  \n",
              "4  2.0   2  1.0  NaN  NaN NaN NaN   0.0  \n",
              "\n",
              "[5 rows x 22 columns]"
            ],
            "text/html": [
              "\n",
              "  <div id=\"df-0ecb8442-90e2-4823-a17b-d8771361ab2d\">\n",
              "    <div class=\"colab-df-container\">\n",
              "      <div>\n",
              "<style scoped>\n",
              "    .dataframe tbody tr th:only-of-type {\n",
              "        vertical-align: middle;\n",
              "    }\n",
              "\n",
              "    .dataframe tbody tr th {\n",
              "        vertical-align: top;\n",
              "    }\n",
              "\n",
              "    .dataframe thead th {\n",
              "        text-align: right;\n",
              "    }\n",
              "</style>\n",
              "<table border=\"1\" class=\"dataframe\">\n",
              "  <thead>\n",
              "    <tr style=\"text-align: right;\">\n",
              "      <th></th>\n",
              "      <th>playerID</th>\n",
              "      <th>yearID</th>\n",
              "      <th>stint</th>\n",
              "      <th>teamID</th>\n",
              "      <th>lgID</th>\n",
              "      <th>G</th>\n",
              "      <th>AB</th>\n",
              "      <th>R</th>\n",
              "      <th>H</th>\n",
              "      <th>2B</th>\n",
              "      <th>...</th>\n",
              "      <th>RBI</th>\n",
              "      <th>SB</th>\n",
              "      <th>CS</th>\n",
              "      <th>BB</th>\n",
              "      <th>SO</th>\n",
              "      <th>IBB</th>\n",
              "      <th>HBP</th>\n",
              "      <th>SH</th>\n",
              "      <th>SF</th>\n",
              "      <th>GIDP</th>\n",
              "    </tr>\n",
              "  </thead>\n",
              "  <tbody>\n",
              "    <tr>\n",
              "      <th>0</th>\n",
              "      <td>abercda01</td>\n",
              "      <td>1871</td>\n",
              "      <td>1</td>\n",
              "      <td>TRO</td>\n",
              "      <td>NaN</td>\n",
              "      <td>1</td>\n",
              "      <td>4</td>\n",
              "      <td>0</td>\n",
              "      <td>0</td>\n",
              "      <td>0</td>\n",
              "      <td>...</td>\n",
              "      <td>0.0</td>\n",
              "      <td>0.0</td>\n",
              "      <td>0.0</td>\n",
              "      <td>0</td>\n",
              "      <td>0.0</td>\n",
              "      <td>NaN</td>\n",
              "      <td>NaN</td>\n",
              "      <td>NaN</td>\n",
              "      <td>NaN</td>\n",
              "      <td>0.0</td>\n",
              "    </tr>\n",
              "    <tr>\n",
              "      <th>1</th>\n",
              "      <td>addybo01</td>\n",
              "      <td>1871</td>\n",
              "      <td>1</td>\n",
              "      <td>RC1</td>\n",
              "      <td>NaN</td>\n",
              "      <td>25</td>\n",
              "      <td>118</td>\n",
              "      <td>30</td>\n",
              "      <td>32</td>\n",
              "      <td>6</td>\n",
              "      <td>...</td>\n",
              "      <td>13.0</td>\n",
              "      <td>8.0</td>\n",
              "      <td>1.0</td>\n",
              "      <td>4</td>\n",
              "      <td>0.0</td>\n",
              "      <td>NaN</td>\n",
              "      <td>NaN</td>\n",
              "      <td>NaN</td>\n",
              "      <td>NaN</td>\n",
              "      <td>0.0</td>\n",
              "    </tr>\n",
              "    <tr>\n",
              "      <th>2</th>\n",
              "      <td>allisar01</td>\n",
              "      <td>1871</td>\n",
              "      <td>1</td>\n",
              "      <td>CL1</td>\n",
              "      <td>NaN</td>\n",
              "      <td>29</td>\n",
              "      <td>137</td>\n",
              "      <td>28</td>\n",
              "      <td>40</td>\n",
              "      <td>4</td>\n",
              "      <td>...</td>\n",
              "      <td>19.0</td>\n",
              "      <td>3.0</td>\n",
              "      <td>1.0</td>\n",
              "      <td>2</td>\n",
              "      <td>5.0</td>\n",
              "      <td>NaN</td>\n",
              "      <td>NaN</td>\n",
              "      <td>NaN</td>\n",
              "      <td>NaN</td>\n",
              "      <td>1.0</td>\n",
              "    </tr>\n",
              "    <tr>\n",
              "      <th>3</th>\n",
              "      <td>allisdo01</td>\n",
              "      <td>1871</td>\n",
              "      <td>1</td>\n",
              "      <td>WS3</td>\n",
              "      <td>NaN</td>\n",
              "      <td>27</td>\n",
              "      <td>133</td>\n",
              "      <td>28</td>\n",
              "      <td>44</td>\n",
              "      <td>10</td>\n",
              "      <td>...</td>\n",
              "      <td>27.0</td>\n",
              "      <td>1.0</td>\n",
              "      <td>1.0</td>\n",
              "      <td>0</td>\n",
              "      <td>2.0</td>\n",
              "      <td>NaN</td>\n",
              "      <td>NaN</td>\n",
              "      <td>NaN</td>\n",
              "      <td>NaN</td>\n",
              "      <td>0.0</td>\n",
              "    </tr>\n",
              "    <tr>\n",
              "      <th>4</th>\n",
              "      <td>ansonca01</td>\n",
              "      <td>1871</td>\n",
              "      <td>1</td>\n",
              "      <td>RC1</td>\n",
              "      <td>NaN</td>\n",
              "      <td>25</td>\n",
              "      <td>120</td>\n",
              "      <td>29</td>\n",
              "      <td>39</td>\n",
              "      <td>11</td>\n",
              "      <td>...</td>\n",
              "      <td>16.0</td>\n",
              "      <td>6.0</td>\n",
              "      <td>2.0</td>\n",
              "      <td>2</td>\n",
              "      <td>1.0</td>\n",
              "      <td>NaN</td>\n",
              "      <td>NaN</td>\n",
              "      <td>NaN</td>\n",
              "      <td>NaN</td>\n",
              "      <td>0.0</td>\n",
              "    </tr>\n",
              "  </tbody>\n",
              "</table>\n",
              "<p>5 rows × 22 columns</p>\n",
              "</div>\n",
              "      <button class=\"colab-df-convert\" onclick=\"convertToInteractive('df-0ecb8442-90e2-4823-a17b-d8771361ab2d')\"\n",
              "              title=\"Convert this dataframe to an interactive table.\"\n",
              "              style=\"display:none;\">\n",
              "        \n",
              "  <svg xmlns=\"http://www.w3.org/2000/svg\" height=\"24px\"viewBox=\"0 0 24 24\"\n",
              "       width=\"24px\">\n",
              "    <path d=\"M0 0h24v24H0V0z\" fill=\"none\"/>\n",
              "    <path d=\"M18.56 5.44l.94 2.06.94-2.06 2.06-.94-2.06-.94-.94-2.06-.94 2.06-2.06.94zm-11 1L8.5 8.5l.94-2.06 2.06-.94-2.06-.94L8.5 2.5l-.94 2.06-2.06.94zm10 10l.94 2.06.94-2.06 2.06-.94-2.06-.94-.94-2.06-.94 2.06-2.06.94z\"/><path d=\"M17.41 7.96l-1.37-1.37c-.4-.4-.92-.59-1.43-.59-.52 0-1.04.2-1.43.59L10.3 9.45l-7.72 7.72c-.78.78-.78 2.05 0 2.83L4 21.41c.39.39.9.59 1.41.59.51 0 1.02-.2 1.41-.59l7.78-7.78 2.81-2.81c.8-.78.8-2.07 0-2.86zM5.41 20L4 18.59l7.72-7.72 1.47 1.35L5.41 20z\"/>\n",
              "  </svg>\n",
              "      </button>\n",
              "      \n",
              "  <style>\n",
              "    .colab-df-container {\n",
              "      display:flex;\n",
              "      flex-wrap:wrap;\n",
              "      gap: 12px;\n",
              "    }\n",
              "\n",
              "    .colab-df-convert {\n",
              "      background-color: #E8F0FE;\n",
              "      border: none;\n",
              "      border-radius: 50%;\n",
              "      cursor: pointer;\n",
              "      display: none;\n",
              "      fill: #1967D2;\n",
              "      height: 32px;\n",
              "      padding: 0 0 0 0;\n",
              "      width: 32px;\n",
              "    }\n",
              "\n",
              "    .colab-df-convert:hover {\n",
              "      background-color: #E2EBFA;\n",
              "      box-shadow: 0px 1px 2px rgba(60, 64, 67, 0.3), 0px 1px 3px 1px rgba(60, 64, 67, 0.15);\n",
              "      fill: #174EA6;\n",
              "    }\n",
              "\n",
              "    [theme=dark] .colab-df-convert {\n",
              "      background-color: #3B4455;\n",
              "      fill: #D2E3FC;\n",
              "    }\n",
              "\n",
              "    [theme=dark] .colab-df-convert:hover {\n",
              "      background-color: #434B5C;\n",
              "      box-shadow: 0px 1px 3px 1px rgba(0, 0, 0, 0.15);\n",
              "      filter: drop-shadow(0px 1px 2px rgba(0, 0, 0, 0.3));\n",
              "      fill: #FFFFFF;\n",
              "    }\n",
              "  </style>\n",
              "\n",
              "      <script>\n",
              "        const buttonEl =\n",
              "          document.querySelector('#df-0ecb8442-90e2-4823-a17b-d8771361ab2d button.colab-df-convert');\n",
              "        buttonEl.style.display =\n",
              "          google.colab.kernel.accessAllowed ? 'block' : 'none';\n",
              "\n",
              "        async function convertToInteractive(key) {\n",
              "          const element = document.querySelector('#df-0ecb8442-90e2-4823-a17b-d8771361ab2d');\n",
              "          const dataTable =\n",
              "            await google.colab.kernel.invokeFunction('convertToInteractive',\n",
              "                                                     [key], {});\n",
              "          if (!dataTable) return;\n",
              "\n",
              "          const docLinkHtml = 'Like what you see? Visit the ' +\n",
              "            '<a target=\"_blank\" href=https://colab.research.google.com/notebooks/data_table.ipynb>data table notebook</a>'\n",
              "            + ' to learn more about interactive tables.';\n",
              "          element.innerHTML = '';\n",
              "          dataTable['output_type'] = 'display_data';\n",
              "          await google.colab.output.renderOutput(dataTable, element);\n",
              "          const docLink = document.createElement('div');\n",
              "          docLink.innerHTML = docLinkHtml;\n",
              "          element.appendChild(docLink);\n",
              "        }\n",
              "      </script>\n",
              "    </div>\n",
              "  </div>\n",
              "  "
            ]
          },
          "metadata": {},
          "execution_count": 3
        }
      ]
    },
    {
      "cell_type": "markdown",
      "source": [
        "---\n",
        "Generating \n",
        "\n",
        "\\[H]: hit\n",
        "\n",
        "[AB]: at bat\n",
        "\n",
        "[AVG]: batting average\n",
        "\n",
        "---"
      ],
      "metadata": {
        "id": "cErobld3zKnp"
      }
    },
    {
      "cell_type": "code",
      "source": [
        "career = batting[batting.AB > 0]\n",
        "career = pd.merge(career, pitching, how='outer', on='playerID', indicator=True)\n",
        "career = (career[~(career._merge == 'both')]\n",
        "          .drop('_merge', axis=1).groupby(by='playerID')\n",
        "          .sum()[['H_x', 'AB']]\n",
        "          .assign(average=lambda df:df.H_x / df.AB)\n",
        "          .rename(columns={'H_x':'H', 'average':'AVG'})\n",
        ")\n",
        "career.head()"
      ],
      "metadata": {
        "colab": {
          "base_uri": "https://localhost:8080/",
          "height": 237
        },
        "id": "Wz6VUduGxTig",
        "outputId": "fe433a20-a486-480f-f3b3-e6fe22f87191"
      },
      "execution_count": 4,
      "outputs": [
        {
          "output_type": "execute_result",
          "data": {
            "text/plain": [
              "                H       AB       AVG\n",
              "playerID                            \n",
              "aaronha01  3771.0  12364.0  0.304998\n",
              "aaronto01   216.0    944.0  0.228814\n",
              "abadan01      2.0     21.0  0.095238\n",
              "abadijo01    11.0     49.0  0.224490\n",
              "abbated01   772.0   3044.0  0.253614"
            ],
            "text/html": [
              "\n",
              "  <div id=\"df-80af193f-4ea9-40c1-a9aa-30c3ced3d372\">\n",
              "    <div class=\"colab-df-container\">\n",
              "      <div>\n",
              "<style scoped>\n",
              "    .dataframe tbody tr th:only-of-type {\n",
              "        vertical-align: middle;\n",
              "    }\n",
              "\n",
              "    .dataframe tbody tr th {\n",
              "        vertical-align: top;\n",
              "    }\n",
              "\n",
              "    .dataframe thead th {\n",
              "        text-align: right;\n",
              "    }\n",
              "</style>\n",
              "<table border=\"1\" class=\"dataframe\">\n",
              "  <thead>\n",
              "    <tr style=\"text-align: right;\">\n",
              "      <th></th>\n",
              "      <th>H</th>\n",
              "      <th>AB</th>\n",
              "      <th>AVG</th>\n",
              "    </tr>\n",
              "    <tr>\n",
              "      <th>playerID</th>\n",
              "      <th></th>\n",
              "      <th></th>\n",
              "      <th></th>\n",
              "    </tr>\n",
              "  </thead>\n",
              "  <tbody>\n",
              "    <tr>\n",
              "      <th>aaronha01</th>\n",
              "      <td>3771.0</td>\n",
              "      <td>12364.0</td>\n",
              "      <td>0.304998</td>\n",
              "    </tr>\n",
              "    <tr>\n",
              "      <th>aaronto01</th>\n",
              "      <td>216.0</td>\n",
              "      <td>944.0</td>\n",
              "      <td>0.228814</td>\n",
              "    </tr>\n",
              "    <tr>\n",
              "      <th>abadan01</th>\n",
              "      <td>2.0</td>\n",
              "      <td>21.0</td>\n",
              "      <td>0.095238</td>\n",
              "    </tr>\n",
              "    <tr>\n",
              "      <th>abadijo01</th>\n",
              "      <td>11.0</td>\n",
              "      <td>49.0</td>\n",
              "      <td>0.224490</td>\n",
              "    </tr>\n",
              "    <tr>\n",
              "      <th>abbated01</th>\n",
              "      <td>772.0</td>\n",
              "      <td>3044.0</td>\n",
              "      <td>0.253614</td>\n",
              "    </tr>\n",
              "  </tbody>\n",
              "</table>\n",
              "</div>\n",
              "      <button class=\"colab-df-convert\" onclick=\"convertToInteractive('df-80af193f-4ea9-40c1-a9aa-30c3ced3d372')\"\n",
              "              title=\"Convert this dataframe to an interactive table.\"\n",
              "              style=\"display:none;\">\n",
              "        \n",
              "  <svg xmlns=\"http://www.w3.org/2000/svg\" height=\"24px\"viewBox=\"0 0 24 24\"\n",
              "       width=\"24px\">\n",
              "    <path d=\"M0 0h24v24H0V0z\" fill=\"none\"/>\n",
              "    <path d=\"M18.56 5.44l.94 2.06.94-2.06 2.06-.94-2.06-.94-.94-2.06-.94 2.06-2.06.94zm-11 1L8.5 8.5l.94-2.06 2.06-.94-2.06-.94L8.5 2.5l-.94 2.06-2.06.94zm10 10l.94 2.06.94-2.06 2.06-.94-2.06-.94-.94-2.06-.94 2.06-2.06.94z\"/><path d=\"M17.41 7.96l-1.37-1.37c-.4-.4-.92-.59-1.43-.59-.52 0-1.04.2-1.43.59L10.3 9.45l-7.72 7.72c-.78.78-.78 2.05 0 2.83L4 21.41c.39.39.9.59 1.41.59.51 0 1.02-.2 1.41-.59l7.78-7.78 2.81-2.81c.8-.78.8-2.07 0-2.86zM5.41 20L4 18.59l7.72-7.72 1.47 1.35L5.41 20z\"/>\n",
              "  </svg>\n",
              "      </button>\n",
              "      \n",
              "  <style>\n",
              "    .colab-df-container {\n",
              "      display:flex;\n",
              "      flex-wrap:wrap;\n",
              "      gap: 12px;\n",
              "    }\n",
              "\n",
              "    .colab-df-convert {\n",
              "      background-color: #E8F0FE;\n",
              "      border: none;\n",
              "      border-radius: 50%;\n",
              "      cursor: pointer;\n",
              "      display: none;\n",
              "      fill: #1967D2;\n",
              "      height: 32px;\n",
              "      padding: 0 0 0 0;\n",
              "      width: 32px;\n",
              "    }\n",
              "\n",
              "    .colab-df-convert:hover {\n",
              "      background-color: #E2EBFA;\n",
              "      box-shadow: 0px 1px 2px rgba(60, 64, 67, 0.3), 0px 1px 3px 1px rgba(60, 64, 67, 0.15);\n",
              "      fill: #174EA6;\n",
              "    }\n",
              "\n",
              "    [theme=dark] .colab-df-convert {\n",
              "      background-color: #3B4455;\n",
              "      fill: #D2E3FC;\n",
              "    }\n",
              "\n",
              "    [theme=dark] .colab-df-convert:hover {\n",
              "      background-color: #434B5C;\n",
              "      box-shadow: 0px 1px 3px 1px rgba(0, 0, 0, 0.15);\n",
              "      filter: drop-shadow(0px 1px 2px rgba(0, 0, 0, 0.3));\n",
              "      fill: #FFFFFF;\n",
              "    }\n",
              "  </style>\n",
              "\n",
              "      <script>\n",
              "        const buttonEl =\n",
              "          document.querySelector('#df-80af193f-4ea9-40c1-a9aa-30c3ced3d372 button.colab-df-convert');\n",
              "        buttonEl.style.display =\n",
              "          google.colab.kernel.accessAllowed ? 'block' : 'none';\n",
              "\n",
              "        async function convertToInteractive(key) {\n",
              "          const element = document.querySelector('#df-80af193f-4ea9-40c1-a9aa-30c3ced3d372');\n",
              "          const dataTable =\n",
              "            await google.colab.kernel.invokeFunction('convertToInteractive',\n",
              "                                                     [key], {});\n",
              "          if (!dataTable) return;\n",
              "\n",
              "          const docLinkHtml = 'Like what you see? Visit the ' +\n",
              "            '<a target=\"_blank\" href=https://colab.research.google.com/notebooks/data_table.ipynb>data table notebook</a>'\n",
              "            + ' to learn more about interactive tables.';\n",
              "          element.innerHTML = '';\n",
              "          dataTable['output_type'] = 'display_data';\n",
              "          await google.colab.output.renderOutput(dataTable, element);\n",
              "          const docLink = document.createElement('div');\n",
              "          docLink.innerHTML = docLinkHtml;\n",
              "          element.appendChild(docLink);\n",
              "        }\n",
              "      </script>\n",
              "    </div>\n",
              "  </div>\n",
              "  "
            ]
          },
          "metadata": {},
          "execution_count": 4
        }
      ]
    },
    {
      "cell_type": "code",
      "source": [
        "people = pd.read_csv(\"https://github.com/WellFan/bayesian_with_baseball/blob/main/baseballdatabank-2022.2/core/People.csv?raw=true\")\n",
        "master = people[['playerID', 'nameFirst', 'nameLast']]\n",
        "master = master.assign(name = lambda df:df.nameFirst + ' ' + df.nameLast)\n",
        "master = master[['name', 'playerID']]\n",
        "career_name = pd.merge(master, career, how='inner', on='playerID')\n",
        "career_name = career_name.drop(columns = 'playerID')\n",
        "career_name.head()"
      ],
      "metadata": {
        "colab": {
          "base_uri": "https://localhost:8080/",
          "height": 206
        },
        "id": "gn7XN9E1FZPV",
        "outputId": "0c5dab23-2e52-4796-80c6-445268822132"
      },
      "execution_count": 5,
      "outputs": [
        {
          "output_type": "execute_result",
          "data": {
            "text/plain": [
              "             name       H       AB       AVG\n",
              "0      Hank Aaron  3771.0  12364.0  0.304998\n",
              "1    Tommie Aaron   216.0    944.0  0.228814\n",
              "2       Andy Abad     2.0     21.0  0.095238\n",
              "3     John Abadie    11.0     49.0  0.224490\n",
              "4  Ed Abbaticchio   772.0   3044.0  0.253614"
            ],
            "text/html": [
              "\n",
              "  <div id=\"df-9ecd463f-9239-485d-af26-176f3f6651bc\">\n",
              "    <div class=\"colab-df-container\">\n",
              "      <div>\n",
              "<style scoped>\n",
              "    .dataframe tbody tr th:only-of-type {\n",
              "        vertical-align: middle;\n",
              "    }\n",
              "\n",
              "    .dataframe tbody tr th {\n",
              "        vertical-align: top;\n",
              "    }\n",
              "\n",
              "    .dataframe thead th {\n",
              "        text-align: right;\n",
              "    }\n",
              "</style>\n",
              "<table border=\"1\" class=\"dataframe\">\n",
              "  <thead>\n",
              "    <tr style=\"text-align: right;\">\n",
              "      <th></th>\n",
              "      <th>name</th>\n",
              "      <th>H</th>\n",
              "      <th>AB</th>\n",
              "      <th>AVG</th>\n",
              "    </tr>\n",
              "  </thead>\n",
              "  <tbody>\n",
              "    <tr>\n",
              "      <th>0</th>\n",
              "      <td>Hank Aaron</td>\n",
              "      <td>3771.0</td>\n",
              "      <td>12364.0</td>\n",
              "      <td>0.304998</td>\n",
              "    </tr>\n",
              "    <tr>\n",
              "      <th>1</th>\n",
              "      <td>Tommie Aaron</td>\n",
              "      <td>216.0</td>\n",
              "      <td>944.0</td>\n",
              "      <td>0.228814</td>\n",
              "    </tr>\n",
              "    <tr>\n",
              "      <th>2</th>\n",
              "      <td>Andy Abad</td>\n",
              "      <td>2.0</td>\n",
              "      <td>21.0</td>\n",
              "      <td>0.095238</td>\n",
              "    </tr>\n",
              "    <tr>\n",
              "      <th>3</th>\n",
              "      <td>John Abadie</td>\n",
              "      <td>11.0</td>\n",
              "      <td>49.0</td>\n",
              "      <td>0.224490</td>\n",
              "    </tr>\n",
              "    <tr>\n",
              "      <th>4</th>\n",
              "      <td>Ed Abbaticchio</td>\n",
              "      <td>772.0</td>\n",
              "      <td>3044.0</td>\n",
              "      <td>0.253614</td>\n",
              "    </tr>\n",
              "  </tbody>\n",
              "</table>\n",
              "</div>\n",
              "      <button class=\"colab-df-convert\" onclick=\"convertToInteractive('df-9ecd463f-9239-485d-af26-176f3f6651bc')\"\n",
              "              title=\"Convert this dataframe to an interactive table.\"\n",
              "              style=\"display:none;\">\n",
              "        \n",
              "  <svg xmlns=\"http://www.w3.org/2000/svg\" height=\"24px\"viewBox=\"0 0 24 24\"\n",
              "       width=\"24px\">\n",
              "    <path d=\"M0 0h24v24H0V0z\" fill=\"none\"/>\n",
              "    <path d=\"M18.56 5.44l.94 2.06.94-2.06 2.06-.94-2.06-.94-.94-2.06-.94 2.06-2.06.94zm-11 1L8.5 8.5l.94-2.06 2.06-.94-2.06-.94L8.5 2.5l-.94 2.06-2.06.94zm10 10l.94 2.06.94-2.06 2.06-.94-2.06-.94-.94-2.06-.94 2.06-2.06.94z\"/><path d=\"M17.41 7.96l-1.37-1.37c-.4-.4-.92-.59-1.43-.59-.52 0-1.04.2-1.43.59L10.3 9.45l-7.72 7.72c-.78.78-.78 2.05 0 2.83L4 21.41c.39.39.9.59 1.41.59.51 0 1.02-.2 1.41-.59l7.78-7.78 2.81-2.81c.8-.78.8-2.07 0-2.86zM5.41 20L4 18.59l7.72-7.72 1.47 1.35L5.41 20z\"/>\n",
              "  </svg>\n",
              "      </button>\n",
              "      \n",
              "  <style>\n",
              "    .colab-df-container {\n",
              "      display:flex;\n",
              "      flex-wrap:wrap;\n",
              "      gap: 12px;\n",
              "    }\n",
              "\n",
              "    .colab-df-convert {\n",
              "      background-color: #E8F0FE;\n",
              "      border: none;\n",
              "      border-radius: 50%;\n",
              "      cursor: pointer;\n",
              "      display: none;\n",
              "      fill: #1967D2;\n",
              "      height: 32px;\n",
              "      padding: 0 0 0 0;\n",
              "      width: 32px;\n",
              "    }\n",
              "\n",
              "    .colab-df-convert:hover {\n",
              "      background-color: #E2EBFA;\n",
              "      box-shadow: 0px 1px 2px rgba(60, 64, 67, 0.3), 0px 1px 3px 1px rgba(60, 64, 67, 0.15);\n",
              "      fill: #174EA6;\n",
              "    }\n",
              "\n",
              "    [theme=dark] .colab-df-convert {\n",
              "      background-color: #3B4455;\n",
              "      fill: #D2E3FC;\n",
              "    }\n",
              "\n",
              "    [theme=dark] .colab-df-convert:hover {\n",
              "      background-color: #434B5C;\n",
              "      box-shadow: 0px 1px 3px 1px rgba(0, 0, 0, 0.15);\n",
              "      filter: drop-shadow(0px 1px 2px rgba(0, 0, 0, 0.3));\n",
              "      fill: #FFFFFF;\n",
              "    }\n",
              "  </style>\n",
              "\n",
              "      <script>\n",
              "        const buttonEl =\n",
              "          document.querySelector('#df-9ecd463f-9239-485d-af26-176f3f6651bc button.colab-df-convert');\n",
              "        buttonEl.style.display =\n",
              "          google.colab.kernel.accessAllowed ? 'block' : 'none';\n",
              "\n",
              "        async function convertToInteractive(key) {\n",
              "          const element = document.querySelector('#df-9ecd463f-9239-485d-af26-176f3f6651bc');\n",
              "          const dataTable =\n",
              "            await google.colab.kernel.invokeFunction('convertToInteractive',\n",
              "                                                     [key], {});\n",
              "          if (!dataTable) return;\n",
              "\n",
              "          const docLinkHtml = 'Like what you see? Visit the ' +\n",
              "            '<a target=\"_blank\" href=https://colab.research.google.com/notebooks/data_table.ipynb>data table notebook</a>'\n",
              "            + ' to learn more about interactive tables.';\n",
              "          element.innerHTML = '';\n",
              "          dataTable['output_type'] = 'display_data';\n",
              "          await google.colab.output.renderOutput(dataTable, element);\n",
              "          const docLink = document.createElement('div');\n",
              "          docLink.innerHTML = docLinkHtml;\n",
              "          element.appendChild(docLink);\n",
              "        }\n",
              "      </script>\n",
              "    </div>\n",
              "  </div>\n",
              "  "
            ]
          },
          "metadata": {},
          "execution_count": 5
        }
      ]
    },
    {
      "cell_type": "code",
      "source": [
        "career_name.nlargest(5, 'AVG')"
      ],
      "metadata": {
        "colab": {
          "base_uri": "https://localhost:8080/",
          "height": 206
        },
        "id": "bMsK0Nb4VusO",
        "outputId": "d01eb008-b4b9-404f-939a-45240d7c2d2c"
      },
      "execution_count": 6,
      "outputs": [
        {
          "output_type": "execute_result",
          "data": {
            "text/plain": [
              "                  name    H   AB  AVG\n",
              "461      Jeff Banister  1.0  1.0  1.0\n",
              "590           Doc Bass  1.0  1.0  1.0\n",
              "876        Steve Biras  2.0  2.0  1.0\n",
              "1451       C. B. Burns  1.0  1.0  1.0\n",
              "3738  Jackie Gallagher  1.0  1.0  1.0"
            ],
            "text/html": [
              "\n",
              "  <div id=\"df-817add64-95b9-4f83-9599-1fd63f031140\">\n",
              "    <div class=\"colab-df-container\">\n",
              "      <div>\n",
              "<style scoped>\n",
              "    .dataframe tbody tr th:only-of-type {\n",
              "        vertical-align: middle;\n",
              "    }\n",
              "\n",
              "    .dataframe tbody tr th {\n",
              "        vertical-align: top;\n",
              "    }\n",
              "\n",
              "    .dataframe thead th {\n",
              "        text-align: right;\n",
              "    }\n",
              "</style>\n",
              "<table border=\"1\" class=\"dataframe\">\n",
              "  <thead>\n",
              "    <tr style=\"text-align: right;\">\n",
              "      <th></th>\n",
              "      <th>name</th>\n",
              "      <th>H</th>\n",
              "      <th>AB</th>\n",
              "      <th>AVG</th>\n",
              "    </tr>\n",
              "  </thead>\n",
              "  <tbody>\n",
              "    <tr>\n",
              "      <th>461</th>\n",
              "      <td>Jeff Banister</td>\n",
              "      <td>1.0</td>\n",
              "      <td>1.0</td>\n",
              "      <td>1.0</td>\n",
              "    </tr>\n",
              "    <tr>\n",
              "      <th>590</th>\n",
              "      <td>Doc Bass</td>\n",
              "      <td>1.0</td>\n",
              "      <td>1.0</td>\n",
              "      <td>1.0</td>\n",
              "    </tr>\n",
              "    <tr>\n",
              "      <th>876</th>\n",
              "      <td>Steve Biras</td>\n",
              "      <td>2.0</td>\n",
              "      <td>2.0</td>\n",
              "      <td>1.0</td>\n",
              "    </tr>\n",
              "    <tr>\n",
              "      <th>1451</th>\n",
              "      <td>C. B. Burns</td>\n",
              "      <td>1.0</td>\n",
              "      <td>1.0</td>\n",
              "      <td>1.0</td>\n",
              "    </tr>\n",
              "    <tr>\n",
              "      <th>3738</th>\n",
              "      <td>Jackie Gallagher</td>\n",
              "      <td>1.0</td>\n",
              "      <td>1.0</td>\n",
              "      <td>1.0</td>\n",
              "    </tr>\n",
              "  </tbody>\n",
              "</table>\n",
              "</div>\n",
              "      <button class=\"colab-df-convert\" onclick=\"convertToInteractive('df-817add64-95b9-4f83-9599-1fd63f031140')\"\n",
              "              title=\"Convert this dataframe to an interactive table.\"\n",
              "              style=\"display:none;\">\n",
              "        \n",
              "  <svg xmlns=\"http://www.w3.org/2000/svg\" height=\"24px\"viewBox=\"0 0 24 24\"\n",
              "       width=\"24px\">\n",
              "    <path d=\"M0 0h24v24H0V0z\" fill=\"none\"/>\n",
              "    <path d=\"M18.56 5.44l.94 2.06.94-2.06 2.06-.94-2.06-.94-.94-2.06-.94 2.06-2.06.94zm-11 1L8.5 8.5l.94-2.06 2.06-.94-2.06-.94L8.5 2.5l-.94 2.06-2.06.94zm10 10l.94 2.06.94-2.06 2.06-.94-2.06-.94-.94-2.06-.94 2.06-2.06.94z\"/><path d=\"M17.41 7.96l-1.37-1.37c-.4-.4-.92-.59-1.43-.59-.52 0-1.04.2-1.43.59L10.3 9.45l-7.72 7.72c-.78.78-.78 2.05 0 2.83L4 21.41c.39.39.9.59 1.41.59.51 0 1.02-.2 1.41-.59l7.78-7.78 2.81-2.81c.8-.78.8-2.07 0-2.86zM5.41 20L4 18.59l7.72-7.72 1.47 1.35L5.41 20z\"/>\n",
              "  </svg>\n",
              "      </button>\n",
              "      \n",
              "  <style>\n",
              "    .colab-df-container {\n",
              "      display:flex;\n",
              "      flex-wrap:wrap;\n",
              "      gap: 12px;\n",
              "    }\n",
              "\n",
              "    .colab-df-convert {\n",
              "      background-color: #E8F0FE;\n",
              "      border: none;\n",
              "      border-radius: 50%;\n",
              "      cursor: pointer;\n",
              "      display: none;\n",
              "      fill: #1967D2;\n",
              "      height: 32px;\n",
              "      padding: 0 0 0 0;\n",
              "      width: 32px;\n",
              "    }\n",
              "\n",
              "    .colab-df-convert:hover {\n",
              "      background-color: #E2EBFA;\n",
              "      box-shadow: 0px 1px 2px rgba(60, 64, 67, 0.3), 0px 1px 3px 1px rgba(60, 64, 67, 0.15);\n",
              "      fill: #174EA6;\n",
              "    }\n",
              "\n",
              "    [theme=dark] .colab-df-convert {\n",
              "      background-color: #3B4455;\n",
              "      fill: #D2E3FC;\n",
              "    }\n",
              "\n",
              "    [theme=dark] .colab-df-convert:hover {\n",
              "      background-color: #434B5C;\n",
              "      box-shadow: 0px 1px 3px 1px rgba(0, 0, 0, 0.15);\n",
              "      filter: drop-shadow(0px 1px 2px rgba(0, 0, 0, 0.3));\n",
              "      fill: #FFFFFF;\n",
              "    }\n",
              "  </style>\n",
              "\n",
              "      <script>\n",
              "        const buttonEl =\n",
              "          document.querySelector('#df-817add64-95b9-4f83-9599-1fd63f031140 button.colab-df-convert');\n",
              "        buttonEl.style.display =\n",
              "          google.colab.kernel.accessAllowed ? 'block' : 'none';\n",
              "\n",
              "        async function convertToInteractive(key) {\n",
              "          const element = document.querySelector('#df-817add64-95b9-4f83-9599-1fd63f031140');\n",
              "          const dataTable =\n",
              "            await google.colab.kernel.invokeFunction('convertToInteractive',\n",
              "                                                     [key], {});\n",
              "          if (!dataTable) return;\n",
              "\n",
              "          const docLinkHtml = 'Like what you see? Visit the ' +\n",
              "            '<a target=\"_blank\" href=https://colab.research.google.com/notebooks/data_table.ipynb>data table notebook</a>'\n",
              "            + ' to learn more about interactive tables.';\n",
              "          element.innerHTML = '';\n",
              "          dataTable['output_type'] = 'display_data';\n",
              "          await google.colab.output.renderOutput(dataTable, element);\n",
              "          const docLink = document.createElement('div');\n",
              "          docLink.innerHTML = docLinkHtml;\n",
              "          element.appendChild(docLink);\n",
              "        }\n",
              "      </script>\n",
              "    </div>\n",
              "  </div>\n",
              "  "
            ]
          },
          "metadata": {},
          "execution_count": 6
        }
      ]
    },
    {
      "cell_type": "code",
      "source": [
        "career_name.nsmallest(5, 'AVG')"
      ],
      "metadata": {
        "colab": {
          "base_uri": "https://localhost:8080/",
          "height": 206
        },
        "id": "Z1ebNI_7XUfc",
        "outputId": "1a1a53ca-c627-4bde-b16e-7209892465f7"
      },
      "execution_count": 7,
      "outputs": [
        {
          "output_type": "execute_result",
          "data": {
            "text/plain": [
              "                  name    H   AB  AVG\n",
              "10   Frank Abercrombie  0.0  4.0  0.0\n",
              "136       Horace Allen  0.0  7.0  0.0\n",
              "144         Pete Allen  0.0  4.0  0.0\n",
              "177      Walter Alston  0.0  1.0  0.0\n",
              "210      Trey Amburgey  0.0  4.0  0.0"
            ],
            "text/html": [
              "\n",
              "  <div id=\"df-7331a832-e420-480f-b73c-79d036fe0d09\">\n",
              "    <div class=\"colab-df-container\">\n",
              "      <div>\n",
              "<style scoped>\n",
              "    .dataframe tbody tr th:only-of-type {\n",
              "        vertical-align: middle;\n",
              "    }\n",
              "\n",
              "    .dataframe tbody tr th {\n",
              "        vertical-align: top;\n",
              "    }\n",
              "\n",
              "    .dataframe thead th {\n",
              "        text-align: right;\n",
              "    }\n",
              "</style>\n",
              "<table border=\"1\" class=\"dataframe\">\n",
              "  <thead>\n",
              "    <tr style=\"text-align: right;\">\n",
              "      <th></th>\n",
              "      <th>name</th>\n",
              "      <th>H</th>\n",
              "      <th>AB</th>\n",
              "      <th>AVG</th>\n",
              "    </tr>\n",
              "  </thead>\n",
              "  <tbody>\n",
              "    <tr>\n",
              "      <th>10</th>\n",
              "      <td>Frank Abercrombie</td>\n",
              "      <td>0.0</td>\n",
              "      <td>4.0</td>\n",
              "      <td>0.0</td>\n",
              "    </tr>\n",
              "    <tr>\n",
              "      <th>136</th>\n",
              "      <td>Horace Allen</td>\n",
              "      <td>0.0</td>\n",
              "      <td>7.0</td>\n",
              "      <td>0.0</td>\n",
              "    </tr>\n",
              "    <tr>\n",
              "      <th>144</th>\n",
              "      <td>Pete Allen</td>\n",
              "      <td>0.0</td>\n",
              "      <td>4.0</td>\n",
              "      <td>0.0</td>\n",
              "    </tr>\n",
              "    <tr>\n",
              "      <th>177</th>\n",
              "      <td>Walter Alston</td>\n",
              "      <td>0.0</td>\n",
              "      <td>1.0</td>\n",
              "      <td>0.0</td>\n",
              "    </tr>\n",
              "    <tr>\n",
              "      <th>210</th>\n",
              "      <td>Trey Amburgey</td>\n",
              "      <td>0.0</td>\n",
              "      <td>4.0</td>\n",
              "      <td>0.0</td>\n",
              "    </tr>\n",
              "  </tbody>\n",
              "</table>\n",
              "</div>\n",
              "      <button class=\"colab-df-convert\" onclick=\"convertToInteractive('df-7331a832-e420-480f-b73c-79d036fe0d09')\"\n",
              "              title=\"Convert this dataframe to an interactive table.\"\n",
              "              style=\"display:none;\">\n",
              "        \n",
              "  <svg xmlns=\"http://www.w3.org/2000/svg\" height=\"24px\"viewBox=\"0 0 24 24\"\n",
              "       width=\"24px\">\n",
              "    <path d=\"M0 0h24v24H0V0z\" fill=\"none\"/>\n",
              "    <path d=\"M18.56 5.44l.94 2.06.94-2.06 2.06-.94-2.06-.94-.94-2.06-.94 2.06-2.06.94zm-11 1L8.5 8.5l.94-2.06 2.06-.94-2.06-.94L8.5 2.5l-.94 2.06-2.06.94zm10 10l.94 2.06.94-2.06 2.06-.94-2.06-.94-.94-2.06-.94 2.06-2.06.94z\"/><path d=\"M17.41 7.96l-1.37-1.37c-.4-.4-.92-.59-1.43-.59-.52 0-1.04.2-1.43.59L10.3 9.45l-7.72 7.72c-.78.78-.78 2.05 0 2.83L4 21.41c.39.39.9.59 1.41.59.51 0 1.02-.2 1.41-.59l7.78-7.78 2.81-2.81c.8-.78.8-2.07 0-2.86zM5.41 20L4 18.59l7.72-7.72 1.47 1.35L5.41 20z\"/>\n",
              "  </svg>\n",
              "      </button>\n",
              "      \n",
              "  <style>\n",
              "    .colab-df-container {\n",
              "      display:flex;\n",
              "      flex-wrap:wrap;\n",
              "      gap: 12px;\n",
              "    }\n",
              "\n",
              "    .colab-df-convert {\n",
              "      background-color: #E8F0FE;\n",
              "      border: none;\n",
              "      border-radius: 50%;\n",
              "      cursor: pointer;\n",
              "      display: none;\n",
              "      fill: #1967D2;\n",
              "      height: 32px;\n",
              "      padding: 0 0 0 0;\n",
              "      width: 32px;\n",
              "    }\n",
              "\n",
              "    .colab-df-convert:hover {\n",
              "      background-color: #E2EBFA;\n",
              "      box-shadow: 0px 1px 2px rgba(60, 64, 67, 0.3), 0px 1px 3px 1px rgba(60, 64, 67, 0.15);\n",
              "      fill: #174EA6;\n",
              "    }\n",
              "\n",
              "    [theme=dark] .colab-df-convert {\n",
              "      background-color: #3B4455;\n",
              "      fill: #D2E3FC;\n",
              "    }\n",
              "\n",
              "    [theme=dark] .colab-df-convert:hover {\n",
              "      background-color: #434B5C;\n",
              "      box-shadow: 0px 1px 3px 1px rgba(0, 0, 0, 0.15);\n",
              "      filter: drop-shadow(0px 1px 2px rgba(0, 0, 0, 0.3));\n",
              "      fill: #FFFFFF;\n",
              "    }\n",
              "  </style>\n",
              "\n",
              "      <script>\n",
              "        const buttonEl =\n",
              "          document.querySelector('#df-7331a832-e420-480f-b73c-79d036fe0d09 button.colab-df-convert');\n",
              "        buttonEl.style.display =\n",
              "          google.colab.kernel.accessAllowed ? 'block' : 'none';\n",
              "\n",
              "        async function convertToInteractive(key) {\n",
              "          const element = document.querySelector('#df-7331a832-e420-480f-b73c-79d036fe0d09');\n",
              "          const dataTable =\n",
              "            await google.colab.kernel.invokeFunction('convertToInteractive',\n",
              "                                                     [key], {});\n",
              "          if (!dataTable) return;\n",
              "\n",
              "          const docLinkHtml = 'Like what you see? Visit the ' +\n",
              "            '<a target=\"_blank\" href=https://colab.research.google.com/notebooks/data_table.ipynb>data table notebook</a>'\n",
              "            + ' to learn more about interactive tables.';\n",
              "          element.innerHTML = '';\n",
              "          dataTable['output_type'] = 'display_data';\n",
              "          await google.colab.output.renderOutput(dataTable, element);\n",
              "          const docLink = document.createElement('div');\n",
              "          docLink.innerHTML = docLinkHtml;\n",
              "          element.appendChild(docLink);\n",
              "        }\n",
              "      </script>\n",
              "    </div>\n",
              "  </div>\n",
              "  "
            ]
          },
          "metadata": {},
          "execution_count": 7
        }
      ]
    },
    {
      "cell_type": "code",
      "source": [
        "career_name['AVG'].plot.hist(xlim=[0.15, 0.35], bins=200, xlabel='average', ylabel='count')"
      ],
      "metadata": {
        "colab": {
          "base_uri": "https://localhost:8080/",
          "height": 282
        },
        "id": "JTOaOJszXcC3",
        "outputId": "db869bb9-5551-4bf2-d820-33ff8988724c"
      },
      "execution_count": 8,
      "outputs": [
        {
          "output_type": "execute_result",
          "data": {
            "text/plain": [
              "<matplotlib.axes._subplots.AxesSubplot at 0x7f2a3ccca150>"
            ]
          },
          "metadata": {},
          "execution_count": 8
        },
        {
          "output_type": "display_data",
          "data": {
            "text/plain": [
              "<Figure size 432x288 with 1 Axes>"
            ],
            "image/png": "[encoded data removed]"
          },
          "metadata": {
            "needs_background": "light"
          }
        }
      ]
    },
    {
      "cell_type": "markdown",
      "source": [
        "---\n",
        "Fitting the overall AVG with beta distribution. Getting the approximated $α, β$ \n",
        "\n",
        "---"
      ],
      "metadata": {
        "id": "in-Ux2sfCfQA"
      }
    },
    {
      "cell_type": "code",
      "source": [
        "from scipy.stats import beta\n",
        "career_filter = career_name[career_name.AB > 500]\n",
        "a0, b0, loc1, scale1 = beta.fit(career_filter['AVG'], floc=0, fscale=1)\n",
        "print(\"alpha =\", a0, \"\\n\", \"beta =\", b0)"
      ],
      "metadata": {
        "colab": {
          "base_uri": "https://localhost:8080/"
        },
        "id": "gkKWpXnycF4m",
        "outputId": "95ee4bb5-7e21-474e-bc20-fe3f5fec552d"
      },
      "execution_count": 9,
      "outputs": [
        {
          "output_type": "stream",
          "name": "stdout",
          "text": [
            "alpha = 79.6411398927643 \n",
            " beta = 228.55257615856598\n"
          ]
        }
      ]
    },
    {
      "cell_type": "code",
      "source": [
        "import matplotlib.pyplot as plt\n",
        "x = np.linspace(0, 1, 1000)\n",
        "y = beta.pdf(x, a0, b0)\n",
        "plt.plot(x, y)\n",
        "plt.hist(career_filter['AVG'], bins=200, density=True)\n",
        "plt.xlabel('Batting average')\n",
        "plt.ylabel('Density')\n",
        "plt.xlim(0.15, 0.4)\n",
        "plt.show()"
      ],
      "metadata": {
        "colab": {
          "base_uri": "https://localhost:8080/",
          "height": 279
        },
        "id": "LjY0udbkflo7",
        "outputId": "9ccfecaf-6323-4f38-e8ce-77b156e1e55c"
      },
      "execution_count": 10,
      "outputs": [
        {
          "output_type": "display_data",
          "data": {
            "text/plain": [
              "<Figure size 432x288 with 1 Axes>"
            ],
            "image/png": "[encoded data removed]"
          },
          "metadata": {
            "needs_background": "light"
          }
        }
      ]
    },
    {
      "cell_type": "markdown",
      "source": [
        "---\n",
        "[likelihood_analytical]: MLE of betabinomial model\n",
        "\n",
        "\n",
        "\\[likelihood]: Consider the following hierarchical moddel \n",
        "\n",
        "$μ_i = β_0 + β_1*lnAB_i+ϵ\\\\ α_i = \\frac{\\mu_i}{\\sigma} \\\\ \\beta_i=\\frac{1-\\mu_i}{\\sigma}\\\\ p_i∼Beta(α_i, \\beta_i)$\n",
        "\n",
        "and compute the MLE\n",
        "\n",
        "---"
      ],
      "metadata": {
        "id": "-a-Hxbq6ExBI"
      }
    },
    {
      "cell_type": "code",
      "source": [
        "from scipy.optimize import minimize\n",
        "from scipy import special\n",
        "from scipy import stats\n",
        "x_i = np.array(career_filter['AVG'])\n",
        "AB = np.array(career_filter['AB'])\n",
        "logAB = np.array(np.log(career_filter['AB']))\n",
        "H = np.array(career_filter['H'])\n",
        "def likelihood(para):\n",
        "  mu_i = para[0] + para[1] * logAB\n",
        "  A_i = mu_i / para[2] - 1\n",
        "  B_i = (1 - mu_i) / para[2] - 1 \n",
        "  return -1 * sum(A_i * np.log(x_i) + B_i * np.log(1 - x_i) - special.gammaln(A_i + 1) - special.gammaln(B_i + 1) + special.gammaln(1/para[2]))\n",
        "def likelihood_analytical(para):\n",
        "  a = para[0]\n",
        "  b = para[1]\n",
        "  return -1 * sum((stats.betabinom.logpmf(H, AB, a, b)))"
      ],
      "metadata": {
        "id": "8Du0chenMit9"
      },
      "execution_count": 11,
      "outputs": []
    },
    {
      "cell_type": "code",
      "source": [
        "print(H)\n",
        "print(stats.betabinom.pmf(H, AB, 79, 228))"
      ],
      "metadata": {
        "colab": {
          "base_uri": "https://localhost:8080/"
        },
        "id": "fh4kSwKHgf2b",
        "outputId": "0441cd73-0c1d-49d3-f5d6-824b3894f99c"
      },
      "execution_count": 12,
      "outputs": [
        {
          "output_type": "stream",
          "name": "stdout",
          "text": [
            "[3771.  216.  772. ...  518.  199.  364.]\n",
            "[0.00021914 0.00940388 0.00499551 ... 0.00063119 0.01683816 0.00670845]\n"
          ]
        }
      ]
    },
    {
      "cell_type": "markdown",
      "source": [
        "Compute the parameters $\\beta_0, \\beta_1, \\sigma$ of the hierarchical model"
      ],
      "metadata": {
        "id": "NvDOi86NKzBG"
      }
    },
    {
      "cell_type": "code",
      "source": [
        "para0 = np.array([0.14, 0.015, 0.002])\n",
        "res = minimize(likelihood, para0, method='nelder-mead', options={'xatol': 1e-8, 'disp': True})\n",
        "res.x"
      ],
      "metadata": {
        "colab": {
          "base_uri": "https://localhost:8080/"
        },
        "id": "GRSXrcI-Qewn",
        "outputId": "6047c946-12f7-4fc0-9635-f1df6c7d08db"
      },
      "execution_count": 13,
      "outputs": [
        {
          "output_type": "stream",
          "name": "stdout",
          "text": [
            "Optimization terminated successfully.\n",
            "         Current function value: -10452.862593\n",
            "         Iterations: 95\n",
            "         Function evaluations: 179\n"
          ]
        },
        {
          "output_type": "execute_result",
          "data": {
            "text/plain": [
              "array([0.13297191, 0.01642835, 0.00234517])"
            ]
          },
          "metadata": {},
          "execution_count": 13
        }
      ]
    },
    {
      "cell_type": "markdown",
      "source": [
        "---\n",
        "Compute the parameters $\\alpha, \\beta$ of the betabinomial model\n",
        "\n",
        "---"
      ],
      "metadata": {
        "id": "COjSQUkdLZvu"
      }
    },
    {
      "cell_type": "code",
      "source": [
        "para0 = np.array([50, 290])\n",
        "res = minimize(likelihood_analytical, para0, method='nelder-mead', options={'xatol': 1e-16, 'disp': True})\n",
        "a1, b1 = res.x\n",
        "res.x"
      ],
      "metadata": {
        "colab": {
          "base_uri": "https://localhost:8080/"
        },
        "id": "6QMiBpAhEW7i",
        "outputId": "12addda6-1d83-47b5-dfef-4bc6780f319e"
      },
      "execution_count": 14,
      "outputs": [
        {
          "output_type": "stream",
          "name": "stdout",
          "text": [
            "Optimization terminated successfully.\n",
            "         Current function value: 22947.704308\n",
            "         Iterations: 118\n",
            "         Function evaluations: 272\n"
          ]
        },
        {
          "output_type": "execute_result",
          "data": {
            "text/plain": [
              "array([101.82219115, 289.62396127])"
            ]
          },
          "metadata": {},
          "execution_count": 14
        }
      ]
    },
    {
      "cell_type": "code",
      "source": [
        "x = np.linspace(0, 1, 1000)\n",
        "y = beta.pdf(x, a0, b0)\n",
        "y_2 = beta.pdf(x, a1, b1)\n",
        "plt.plot(x, y, color='blue', label='approximation')\n",
        "plt.plot(x, y_2, color='green', label='analytical')\n",
        "plt.hist(career_filter['AVG'], bins=200, density=True)\n",
        "plt.xlabel('Batting average')\n",
        "plt.ylabel('Density')\n",
        "plt.xlim(0.15, 0.4)\n",
        "plt.legend()\n",
        "plt.show()"
      ],
      "metadata": {
        "colab": {
          "base_uri": "https://localhost:8080/",
          "height": 279
        },
        "id": "6SZMmuHkjXGm",
        "outputId": "f552dd4f-da0d-4329-bf50-527d2dd62faf"
      },
      "execution_count": 15,
      "outputs": [
        {
          "output_type": "display_data",
          "data": {
            "text/plain": [
              "<Figure size 432x288 with 1 Axes>"
            ],
            "image/png": "[encoded data removed]"
          },
          "metadata": {
            "needs_background": "light"
          }
        }
      ]
    },
    {
      "cell_type": "markdown",
      "source": [
        "---\n",
        "Consider the following model:\n",
        "\n",
        "$μ_i = β_0 + β_1*lnAB_i+\\beta_2*bats+ϵ\\\\ α_i = \\frac{\\mu_i}{\\sigma} \\\\ \\beta_i=\\frac{1-\\mu_i}{\\sigma}\\\\ p_i∼Beta(α_i, \\beta_i)$\n",
        "\n",
        "and compute the MLE\n",
        "\n",
        "---"
      ],
      "metadata": {
        "id": "5TEQmIjrfnXB"
      }
    },
    {
      "cell_type": "code",
      "source": [
        "career_filter = career_filter.assign(\n",
        "    AVG_approxi=lambda df: (df.H + a0) / (df.AB + a0 + b0),\n",
        "    AVG_analytical=lambda df: (df.H + a1) / (df.AB + a1 + b1))\n",
        "career_filter.head()"
      ],
      "metadata": {
        "colab": {
          "base_uri": "https://localhost:8080/",
          "height": 206
        },
        "id": "UBZdVH20Mm1c",
        "outputId": "1a52ab66-9656-4c90-8086-755cdaeab2ff"
      },
      "execution_count": 16,
      "outputs": [
        {
          "output_type": "execute_result",
          "data": {
            "text/plain": [
              "             name       H       AB       AVG  AVG_approxi  AVG_analytical\n",
              "0      Hank Aaron  3771.0  12364.0  0.304998     0.303865        0.303621\n",
              "1    Tommie Aaron   216.0    944.0  0.228814     0.236099        0.237990\n",
              "4  Ed Abbaticchio   772.0   3044.0  0.253614     0.254055        0.254355\n",
              "5     Fred Abbott   107.0    513.0  0.208577     0.227280        0.230884\n",
              "7     Jeff Abbott   157.0    596.0  0.263423     0.261715        0.262113"
            ],
            "text/html": [
              "\n",
              "  <div id=\"df-15a004e8-5478-4fd3-b024-665efbe0e37d\">\n",
              "    <div class=\"colab-df-container\">\n",
              "      <div>\n",
              "<style scoped>\n",
              "    .dataframe tbody tr th:only-of-type {\n",
              "        vertical-align: middle;\n",
              "    }\n",
              "\n",
              "    .dataframe tbody tr th {\n",
              "        vertical-align: top;\n",
              "    }\n",
              "\n",
              "    .dataframe thead th {\n",
              "        text-align: right;\n",
              "    }\n",
              "</style>\n",
              "<table border=\"1\" class=\"dataframe\">\n",
              "  <thead>\n",
              "    <tr style=\"text-align: right;\">\n",
              "      <th></th>\n",
              "      <th>name</th>\n",
              "      <th>H</th>\n",
              "      <th>AB</th>\n",
              "      <th>AVG</th>\n",
              "      <th>AVG_approxi</th>\n",
              "      <th>AVG_analytical</th>\n",
              "    </tr>\n",
              "  </thead>\n",
              "  <tbody>\n",
              "    <tr>\n",
              "      <th>0</th>\n",
              "      <td>Hank Aaron</td>\n",
              "      <td>3771.0</td>\n",
              "      <td>12364.0</td>\n",
              "      <td>0.304998</td>\n",
              "      <td>0.303865</td>\n",
              "      <td>0.303621</td>\n",
              "    </tr>\n",
              "    <tr>\n",
              "      <th>1</th>\n",
              "      <td>Tommie Aaron</td>\n",
              "      <td>216.0</td>\n",
              "      <td>944.0</td>\n",
              "      <td>0.228814</td>\n",
              "      <td>0.236099</td>\n",
              "      <td>0.237990</td>\n",
              "    </tr>\n",
              "    <tr>\n",
              "      <th>4</th>\n",
              "      <td>Ed Abbaticchio</td>\n",
              "      <td>772.0</td>\n",
              "      <td>3044.0</td>\n",
              "      <td>0.253614</td>\n",
              "      <td>0.254055</td>\n",
              "      <td>0.254355</td>\n",
              "    </tr>\n",
              "    <tr>\n",
              "      <th>5</th>\n",
              "      <td>Fred Abbott</td>\n",
              "      <td>107.0</td>\n",
              "      <td>513.0</td>\n",
              "      <td>0.208577</td>\n",
              "      <td>0.227280</td>\n",
              "      <td>0.230884</td>\n",
              "    </tr>\n",
              "    <tr>\n",
              "      <th>7</th>\n",
              "      <td>Jeff Abbott</td>\n",
              "      <td>157.0</td>\n",
              "      <td>596.0</td>\n",
              "      <td>0.263423</td>\n",
              "      <td>0.261715</td>\n",
              "      <td>0.262113</td>\n",
              "    </tr>\n",
              "  </tbody>\n",
              "</table>\n",
              "</div>\n",
              "      <button class=\"colab-df-convert\" onclick=\"convertToInteractive('df-15a004e8-5478-4fd3-b024-665efbe0e37d')\"\n",
              "              title=\"Convert this dataframe to an interactive table.\"\n",
              "              style=\"display:none;\">\n",
              "        \n",
              "  <svg xmlns=\"http://www.w3.org/2000/svg\" height=\"24px\"viewBox=\"0 0 24 24\"\n",
              "       width=\"24px\">\n",
              "    <path d=\"M0 0h24v24H0V0z\" fill=\"none\"/>\n",
              "    <path d=\"M18.56 5.44l.94 2.06.94-2.06 2.06-.94-2.06-.94-.94-2.06-.94 2.06-2.06.94zm-11 1L8.5 8.5l.94-2.06 2.06-.94-2.06-.94L8.5 2.5l-.94 2.06-2.06.94zm10 10l.94 2.06.94-2.06 2.06-.94-2.06-.94-.94-2.06-.94 2.06-2.06.94z\"/><path d=\"M17.41 7.96l-1.37-1.37c-.4-.4-.92-.59-1.43-.59-.52 0-1.04.2-1.43.59L10.3 9.45l-7.72 7.72c-.78.78-.78 2.05 0 2.83L4 21.41c.39.39.9.59 1.41.59.51 0 1.02-.2 1.41-.59l7.78-7.78 2.81-2.81c.8-.78.8-2.07 0-2.86zM5.41 20L4 18.59l7.72-7.72 1.47 1.35L5.41 20z\"/>\n",
              "  </svg>\n",
              "      </button>\n",
              "      \n",
              "  <style>\n",
              "    .colab-df-container {\n",
              "      display:flex;\n",
              "      flex-wrap:wrap;\n",
              "      gap: 12px;\n",
              "    }\n",
              "\n",
              "    .colab-df-convert {\n",
              "      background-color: #E8F0FE;\n",
              "      border: none;\n",
              "      border-radius: 50%;\n",
              "      cursor: pointer;\n",
              "      display: none;\n",
              "      fill: #1967D2;\n",
              "      height: 32px;\n",
              "      padding: 0 0 0 0;\n",
              "      width: 32px;\n",
              "    }\n",
              "\n",
              "    .colab-df-convert:hover {\n",
              "      background-color: #E2EBFA;\n",
              "      box-shadow: 0px 1px 2px rgba(60, 64, 67, 0.3), 0px 1px 3px 1px rgba(60, 64, 67, 0.15);\n",
              "      fill: #174EA6;\n",
              "    }\n",
              "\n",
              "    [theme=dark] .colab-df-convert {\n",
              "      background-color: #3B4455;\n",
              "      fill: #D2E3FC;\n",
              "    }\n",
              "\n",
              "    [theme=dark] .colab-df-convert:hover {\n",
              "      background-color: #434B5C;\n",
              "      box-shadow: 0px 1px 3px 1px rgba(0, 0, 0, 0.15);\n",
              "      filter: drop-shadow(0px 1px 2px rgba(0, 0, 0, 0.3));\n",
              "      fill: #FFFFFF;\n",
              "    }\n",
              "  </style>\n",
              "\n",
              "      <script>\n",
              "        const buttonEl =\n",
              "          document.querySelector('#df-15a004e8-5478-4fd3-b024-665efbe0e37d button.colab-df-convert');\n",
              "        buttonEl.style.display =\n",
              "          google.colab.kernel.accessAllowed ? 'block' : 'none';\n",
              "\n",
              "        async function convertToInteractive(key) {\n",
              "          const element = document.querySelector('#df-15a004e8-5478-4fd3-b024-665efbe0e37d');\n",
              "          const dataTable =\n",
              "            await google.colab.kernel.invokeFunction('convertToInteractive',\n",
              "                                                     [key], {});\n",
              "          if (!dataTable) return;\n",
              "\n",
              "          const docLinkHtml = 'Like what you see? Visit the ' +\n",
              "            '<a target=\"_blank\" href=https://colab.research.google.com/notebooks/data_table.ipynb>data table notebook</a>'\n",
              "            + ' to learn more about interactive tables.';\n",
              "          element.innerHTML = '';\n",
              "          dataTable['output_type'] = 'display_data';\n",
              "          await google.colab.output.renderOutput(dataTable, element);\n",
              "          const docLink = document.createElement('div');\n",
              "          docLink.innerHTML = docLinkHtml;\n",
              "          element.appendChild(docLink);\n",
              "        }\n",
              "      </script>\n",
              "    </div>\n",
              "  </div>\n",
              "  "
            ]
          },
          "metadata": {},
          "execution_count": 16
        }
      ]
    },
    {
      "cell_type": "code",
      "source": [
        "print(career_filter['AVG'].std(), career_filter['AVG_analytical'].std(), career_filter['AVG_approxi'].std())"
      ],
      "metadata": {
        "colab": {
          "base_uri": "https://localhost:8080/"
        },
        "id": "CPbdoNpom7zz",
        "outputId": "dd02afeb-e3b3-4b4c-ca18-2ff2189d5188"
      },
      "execution_count": 17,
      "outputs": [
        {
          "output_type": "stream",
          "name": "stdout",
          "text": [
            "0.02485229476400437 0.02005403473980877 0.02088416052274367\n"
          ]
        }
      ]
    },
    {
      "cell_type": "code",
      "source": [
        "people = pd.read_csv(\"https://github.com/WellFan/bayesian_with_baseball/blob/main/baseballdatabank-2022.2/core/People.csv?raw=true\")\n",
        "master2 = (people[['playerID', 'nameFirst', 'nameLast', 'bats']]\n",
        "           .assign(name=lambda df: df.nameFirst+' '+df.nameLast)\n",
        "           .drop(columns=['nameFirst', 'nameLast']))\n",
        "career_name2 = pd.merge(master2, career, how='inner', on='playerID')\n",
        "career_name2 = (career_name2.drop(columns = 'playerID')\n",
        "                .loc[~career_name2.bats.isnull()]\n",
        "                .assign(bats = (career_name2.bats=='R').astype('int'))\n",
        "                .loc[career_name2['AB']>500])\n",
        "career_name2.head()"
      ],
      "metadata": {
        "colab": {
          "base_uri": "https://localhost:8080/",
          "height": 206
        },
        "id": "SqtC0kqcaUk4",
        "outputId": "576abf26-f68f-4c36-99bd-df2b5a80fab1"
      },
      "execution_count": 18,
      "outputs": [
        {
          "output_type": "execute_result",
          "data": {
            "text/plain": [
              "   bats            name       H       AB       AVG\n",
              "0     1      Hank Aaron  3771.0  12364.0  0.304998\n",
              "1     1    Tommie Aaron   216.0    944.0  0.228814\n",
              "4     1  Ed Abbaticchio   772.0   3044.0  0.253614\n",
              "5     1     Fred Abbott   107.0    513.0  0.208577\n",
              "7     1     Jeff Abbott   157.0    596.0  0.263423"
            ],
            "text/html": [
              "\n",
              "  <div id=\"df-45f15edf-43ec-4fda-9233-1b86c216dbd8\">\n",
              "    <div class=\"colab-df-container\">\n",
              "      <div>\n",
              "<style scoped>\n",
              "    .dataframe tbody tr th:only-of-type {\n",
              "        vertical-align: middle;\n",
              "    }\n",
              "\n",
              "    .dataframe tbody tr th {\n",
              "        vertical-align: top;\n",
              "    }\n",
              "\n",
              "    .dataframe thead th {\n",
              "        text-align: right;\n",
              "    }\n",
              "</style>\n",
              "<table border=\"1\" class=\"dataframe\">\n",
              "  <thead>\n",
              "    <tr style=\"text-align: right;\">\n",
              "      <th></th>\n",
              "      <th>bats</th>\n",
              "      <th>name</th>\n",
              "      <th>H</th>\n",
              "      <th>AB</th>\n",
              "      <th>AVG</th>\n",
              "    </tr>\n",
              "  </thead>\n",
              "  <tbody>\n",
              "    <tr>\n",
              "      <th>0</th>\n",
              "      <td>1</td>\n",
              "      <td>Hank Aaron</td>\n",
              "      <td>3771.0</td>\n",
              "      <td>12364.0</td>\n",
              "      <td>0.304998</td>\n",
              "    </tr>\n",
              "    <tr>\n",
              "      <th>1</th>\n",
              "      <td>1</td>\n",
              "      <td>Tommie Aaron</td>\n",
              "      <td>216.0</td>\n",
              "      <td>944.0</td>\n",
              "      <td>0.228814</td>\n",
              "    </tr>\n",
              "    <tr>\n",
              "      <th>4</th>\n",
              "      <td>1</td>\n",
              "      <td>Ed Abbaticchio</td>\n",
              "      <td>772.0</td>\n",
              "      <td>3044.0</td>\n",
              "      <td>0.253614</td>\n",
              "    </tr>\n",
              "    <tr>\n",
              "      <th>5</th>\n",
              "      <td>1</td>\n",
              "      <td>Fred Abbott</td>\n",
              "      <td>107.0</td>\n",
              "      <td>513.0</td>\n",
              "      <td>0.208577</td>\n",
              "    </tr>\n",
              "    <tr>\n",
              "      <th>7</th>\n",
              "      <td>1</td>\n",
              "      <td>Jeff Abbott</td>\n",
              "      <td>157.0</td>\n",
              "      <td>596.0</td>\n",
              "      <td>0.263423</td>\n",
              "    </tr>\n",
              "  </tbody>\n",
              "</table>\n",
              "</div>\n",
              "      <button class=\"colab-df-convert\" onclick=\"convertToInteractive('df-45f15edf-43ec-4fda-9233-1b86c216dbd8')\"\n",
              "              title=\"Convert this dataframe to an interactive table.\"\n",
              "              style=\"display:none;\">\n",
              "        \n",
              "  <svg xmlns=\"http://www.w3.org/2000/svg\" height=\"24px\"viewBox=\"0 0 24 24\"\n",
              "       width=\"24px\">\n",
              "    <path d=\"M0 0h24v24H0V0z\" fill=\"none\"/>\n",
              "    <path d=\"M18.56 5.44l.94 2.06.94-2.06 2.06-.94-2.06-.94-.94-2.06-.94 2.06-2.06.94zm-11 1L8.5 8.5l.94-2.06 2.06-.94-2.06-.94L8.5 2.5l-.94 2.06-2.06.94zm10 10l.94 2.06.94-2.06 2.06-.94-2.06-.94-.94-2.06-.94 2.06-2.06.94z\"/><path d=\"M17.41 7.96l-1.37-1.37c-.4-.4-.92-.59-1.43-.59-.52 0-1.04.2-1.43.59L10.3 9.45l-7.72 7.72c-.78.78-.78 2.05 0 2.83L4 21.41c.39.39.9.59 1.41.59.51 0 1.02-.2 1.41-.59l7.78-7.78 2.81-2.81c.8-.78.8-2.07 0-2.86zM5.41 20L4 18.59l7.72-7.72 1.47 1.35L5.41 20z\"/>\n",
              "  </svg>\n",
              "      </button>\n",
              "      \n",
              "  <style>\n",
              "    .colab-df-container {\n",
              "      display:flex;\n",
              "      flex-wrap:wrap;\n",
              "      gap: 12px;\n",
              "    }\n",
              "\n",
              "    .colab-df-convert {\n",
              "      background-color: #E8F0FE;\n",
              "      border: none;\n",
              "      border-radius: 50%;\n",
              "      cursor: pointer;\n",
              "      display: none;\n",
              "      fill: #1967D2;\n",
              "      height: 32px;\n",
              "      padding: 0 0 0 0;\n",
              "      width: 32px;\n",
              "    }\n",
              "\n",
              "    .colab-df-convert:hover {\n",
              "      background-color: #E2EBFA;\n",
              "      box-shadow: 0px 1px 2px rgba(60, 64, 67, 0.3), 0px 1px 3px 1px rgba(60, 64, 67, 0.15);\n",
              "      fill: #174EA6;\n",
              "    }\n",
              "\n",
              "    [theme=dark] .colab-df-convert {\n",
              "      background-color: #3B4455;\n",
              "      fill: #D2E3FC;\n",
              "    }\n",
              "\n",
              "    [theme=dark] .colab-df-convert:hover {\n",
              "      background-color: #434B5C;\n",
              "      box-shadow: 0px 1px 3px 1px rgba(0, 0, 0, 0.15);\n",
              "      filter: drop-shadow(0px 1px 2px rgba(0, 0, 0, 0.3));\n",
              "      fill: #FFFFFF;\n",
              "    }\n",
              "  </style>\n",
              "\n",
              "      <script>\n",
              "        const buttonEl =\n",
              "          document.querySelector('#df-45f15edf-43ec-4fda-9233-1b86c216dbd8 button.colab-df-convert');\n",
              "        buttonEl.style.display =\n",
              "          google.colab.kernel.accessAllowed ? 'block' : 'none';\n",
              "\n",
              "        async function convertToInteractive(key) {\n",
              "          const element = document.querySelector('#df-45f15edf-43ec-4fda-9233-1b86c216dbd8');\n",
              "          const dataTable =\n",
              "            await google.colab.kernel.invokeFunction('convertToInteractive',\n",
              "                                                     [key], {});\n",
              "          if (!dataTable) return;\n",
              "\n",
              "          const docLinkHtml = 'Like what you see? Visit the ' +\n",
              "            '<a target=\"_blank\" href=https://colab.research.google.com/notebooks/data_table.ipynb>data table notebook</a>'\n",
              "            + ' to learn more about interactive tables.';\n",
              "          element.innerHTML = '';\n",
              "          dataTable['output_type'] = 'display_data';\n",
              "          await google.colab.output.renderOutput(dataTable, element);\n",
              "          const docLink = document.createElement('div');\n",
              "          docLink.innerHTML = docLinkHtml;\n",
              "          element.appendChild(docLink);\n",
              "        }\n",
              "      </script>\n",
              "    </div>\n",
              "  </div>\n",
              "  "
            ]
          },
          "metadata": {},
          "execution_count": 18
        }
      ]
    },
    {
      "cell_type": "code",
      "source": [
        "x_i = np.array(career_name2['AVG'])\n",
        "logAB = np.array(np.log(career_name2['AB']))\n",
        "bats = np.array(career_name2['bats'])\n",
        "def likelihood2(para):\n",
        "  mu_i = para[0] + para[1] * logAB + para[2] * bats\n",
        "  A_i = mu_i / para[3] - 1\n",
        "  B_i = (1 - mu_i) / para[3] - 1 \n",
        "  return -1 * sum(A_i * np.log(x_i) + B_i * np.log(1 - x_i) - special.gammaln(A_i + 1) - special.gammaln(B_i + 1) + special.gammaln(1/para[3]))"
      ],
      "metadata": {
        "id": "13MjrTfTlEpe"
      },
      "execution_count": 19,
      "outputs": []
    },
    {
      "cell_type": "code",
      "source": [
        "para0 = np.array([0.14, 0.015, -0.01, 0.002])\n",
        "res = minimize(likelihood2, para0, method='nelder-mead', options={'xatol': 1e-8, 'disp': True})\n",
        "res.x"
      ],
      "metadata": {
        "colab": {
          "base_uri": "https://localhost:8080/"
        },
        "id": "hWUdY8xiwhUX",
        "outputId": "ea171ded-da6d-4e04-c355-e206f4f7350f"
      },
      "execution_count": 20,
      "outputs": [
        {
          "output_type": "stream",
          "name": "stdout",
          "text": [
            "Optimization terminated successfully.\n",
            "         Current function value: -10404.444435\n",
            "         Iterations: 160\n",
            "         Function evaluations: 294\n"
          ]
        },
        {
          "output_type": "execute_result",
          "data": {
            "text/plain": [
              "array([ 0.1386039 ,  0.01620308, -0.00661675,  0.00228272])"
            ]
          },
          "metadata": {},
          "execution_count": 20
        }
      ]
    },
    {
      "cell_type": "markdown",
      "source": [
        "---\n",
        "Draw the posterior distribution of \n",
        "\n",
        "[r, l]: different handedness\n",
        "\n",
        "\n",
        "[number]: different at bats\n",
        "\n",
        "---"
      ],
      "metadata": {
        "id": "p1D2esIPgIZy"
      }
    },
    {
      "cell_type": "code",
      "source": [
        "x = np.linspace(0, 1, 1000)\n",
        "lr = [1,0] * 5\n",
        "ab = [1, 1, 10, 10, 100, 100, 1000, 1000, 10000, 10000]\n",
        "lr = np.array(lr)\n",
        "ab = np.array(ab)\n",
        "lnab = np.log(ab)\n",
        "y = np.zeros((1000, 10))\n",
        "y = pd.DataFrame(y)\n",
        "for i in range(10):\n",
        "  y[i] = beta.pdf(x, (res.x[0] + res.x[1] * lnab[i] + res.x[2] * lr[i]) / res.x[3], (1 - (res.x[0] + res.x[1] * lnab[i] + res.x[2] * lr[i])) / res.x[3])\n",
        "for i in range(10):\n",
        "  plt.plot(x, y[i], label=str(\"r\" if lr[i] == 1 else \"l\") + str(10**(i // 2)))\n",
        "plt.legend()\n",
        "plt.xlim(0, 0.4)\n",
        "plt.show()"
      ],
      "metadata": {
        "id": "Gf4EjjuZx7MB",
        "colab": {
          "base_uri": "https://localhost:8080/",
          "height": 265
        },
        "outputId": "0e19ebbf-1649-4af8-eee5-f7a8cc1fdbcc"
      },
      "execution_count": 21,
      "outputs": [
        {
          "output_type": "display_data",
          "data": {
            "text/plain": [
              "<Figure size 432x288 with 1 Axes>"
            ],
            "image/png": "[encoded data removed]"
          },
          "metadata": {
            "needs_background": "light"
          }
        }
      ]
    },
    {
      "cell_type": "markdown",
      "source": [
        "---\n",
        "\n",
        "\n",
        "\n",
        "Compute the credible interval of different kinds of batter\n",
        "\n",
        "---"
      ],
      "metadata": {
        "id": "308QA3PShmrT"
      }
    },
    {
      "cell_type": "code",
      "source": [
        "var = [[3, 10], [30, 100], [300, 1000]]\n",
        "def leftinterval(list):\n",
        "  alpha_prior = (res.x[0] + res.x[1] * np.log(list[1]) + res.x[2] * 0) / res.x[3]\n",
        "  beta_prior = (1 - (res.x[0] + res.x[1] * np.log(list[1]) + res.x[2] * 0)) / res.x[3]\n",
        "  alpha_post = alpha_prior + list[0]\n",
        "  beta_post = beta_prior + list[1] - list[0]\n",
        "  return [beta.ppf(0.025, alpha_post, beta_post), beta.ppf(0.975, alpha_post, beta_post)]\n",
        "def rightinterval(list):\n",
        "  alpha_prior = (res.x[0] + res.x[1] * np.log(list[1]) + res.x[2] * 1) / res.x[3]\n",
        "  beta_prior = (1 - (res.x[0] + res.x[1] * np.log(list[1]) + res.x[2] * 1)) / res.x[3]\n",
        "  alpha_post = alpha_prior + list[0]\n",
        "  beta_post = beta_prior + list[1] - list[0]\n",
        "  return [beta.ppf(0.025, alpha_post, beta_post), beta.ppf(0.975, alpha_post, beta_post)]\n",
        "print(\"left when 3/10\", leftinterval(var[0]), \"\\nright when 3/10\", rightinterval(var[0]))\n",
        "print(\"left when 30/100\", leftinterval(var[1]), \"\\nright when 30/100\", rightinterval(var[1]))\n",
        "print(\"left when 300/1000\", leftinterval(var[2]), \"\\nright when 300/1000\", rightinterval(var[2]))"
      ],
      "metadata": {
        "colab": {
          "base_uri": "https://localhost:8080/"
        },
        "id": "JHsvVojhGlu1",
        "outputId": "ae265ff1-843c-4165-d344-e995d7e0b5bd"
      },
      "execution_count": 22,
      "outputs": [
        {
          "output_type": "stream",
          "name": "stdout",
          "text": [
            "left when 3/10 [0.14464514414479654, 0.21543521779249564] \n",
            "right when 3/10 [0.13871477769031015, 0.20848201419969337]\n",
            "left when 30/100 [0.1948359550427392, 0.2657682508847931] \n",
            "right when 30/100 [0.1897651276126152, 0.2601028986794264]\n",
            "left when 300/1000 [0.2618972675639635, 0.3085301700541036] \n",
            "right when 300/1000 [0.25993421721377297, 0.3064672691630672]\n"
          ]
        }
      ]
    },
    {
      "cell_type": "markdown",
      "source": [
        "---\n",
        "\n",
        "Stan package is designed for bayesian research. \n",
        "\n",
        "We construct our model and store it in a string or a file, then Stan will use C to compile our code\n",
        "\n",
        "---"
      ],
      "metadata": {
        "id": "MvMH5sEjie1A"
      }
    },
    {
      "cell_type": "code",
      "source": [
        "import stan\n",
        "import arviz as az\n",
        "!pip install nest_asyncio\n",
        "import nest_asyncio\n",
        "nest_asyncio.apply()"
      ],
      "metadata": {
        "colab": {
          "base_uri": "https://localhost:8080/"
        },
        "id": "munJmjKDmcfJ",
        "outputId": "0358b036-f273-49c3-fb88-5e0e3db55a65"
      },
      "execution_count": 25,
      "outputs": [
        {
          "output_type": "stream",
          "name": "stdout",
          "text": [
            "Looking in indexes: https://pypi.org/simple, https://us-python.pkg.dev/colab-wheels/public/simple/\n",
            "Collecting nest_asyncio\n",
            "  Downloading nest_asyncio-1.5.6-py3-none-any.whl (5.2 kB)\n",
            "Installing collected packages: nest-asyncio\n",
            "Successfully installed nest-asyncio-1.5.6\n"
          ]
        }
      ]
    },
    {
      "cell_type": "code",
      "source": [
        "text2='''\n",
        "data{\n",
        "  int<lower=0> N;\n",
        "  int<lower=0> AB[N];\n",
        "  int<lower=0> H[N];\n",
        "}\n",
        "parameters{\n",
        "  real<lower=80, upper=120> alpha;\n",
        "  real<lower=210, upper=290> beta;\n",
        "}\n",
        "model{\n",
        "  H~beta_binomial(AB, alpha, beta);\n",
        "}\n",
        "'''\n",
        "stan_data = {'N':4245, 'AB':list(career_name2['AB'].astype(int)), 'H': list(career_name2['H'].astype(int))}\n",
        "posterior = stan.build(text2, data=stan_data)\n",
        "fit = posterior.sample(num_chains=1, num_samples=1000)\n",
        "df = fit.to_frame()"
      ],
      "metadata": {
        "colab": {
          "base_uri": "https://localhost:8080/"
        },
        "id": "25_O0osfmlRl",
        "outputId": "b6820021-f81b-492d-97a2-9bb5e34c0888"
      },
      "execution_count": 26,
      "outputs": [
        {
          "output_type": "stream",
          "name": "stdout",
          "text": [
            "Building...\n"
          ]
        },
        {
          "output_type": "stream",
          "name": "stderr",
          "text": [
            "\n",
            "Building: 52.2s, done.Messages from stanc:\n",
            "Warning: Your Stan program has a parameter beta with a lower and upper bound in its declaration. These hard constraints are not recommended, for two reasons: (a) Except when there are logical or physical constraints, it is very unusual for you to be sure that a parameter will fall inside a specified range, and (b) The infinite gradient induced by a hard constraint can cause difficulties for Stan's sampling algorithm. As a consequence, we recommend soft constraints rather than hard constraints; for example, instead of constraining an elasticity parameter to fall between 0, and 1, leave it unconstrained and give it a normal(0.5,0.5) prior distribution.\n",
            "Warning: Your Stan program has a parameter alpha with a lower and upper bound in its declaration. These hard constraints are not recommended, for two reasons: (a) Except when there are logical or physical constraints, it is very unusual for you to be sure that a parameter will fall inside a specified range, and (b) The infinite gradient induced by a hard constraint can cause difficulties for Stan's sampling algorithm. As a consequence, we recommend soft constraints rather than hard constraints; for example, instead of constraining an elasticity parameter to fall between 0, and 1, leave it unconstrained and give it a normal(0.5,0.5) prior distribution.\n",
            "Warning: The parameter beta has no priors.\n",
            "Warning: The parameter alpha has no priors.\n",
            "Sampling:   0%\n",
            "Sampling:   0% (1/2000)\n",
            "Sampling:   5% (100/2000)\n",
            "Sampling:  10% (200/2000)\n",
            "Sampling:  15% (300/2000)\n",
            "Sampling:  20% (400/2000)\n",
            "Sampling:  25% (500/2000)\n",
            "Sampling:  30% (600/2000)\n",
            "Sampling:  35% (700/2000)\n",
            "Sampling:  40% (800/2000)\n",
            "Sampling:  45% (900/2000)\n",
            "Sampling:  50% (1001/2000)\n",
            "Sampling:  55% (1100/2000)\n",
            "Sampling:  60% (1200/2000)\n",
            "Sampling:  65% (1300/2000)\n",
            "Sampling:  70% (1400/2000)\n",
            "Sampling:  75% (1500/2000)\n",
            "Sampling:  80% (1600/2000)\n",
            "Sampling:  90% (1800/2000)\n",
            "Sampling: 100% (2000/2000)\n",
            "Sampling: 100% (2000/2000), done.\n",
            "Messages received during sampling:\n",
            "  Gradient evaluation took 0.000932 seconds\n",
            "  1000 transitions using 10 leapfrog steps per transition would take 9.32 seconds.\n",
            "  Adjust your expectations accordingly!\n"
          ]
        }
      ]
    },
    {
      "cell_type": "code",
      "source": [
        "print(\"beta =\", df.beta.mean(), 'alpha =', df.alpha.mean())\n",
        "az.summary(fit)"
      ],
      "metadata": {
        "colab": {
          "base_uri": "https://localhost:8080/",
          "height": 147
        },
        "id": "kddWpS8KmsD5",
        "outputId": "41a5a30c-4415-4b56-fbeb-1d70c19a975d"
      },
      "execution_count": 27,
      "outputs": [
        {
          "output_type": "stream",
          "name": "stdout",
          "text": [
            "beta = 283.48771544395413 alpha = 99.75026434753401\n"
          ]
        },
        {
          "output_type": "stream",
          "name": "stderr",
          "text": [
            "Shape validation failed: input_shape: (1, 1000), minimum_shape: (chains=2, draws=4)\n"
          ]
        },
        {
          "output_type": "execute_result",
          "data": {
            "text/plain": [
              "          mean     sd   hdi_3%  hdi_97%  mcse_mean  mcse_sd  ess_bulk  \\\n",
              "alpha   99.750  1.471   97.541  101.985      0.938    0.763       3.0   \n",
              "beta   283.488  4.156  277.652  289.909      2.663    2.170       3.0   \n",
              "\n",
              "       ess_tail  r_hat  \n",
              "alpha      38.0    NaN  \n",
              "beta       34.0    NaN  "
            ],
            "text/html": [
              "\n",
              "  <div id=\"df-e39df1c2-611f-4327-8ba5-36ee98edec25\">\n",
              "    <div class=\"colab-df-container\">\n",
              "      <div>\n",
              "<style scoped>\n",
              "    .dataframe tbody tr th:only-of-type {\n",
              "        vertical-align: middle;\n",
              "    }\n",
              "\n",
              "    .dataframe tbody tr th {\n",
              "        vertical-align: top;\n",
              "    }\n",
              "\n",
              "    .dataframe thead th {\n",
              "        text-align: right;\n",
              "    }\n",
              "</style>\n",
              "<table border=\"1\" class=\"dataframe\">\n",
              "  <thead>\n",
              "    <tr style=\"text-align: right;\">\n",
              "      <th></th>\n",
              "      <th>mean</th>\n",
              "      <th>sd</th>\n",
              "      <th>hdi_3%</th>\n",
              "      <th>hdi_97%</th>\n",
              "      <th>mcse_mean</th>\n",
              "      <th>mcse_sd</th>\n",
              "      <th>ess_bulk</th>\n",
              "      <th>ess_tail</th>\n",
              "      <th>r_hat</th>\n",
              "    </tr>\n",
              "  </thead>\n",
              "  <tbody>\n",
              "    <tr>\n",
              "      <th>alpha</th>\n",
              "      <td>99.750</td>\n",
              "      <td>1.471</td>\n",
              "      <td>97.541</td>\n",
              "      <td>101.985</td>\n",
              "      <td>0.938</td>\n",
              "      <td>0.763</td>\n",
              "      <td>3.0</td>\n",
              "      <td>38.0</td>\n",
              "      <td>NaN</td>\n",
              "    </tr>\n",
              "    <tr>\n",
              "      <th>beta</th>\n",
              "      <td>283.488</td>\n",
              "      <td>4.156</td>\n",
              "      <td>277.652</td>\n",
              "      <td>289.909</td>\n",
              "      <td>2.663</td>\n",
              "      <td>2.170</td>\n",
              "      <td>3.0</td>\n",
              "      <td>34.0</td>\n",
              "      <td>NaN</td>\n",
              "    </tr>\n",
              "  </tbody>\n",
              "</table>\n",
              "</div>\n",
              "      <button class=\"colab-df-convert\" onclick=\"convertToInteractive('df-e39df1c2-611f-4327-8ba5-36ee98edec25')\"\n",
              "              title=\"Convert this dataframe to an interactive table.\"\n",
              "              style=\"display:none;\">\n",
              "        \n",
              "  <svg xmlns=\"http://www.w3.org/2000/svg\" height=\"24px\"viewBox=\"0 0 24 24\"\n",
              "       width=\"24px\">\n",
              "    <path d=\"M0 0h24v24H0V0z\" fill=\"none\"/>\n",
              "    <path d=\"M18.56 5.44l.94 2.06.94-2.06 2.06-.94-2.06-.94-.94-2.06-.94 2.06-2.06.94zm-11 1L8.5 8.5l.94-2.06 2.06-.94-2.06-.94L8.5 2.5l-.94 2.06-2.06.94zm10 10l.94 2.06.94-2.06 2.06-.94-2.06-.94-.94-2.06-.94 2.06-2.06.94z\"/><path d=\"M17.41 7.96l-1.37-1.37c-.4-.4-.92-.59-1.43-.59-.52 0-1.04.2-1.43.59L10.3 9.45l-7.72 7.72c-.78.78-.78 2.05 0 2.83L4 21.41c.39.39.9.59 1.41.59.51 0 1.02-.2 1.41-.59l7.78-7.78 2.81-2.81c.8-.78.8-2.07 0-2.86zM5.41 20L4 18.59l7.72-7.72 1.47 1.35L5.41 20z\"/>\n",
              "  </svg>\n",
              "      </button>\n",
              "      \n",
              "  <style>\n",
              "    .colab-df-container {\n",
              "      display:flex;\n",
              "      flex-wrap:wrap;\n",
              "      gap: 12px;\n",
              "    }\n",
              "\n",
              "    .colab-df-convert {\n",
              "      background-color: #E8F0FE;\n",
              "      border: none;\n",
              "      border-radius: 50%;\n",
              "      cursor: pointer;\n",
              "      display: none;\n",
              "      fill: #1967D2;\n",
              "      height: 32px;\n",
              "      padding: 0 0 0 0;\n",
              "      width: 32px;\n",
              "    }\n",
              "\n",
              "    .colab-df-convert:hover {\n",
              "      background-color: #E2EBFA;\n",
              "      box-shadow: 0px 1px 2px rgba(60, 64, 67, 0.3), 0px 1px 3px 1px rgba(60, 64, 67, 0.15);\n",
              "      fill: #174EA6;\n",
              "    }\n",
              "\n",
              "    [theme=dark] .colab-df-convert {\n",
              "      background-color: #3B4455;\n",
              "      fill: #D2E3FC;\n",
              "    }\n",
              "\n",
              "    [theme=dark] .colab-df-convert:hover {\n",
              "      background-color: #434B5C;\n",
              "      box-shadow: 0px 1px 3px 1px rgba(0, 0, 0, 0.15);\n",
              "      filter: drop-shadow(0px 1px 2px rgba(0, 0, 0, 0.3));\n",
              "      fill: #FFFFFF;\n",
              "    }\n",
              "  </style>\n",
              "\n",
              "      <script>\n",
              "        const buttonEl =\n",
              "          document.querySelector('#df-e39df1c2-611f-4327-8ba5-36ee98edec25 button.colab-df-convert');\n",
              "        buttonEl.style.display =\n",
              "          google.colab.kernel.accessAllowed ? 'block' : 'none';\n",
              "\n",
              "        async function convertToInteractive(key) {\n",
              "          const element = document.querySelector('#df-e39df1c2-611f-4327-8ba5-36ee98edec25');\n",
              "          const dataTable =\n",
              "            await google.colab.kernel.invokeFunction('convertToInteractive',\n",
              "                                                     [key], {});\n",
              "          if (!dataTable) return;\n",
              "\n",
              "          const docLinkHtml = 'Like what you see? Visit the ' +\n",
              "            '<a target=\"_blank\" href=https://colab.research.google.com/notebooks/data_table.ipynb>data table notebook</a>'\n",
              "            + ' to learn more about interactive tables.';\n",
              "          element.innerHTML = '';\n",
              "          dataTable['output_type'] = 'display_data';\n",
              "          await google.colab.output.renderOutput(dataTable, element);\n",
              "          const docLink = document.createElement('div');\n",
              "          docLink.innerHTML = docLinkHtml;\n",
              "          element.appendChild(docLink);\n",
              "        }\n",
              "      </script>\n",
              "    </div>\n",
              "  </div>\n",
              "  "
            ]
          },
          "metadata": {},
          "execution_count": 27
        }
      ]
    },
    {
      "cell_type": "markdown",
      "source": [
        "---\n",
        "\n",
        "The reason why alpha and beta are highly correlated is because the prior hitting average equals to $\\frac{\\alpha}{\\alpha + \\beta}$. In order to maintain the same prior, the ratio of alpha and beta is constant. \n",
        "\n",
        "---"
      ],
      "metadata": {
        "id": "B6I_1J3HklkK"
      }
    },
    {
      "cell_type": "code",
      "source": [
        "az.plot_pair(fit)"
      ],
      "metadata": {
        "colab": {
          "base_uri": "https://localhost:8080/",
          "height": 305
        },
        "id": "WWjVWfeanL5C",
        "outputId": "37b2b132-8738-4feb-9af7-75698c41873c"
      },
      "execution_count": 28,
      "outputs": [
        {
          "output_type": "execute_result",
          "data": {
            "text/plain": [
              "<matplotlib.axes._subplots.AxesSubplot at 0x7f2a21923ed0>"
            ]
          },
          "metadata": {},
          "execution_count": 28
        },
        {
          "output_type": "display_data",
          "data": {
            "text/plain": [
              "<Figure size 432x288 with 1 Axes>"
            ],
            "image/png": "[encoded data removed]"
          },
          "metadata": {
            "needs_background": "light"
          }
        }
      ]
    },
    {
      "cell_type": "markdown",
      "source": [
        "---\n",
        "\n",
        "Consider the following heirarchical model:\n",
        "\n",
        "$p_i\\sim Beta(\\alpha_i, \\beta_i)\\\\\n",
        "H_i\\sim Bin(AB_i, p_i)$\n",
        "\n",
        "Under our assumptions \n",
        "1. Good players have more opportunity \n",
        "2. Left hitters are different from right hitters\n",
        "\n",
        "Which means our model is\n",
        "\n",
        "$\\mu_i = \\beta_0+\\beta_1*logAB_i+\\beta_2*bat_i\\\\\n",
        "\\alpha_i = \\frac{\\mu_i}{\\sigma}\\\\ \n",
        "\\beta_i = \\frac{1-\\mu_i}{\\sigma}$\n",
        "\n",
        "\n",
        "---\n"
      ],
      "metadata": {
        "id": "0glf1ueBiNHO"
      }
    },
    {
      "cell_type": "code",
      "source": [
        "text='''\n",
        "data{\n",
        "  int<lower=0> N;\n",
        "  int<lower=0> AB[N];\n",
        "  real logAB[N];\n",
        "  int<lower=0> H[N];\n",
        "  int<lower=0, upper=1> bat[N];\n",
        "}\n",
        "parameters{\n",
        "  real<lower=0.13, upper=0.14> beta0;\n",
        "  real<lower=0.016, upper=0.017> beta1;\n",
        "  real<lower=-0.007, upper=-0.006> beta2;\n",
        "  real<lower=0.002, upper=0.003> sigma;\n",
        "}\n",
        "transformed parameters{\n",
        "  vector[N] mu_i;\n",
        "  vector[N] alpha_i;\n",
        "  vector[N] beta_i;\n",
        "  mu_i = beta0 + to_vector(logAB)*beta1  + to_vector(bat)*beta2;\n",
        "  alpha_i = mu_i/sigma;\n",
        "  beta_i = (1-mu_i)/sigma;\n",
        "}\n",
        "model{\n",
        "  beta0~normal(0,1);\n",
        "  beta1~normal(0,1);\n",
        "  beta2~normal(0,1);\n",
        "  sigma~normal(0,1);\n",
        "  H~beta_binomial(AB, alpha_i, beta_i);\n",
        "}\n",
        "'''\n",
        "# 0.1386039 ,  0.01620308, -0.00661675,  0.00228272]"
      ],
      "metadata": {
        "id": "r3EuVCIBnVsI"
      },
      "execution_count": 35,
      "outputs": []
    },
    {
      "cell_type": "code",
      "source": [
        "stan_data = {'N':4245, 'AB':list(career_name2['AB'].astype(int)), 'logAB': list(logAB), 'H': list(career_name2['H'].astype(int)), 'bat': list(bats.astype(int))}\n",
        "posterior = stan.build(text, data=stan_data)\n",
        "fit = posterior.sample(num_chains=1, num_samples=1000)\n",
        "df_hier = fit.to_frame()"
      ],
      "metadata": {
        "colab": {
          "base_uri": "https://localhost:8080/"
        },
        "id": "2zUmxl_cnakU",
        "outputId": "d6040f0a-9b93-4aa6-8de0-043ed9fe4e2f"
      },
      "execution_count": 36,
      "outputs": [
        {
          "output_type": "stream",
          "name": "stdout",
          "text": [
            "Building...\n"
          ]
        },
        {
          "output_type": "stream",
          "name": "stderr",
          "text": [
            "\n",
            "Building: 36.7s, done.Messages from stanc:\n",
            "Warning: Your Stan program has a parameter sigma with a lower and upper bound in its declaration. These hard constraints are not recommended, for two reasons: (a) Except when there are logical or physical constraints, it is very unusual for you to be sure that a parameter will fall inside a specified range, and (b) The infinite gradient induced by a hard constraint can cause difficulties for Stan's sampling algorithm. As a consequence, we recommend soft constraints rather than hard constraints; for example, instead of constraining an elasticity parameter to fall between 0, and 1, leave it unconstrained and give it a normal(0.5,0.5) prior distribution.\n",
            "Warning: Your Stan program has a parameter beta2 with a lower and upper bound in its declaration. These hard constraints are not recommended, for two reasons: (a) Except when there are logical or physical constraints, it is very unusual for you to be sure that a parameter will fall inside a specified range, and (b) The infinite gradient induced by a hard constraint can cause difficulties for Stan's sampling algorithm. As a consequence, we recommend soft constraints rather than hard constraints; for example, instead of constraining an elasticity parameter to fall between 0, and 1, leave it unconstrained and give it a normal(0.5,0.5) prior distribution.\n",
            "Warning: Your Stan program has a parameter beta1 with a lower and upper bound in its declaration. These hard constraints are not recommended, for two reasons: (a) Except when there are logical or physical constraints, it is very unusual for you to be sure that a parameter will fall inside a specified range, and (b) The infinite gradient induced by a hard constraint can cause difficulties for Stan's sampling algorithm. As a consequence, we recommend soft constraints rather than hard constraints; for example, instead of constraining an elasticity parameter to fall between 0, and 1, leave it unconstrained and give it a normal(0.5,0.5) prior distribution.\n",
            "Warning: Your Stan program has a parameter beta0 with a lower and upper bound in its declaration. These hard constraints are not recommended, for two reasons: (a) Except when there are logical or physical constraints, it is very unusual for you to be sure that a parameter will fall inside a specified range, and (b) The infinite gradient induced by a hard constraint can cause difficulties for Stan's sampling algorithm. As a consequence, we recommend soft constraints rather than hard constraints; for example, instead of constraining an elasticity parameter to fall between 0, and 1, leave it unconstrained and give it a normal(0.5,0.5) prior distribution.\n",
            "Sampling:   0%\n",
            "Sampling:   0% (1/2000)\n",
            "Sampling:   5% (100/2000)\n",
            "Sampling:  10% (200/2000)\n",
            "Sampling:  15% (300/2000)\n",
            "Sampling:  20% (400/2000)\n",
            "Sampling:  25% (500/2000)\n",
            "Sampling:  30% (600/2000)\n",
            "Sampling:  35% (700/2000)\n",
            "Sampling:  40% (800/2000)\n",
            "Sampling:  45% (900/2000)\n",
            "Sampling:  50% (1000/2000)\n",
            "Sampling:  50% (1001/2000)\n",
            "Sampling:  55% (1100/2000)\n",
            "Sampling:  60% (1200/2000)\n",
            "Sampling:  65% (1300/2000)\n",
            "Sampling:  70% (1400/2000)\n",
            "Sampling:  75% (1500/2000)\n",
            "Sampling:  80% (1600/2000)\n",
            "Sampling:  85% (1700/2000)\n",
            "Sampling:  90% (1800/2000)\n",
            "Sampling:  95% (1900/2000)\n",
            "Sampling: 100% (2000/2000)\n",
            "Sampling: 100% (2000/2000), done.\n",
            "Messages received during sampling:\n",
            "  Gradient evaluation took 0.003873 seconds\n",
            "  1000 transitions using 10 leapfrog steps per transition would take 38.73 seconds.\n",
            "  Adjust your expectations accordingly!\n"
          ]
        }
      ]
    },
    {
      "cell_type": "code",
      "source": [
        "az.summary(fit)"
      ],
      "metadata": {
        "id": "y-pDdyFKnhDe",
        "colab": {
          "base_uri": "https://localhost:8080/",
          "height": 441
        },
        "outputId": "5a597a6b-13c8-4202-e66c-7ae8d8357a6d"
      },
      "execution_count": 37,
      "outputs": [
        {
          "output_type": "stream",
          "name": "stderr",
          "text": [
            "Shape validation failed: input_shape: (1, 1000), minimum_shape: (chains=2, draws=4)\n"
          ]
        },
        {
          "output_type": "execute_result",
          "data": {
            "text/plain": [
              "                 mean     sd   hdi_3%  hdi_97%  mcse_mean  mcse_sd  ess_bulk  \\\n",
              "beta0           0.136  0.002    0.133    0.140      0.000    0.000     310.0   \n",
              "beta1           0.017  0.000    0.016    0.017      0.000    0.000     280.0   \n",
              "beta2          -0.006  0.000   -0.007   -0.006      0.000    0.000     571.0   \n",
              "sigma           0.002  0.000    0.002    0.002      0.000    0.000     331.0   \n",
              "mu_i[0]         0.285  0.001    0.284    0.286      0.000    0.000     455.0   \n",
              "...               ...    ...      ...      ...        ...      ...       ...   \n",
              "beta_i[4240]  363.066  1.473  360.162  364.903      0.059    0.042     428.0   \n",
              "beta_i[4241]  376.487  1.524  373.576  378.376      0.061    0.043     397.0   \n",
              "beta_i[4242]  368.802  1.491  365.970  370.728      0.060    0.042     397.0   \n",
              "beta_i[4243]  378.405  1.533  375.469  380.273      0.061    0.043     401.0   \n",
              "beta_i[4244]  371.261  1.505  368.475  373.147      0.060    0.043     396.0   \n",
              "\n",
              "              ess_tail  r_hat  \n",
              "beta0            308.0    NaN  \n",
              "beta1            281.0    NaN  \n",
              "beta2            512.0    NaN  \n",
              "sigma            172.0    NaN  \n",
              "mu_i[0]          590.0    NaN  \n",
              "...                ...    ...  \n",
              "beta_i[4240]     400.0    NaN  \n",
              "beta_i[4241]     422.0    NaN  \n",
              "beta_i[4242]     319.0    NaN  \n",
              "beta_i[4243]     461.0    NaN  \n",
              "beta_i[4244]     437.0    NaN  \n",
              "\n",
              "[12739 rows x 9 columns]"
            ],
            "text/html": [
              "\n",
              "  <div id=\"df-391701a9-9e2f-461c-a737-db76e8fbdd05\">\n",
              "    <div class=\"colab-df-container\">\n",
              "      <div>\n",
              "<style scoped>\n",
              "    .dataframe tbody tr th:only-of-type {\n",
              "        vertical-align: middle;\n",
              "    }\n",
              "\n",
              "    .dataframe tbody tr th {\n",
              "        vertical-align: top;\n",
              "    }\n",
              "\n",
              "    .dataframe thead th {\n",
              "        text-align: right;\n",
              "    }\n",
              "</style>\n",
              "<table border=\"1\" class=\"dataframe\">\n",
              "  <thead>\n",
              "    <tr style=\"text-align: right;\">\n",
              "      <th></th>\n",
              "      <th>mean</th>\n",
              "      <th>sd</th>\n",
              "      <th>hdi_3%</th>\n",
              "      <th>hdi_97%</th>\n",
              "      <th>mcse_mean</th>\n",
              "      <th>mcse_sd</th>\n",
              "      <th>ess_bulk</th>\n",
              "      <th>ess_tail</th>\n",
              "      <th>r_hat</th>\n",
              "    </tr>\n",
              "  </thead>\n",
              "  <tbody>\n",
              "    <tr>\n",
              "      <th>beta0</th>\n",
              "      <td>0.136</td>\n",
              "      <td>0.002</td>\n",
              "      <td>0.133</td>\n",
              "      <td>0.140</td>\n",
              "      <td>0.000</td>\n",
              "      <td>0.000</td>\n",
              "      <td>310.0</td>\n",
              "      <td>308.0</td>\n",
              "      <td>NaN</td>\n",
              "    </tr>\n",
              "    <tr>\n",
              "      <th>beta1</th>\n",
              "      <td>0.017</td>\n",
              "      <td>0.000</td>\n",
              "      <td>0.016</td>\n",
              "      <td>0.017</td>\n",
              "      <td>0.000</td>\n",
              "      <td>0.000</td>\n",
              "      <td>280.0</td>\n",
              "      <td>281.0</td>\n",
              "      <td>NaN</td>\n",
              "    </tr>\n",
              "    <tr>\n",
              "      <th>beta2</th>\n",
              "      <td>-0.006</td>\n",
              "      <td>0.000</td>\n",
              "      <td>-0.007</td>\n",
              "      <td>-0.006</td>\n",
              "      <td>0.000</td>\n",
              "      <td>0.000</td>\n",
              "      <td>571.0</td>\n",
              "      <td>512.0</td>\n",
              "      <td>NaN</td>\n",
              "    </tr>\n",
              "    <tr>\n",
              "      <th>sigma</th>\n",
              "      <td>0.002</td>\n",
              "      <td>0.000</td>\n",
              "      <td>0.002</td>\n",
              "      <td>0.002</td>\n",
              "      <td>0.000</td>\n",
              "      <td>0.000</td>\n",
              "      <td>331.0</td>\n",
              "      <td>172.0</td>\n",
              "      <td>NaN</td>\n",
              "    </tr>\n",
              "    <tr>\n",
              "      <th>mu_i[0]</th>\n",
              "      <td>0.285</td>\n",
              "      <td>0.001</td>\n",
              "      <td>0.284</td>\n",
              "      <td>0.286</td>\n",
              "      <td>0.000</td>\n",
              "      <td>0.000</td>\n",
              "      <td>455.0</td>\n",
              "      <td>590.0</td>\n",
              "      <td>NaN</td>\n",
              "    </tr>\n",
              "    <tr>\n",
              "      <th>...</th>\n",
              "      <td>...</td>\n",
              "      <td>...</td>\n",
              "      <td>...</td>\n",
              "      <td>...</td>\n",
              "      <td>...</td>\n",
              "      <td>...</td>\n",
              "      <td>...</td>\n",
              "      <td>...</td>\n",
              "      <td>...</td>\n",
              "    </tr>\n",
              "    <tr>\n",
              "      <th>beta_i[4240]</th>\n",
              "      <td>363.066</td>\n",
              "      <td>1.473</td>\n",
              "      <td>360.162</td>\n",
              "      <td>364.903</td>\n",
              "      <td>0.059</td>\n",
              "      <td>0.042</td>\n",
              "      <td>428.0</td>\n",
              "      <td>400.0</td>\n",
              "      <td>NaN</td>\n",
              "    </tr>\n",
              "    <tr>\n",
              "      <th>beta_i[4241]</th>\n",
              "      <td>376.487</td>\n",
              "      <td>1.524</td>\n",
              "      <td>373.576</td>\n",
              "      <td>378.376</td>\n",
              "      <td>0.061</td>\n",
              "      <td>0.043</td>\n",
              "      <td>397.0</td>\n",
              "      <td>422.0</td>\n",
              "      <td>NaN</td>\n",
              "    </tr>\n",
              "    <tr>\n",
              "      <th>beta_i[4242]</th>\n",
              "      <td>368.802</td>\n",
              "      <td>1.491</td>\n",
              "      <td>365.970</td>\n",
              "      <td>370.728</td>\n",
              "      <td>0.060</td>\n",
              "      <td>0.042</td>\n",
              "      <td>397.0</td>\n",
              "      <td>319.0</td>\n",
              "      <td>NaN</td>\n",
              "    </tr>\n",
              "    <tr>\n",
              "      <th>beta_i[4243]</th>\n",
              "      <td>378.405</td>\n",
              "      <td>1.533</td>\n",
              "      <td>375.469</td>\n",
              "      <td>380.273</td>\n",
              "      <td>0.061</td>\n",
              "      <td>0.043</td>\n",
              "      <td>401.0</td>\n",
              "      <td>461.0</td>\n",
              "      <td>NaN</td>\n",
              "    </tr>\n",
              "    <tr>\n",
              "      <th>beta_i[4244]</th>\n",
              "      <td>371.261</td>\n",
              "      <td>1.505</td>\n",
              "      <td>368.475</td>\n",
              "      <td>373.147</td>\n",
              "      <td>0.060</td>\n",
              "      <td>0.043</td>\n",
              "      <td>396.0</td>\n",
              "      <td>437.0</td>\n",
              "      <td>NaN</td>\n",
              "    </tr>\n",
              "  </tbody>\n",
              "</table>\n",
              "<p>12739 rows × 9 columns</p>\n",
              "</div>\n",
              "      <button class=\"colab-df-convert\" onclick=\"convertToInteractive('df-391701a9-9e2f-461c-a737-db76e8fbdd05')\"\n",
              "              title=\"Convert this dataframe to an interactive table.\"\n",
              "              style=\"display:none;\">\n",
              "        \n",
              "  <svg xmlns=\"http://www.w3.org/2000/svg\" height=\"24px\"viewBox=\"0 0 24 24\"\n",
              "       width=\"24px\">\n",
              "    <path d=\"M0 0h24v24H0V0z\" fill=\"none\"/>\n",
              "    <path d=\"M18.56 5.44l.94 2.06.94-2.06 2.06-.94-2.06-.94-.94-2.06-.94 2.06-2.06.94zm-11 1L8.5 8.5l.94-2.06 2.06-.94-2.06-.94L8.5 2.5l-.94 2.06-2.06.94zm10 10l.94 2.06.94-2.06 2.06-.94-2.06-.94-.94-2.06-.94 2.06-2.06.94z\"/><path d=\"M17.41 7.96l-1.37-1.37c-.4-.4-.92-.59-1.43-.59-.52 0-1.04.2-1.43.59L10.3 9.45l-7.72 7.72c-.78.78-.78 2.05 0 2.83L4 21.41c.39.39.9.59 1.41.59.51 0 1.02-.2 1.41-.59l7.78-7.78 2.81-2.81c.8-.78.8-2.07 0-2.86zM5.41 20L4 18.59l7.72-7.72 1.47 1.35L5.41 20z\"/>\n",
              "  </svg>\n",
              "      </button>\n",
              "      \n",
              "  <style>\n",
              "    .colab-df-container {\n",
              "      display:flex;\n",
              "      flex-wrap:wrap;\n",
              "      gap: 12px;\n",
              "    }\n",
              "\n",
              "    .colab-df-convert {\n",
              "      background-color: #E8F0FE;\n",
              "      border: none;\n",
              "      border-radius: 50%;\n",
              "      cursor: pointer;\n",
              "      display: none;\n",
              "      fill: #1967D2;\n",
              "      height: 32px;\n",
              "      padding: 0 0 0 0;\n",
              "      width: 32px;\n",
              "    }\n",
              "\n",
              "    .colab-df-convert:hover {\n",
              "      background-color: #E2EBFA;\n",
              "      box-shadow: 0px 1px 2px rgba(60, 64, 67, 0.3), 0px 1px 3px 1px rgba(60, 64, 67, 0.15);\n",
              "      fill: #174EA6;\n",
              "    }\n",
              "\n",
              "    [theme=dark] .colab-df-convert {\n",
              "      background-color: #3B4455;\n",
              "      fill: #D2E3FC;\n",
              "    }\n",
              "\n",
              "    [theme=dark] .colab-df-convert:hover {\n",
              "      background-color: #434B5C;\n",
              "      box-shadow: 0px 1px 3px 1px rgba(0, 0, 0, 0.15);\n",
              "      filter: drop-shadow(0px 1px 2px rgba(0, 0, 0, 0.3));\n",
              "      fill: #FFFFFF;\n",
              "    }\n",
              "  </style>\n",
              "\n",
              "      <script>\n",
              "        const buttonEl =\n",
              "          document.querySelector('#df-391701a9-9e2f-461c-a737-db76e8fbdd05 button.colab-df-convert');\n",
              "        buttonEl.style.display =\n",
              "          google.colab.kernel.accessAllowed ? 'block' : 'none';\n",
              "\n",
              "        async function convertToInteractive(key) {\n",
              "          const element = document.querySelector('#df-391701a9-9e2f-461c-a737-db76e8fbdd05');\n",
              "          const dataTable =\n",
              "            await google.colab.kernel.invokeFunction('convertToInteractive',\n",
              "                                                     [key], {});\n",
              "          if (!dataTable) return;\n",
              "\n",
              "          const docLinkHtml = 'Like what you see? Visit the ' +\n",
              "            '<a target=\"_blank\" href=https://colab.research.google.com/notebooks/data_table.ipynb>data table notebook</a>'\n",
              "            + ' to learn more about interactive tables.';\n",
              "          element.innerHTML = '';\n",
              "          dataTable['output_type'] = 'display_data';\n",
              "          await google.colab.output.renderOutput(dataTable, element);\n",
              "          const docLink = document.createElement('div');\n",
              "          docLink.innerHTML = docLinkHtml;\n",
              "          element.appendChild(docLink);\n",
              "        }\n",
              "      </script>\n",
              "    </div>\n",
              "  </div>\n",
              "  "
            ]
          },
          "metadata": {},
          "execution_count": 37
        }
      ]
    },
    {
      "cell_type": "code",
      "source": [
        "beta0_stan = df_hier.beta0.mean()\n",
        "beta1_stan = df_hier.beta1.mean()\n",
        "beta2_stan = df_hier.beta2.mean()\n",
        "sigma_stan = df_hier.sigma.mean()\n",
        "career_name2 = career_name2.assign(average_stan=lambda x: ((beta0_stan+beta1_stan*logAB+beta2_stan*bats)+sigma_stan*x['H'])/(1+sigma_stan*x['AB']))\n",
        "print(\"beta_0 =\", beta0_stan)\n",
        "print(\"beta_1 =\", beta1_stan)\n",
        "print(\"beta_2 =\", beta2_stan)\n",
        "print(\"sigma =\", sigma_stan)"
      ],
      "metadata": {
        "id": "AJdR6T32oAbR",
        "colab": {
          "base_uri": "https://localhost:8080/"
        },
        "outputId": "e30910ed-8f99-455f-aee1-c7d3f492f56b"
      },
      "execution_count": 46,
      "outputs": [
        {
          "output_type": "stream",
          "name": "stdout",
          "text": [
            "beta_0 = 0.13621221045568313\n",
            "beta_1 = 0.016500178790814446\n",
            "beta_2 = -0.006490809076295926\n",
            "sigma = 0.002008687699384842\n"
          ]
        }
      ]
    },
    {
      "cell_type": "markdown",
      "source": [
        "We found out that those data points with high at bats are close to the diagonal line. And those with low at bats are away from the red line. Intuitively, the information players give us are more credible when we observe more data about him. \n",
        "\n",
        "In contrary, those with poor observations bring us little information about them, so we need to bias our observation with our prior belief more.\n"
      ],
      "metadata": {
        "id": "3pvvAek0pfgm"
      }
    },
    {
      "cell_type": "code",
      "source": [
        "plt.scatter(career_name2['AVG'], career_name2['average_stan'], c=logAB, cmap='viridis')\n",
        "plt.plot(career_name2['AVG'], career_name2['AVG'], color='red')\n",
        "plt.colorbar()"
      ],
      "metadata": {
        "id": "g7J7vFkHoIMw",
        "colab": {
          "base_uri": "https://localhost:8080/",
          "height": 283
        },
        "outputId": "9b8be10d-38ec-4b22-f17b-672159478c38"
      },
      "execution_count": 51,
      "outputs": [
        {
          "output_type": "execute_result",
          "data": {
            "text/plain": [
              "<matplotlib.colorbar.Colorbar at 0x7f2a1dec6490>"
            ]
          },
          "metadata": {},
          "execution_count": 51
        },
        {
          "output_type": "display_data",
          "data": {
            "text/plain": [
              "<Figure size 432x288 with 2 Axes>"
            ],
            "image/png": "[encoded data removed]"
          },
          "metadata": {
            "needs_background": "light"
          }
        }
      ]
    }
  ]
}